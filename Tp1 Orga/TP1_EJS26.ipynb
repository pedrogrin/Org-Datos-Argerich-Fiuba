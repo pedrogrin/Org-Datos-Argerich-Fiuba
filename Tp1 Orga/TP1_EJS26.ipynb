{
  "nbformat": 4,
  "nbformat_minor": 0,
  "metadata": {
    "colab": {
      "provenance": []
    },
    "kernelspec": {
      "name": "python3",
      "display_name": "Python 3"
    },
    "language_info": {
      "name": "python"
    }
  },
  "cells": [
    {
      "cell_type": "markdown",
      "source": [
        "#S26 - Qué porcentaje de las versiones actuales son páginas que se editaron una sola vez (⭐)"
      ],
      "metadata": {
        "id": "hf9ARiSpuj9c"
      }
    },
    {
      "cell_type": "code",
      "execution_count": null,
      "metadata": {
        "id": "wvNtN4W-t25L",
        "colab": {
          "base_uri": "https://localhost:8080/"
        },
        "outputId": "d956d04c-468a-4bd8-97cd-ca87a9699ec7"
      },
      "outputs": [
        {
          "output_type": "stream",
          "name": "stdout",
          "text": [
            "Looking in indexes: https://pypi.org/simple, https://us-python.pkg.dev/colab-wheels/public/simple/\n",
            "Collecting pyspark\n",
            "  Downloading pyspark-3.4.0.tar.gz (310.8 MB)\n",
            "\u001b[2K     \u001b[90m━━━━━━━━━━━━━━━━━━━━━━━━━━━━━━━━━━━━━━━\u001b[0m \u001b[32m310.8/310.8 MB\u001b[0m \u001b[31m4.4 MB/s\u001b[0m eta \u001b[36m0:00:00\u001b[0m\n",
            "\u001b[?25h  Preparing metadata (setup.py) ... \u001b[?25l\u001b[?25hdone\n",
            "Requirement already satisfied: py4j==0.10.9.7 in /usr/local/lib/python3.10/dist-packages (from pyspark) (0.10.9.7)\n",
            "Building wheels for collected packages: pyspark\n",
            "  Building wheel for pyspark (setup.py) ... \u001b[?25l\u001b[?25hdone\n",
            "  Created wheel for pyspark: filename=pyspark-3.4.0-py2.py3-none-any.whl size=311317145 sha256=e5e852ace02c5287d039101dda1ec8e7ecb9a740684ca524a39ca684d8043102\n",
            "  Stored in directory: /root/.cache/pip/wheels/7b/1b/4b/3363a1d04368e7ff0d408e57ff57966fcdf00583774e761327\n",
            "Successfully built pyspark\n",
            "Installing collected packages: pyspark\n",
            "Successfully installed pyspark-3.4.0\n",
            "The following additional packages will be installed:\n",
            "  libxtst6 openjdk-8-jre-headless\n",
            "Suggested packages:\n",
            "  openjdk-8-demo openjdk-8-source libnss-mdns fonts-dejavu-extra\n",
            "  fonts-ipafont-gothic fonts-ipafont-mincho fonts-wqy-microhei\n",
            "  fonts-wqy-zenhei fonts-indic\n",
            "The following NEW packages will be installed:\n",
            "  libxtst6 openjdk-8-jdk-headless openjdk-8-jre-headless\n",
            "0 upgraded, 3 newly installed, 0 to remove and 24 not upgraded.\n",
            "Need to get 36.5 MB of archives.\n",
            "After this operation, 144 MB of additional disk space will be used.\n",
            "Selecting previously unselected package libxtst6:amd64.\n",
            "(Reading database ... 122519 files and directories currently installed.)\n",
            "Preparing to unpack .../libxtst6_2%3a1.2.3-1_amd64.deb ...\n",
            "Unpacking libxtst6:amd64 (2:1.2.3-1) ...\n",
            "Selecting previously unselected package openjdk-8-jre-headless:amd64.\n",
            "Preparing to unpack .../openjdk-8-jre-headless_8u362-ga-0ubuntu1~20.04.1_amd64.deb ...\n",
            "Unpacking openjdk-8-jre-headless:amd64 (8u362-ga-0ubuntu1~20.04.1) ...\n",
            "Selecting previously unselected package openjdk-8-jdk-headless:amd64.\n",
            "Preparing to unpack .../openjdk-8-jdk-headless_8u362-ga-0ubuntu1~20.04.1_amd64.deb ...\n",
            "Unpacking openjdk-8-jdk-headless:amd64 (8u362-ga-0ubuntu1~20.04.1) ...\n",
            "Setting up libxtst6:amd64 (2:1.2.3-1) ...\n",
            "Setting up openjdk-8-jre-headless:amd64 (8u362-ga-0ubuntu1~20.04.1) ...\n",
            "update-alternatives: using /usr/lib/jvm/java-8-openjdk-amd64/jre/bin/orbd to provide /usr/bin/orbd (orbd) in auto mode\n",
            "update-alternatives: using /usr/lib/jvm/java-8-openjdk-amd64/jre/bin/servertool to provide /usr/bin/servertool (servertool) in auto mode\n",
            "update-alternatives: using /usr/lib/jvm/java-8-openjdk-amd64/jre/bin/tnameserv to provide /usr/bin/tnameserv (tnameserv) in auto mode\n",
            "Setting up openjdk-8-jdk-headless:amd64 (8u362-ga-0ubuntu1~20.04.1) ...\n",
            "update-alternatives: using /usr/lib/jvm/java-8-openjdk-amd64/bin/idlj to provide /usr/bin/idlj (idlj) in auto mode\n",
            "update-alternatives: using /usr/lib/jvm/java-8-openjdk-amd64/bin/wsimport to provide /usr/bin/wsimport (wsimport) in auto mode\n",
            "update-alternatives: using /usr/lib/jvm/java-8-openjdk-amd64/bin/jsadebugd to provide /usr/bin/jsadebugd (jsadebugd) in auto mode\n",
            "update-alternatives: using /usr/lib/jvm/java-8-openjdk-amd64/bin/native2ascii to provide /usr/bin/native2ascii (native2ascii) in auto mode\n",
            "update-alternatives: using /usr/lib/jvm/java-8-openjdk-amd64/bin/javah to provide /usr/bin/javah (javah) in auto mode\n",
            "update-alternatives: using /usr/lib/jvm/java-8-openjdk-amd64/bin/hsdb to provide /usr/bin/hsdb (hsdb) in auto mode\n",
            "update-alternatives: using /usr/lib/jvm/java-8-openjdk-amd64/bin/clhsdb to provide /usr/bin/clhsdb (clhsdb) in auto mode\n",
            "update-alternatives: using /usr/lib/jvm/java-8-openjdk-amd64/bin/xjc to provide /usr/bin/xjc (xjc) in auto mode\n",
            "update-alternatives: using /usr/lib/jvm/java-8-openjdk-amd64/bin/schemagen to provide /usr/bin/schemagen (schemagen) in auto mode\n",
            "update-alternatives: using /usr/lib/jvm/java-8-openjdk-amd64/bin/extcheck to provide /usr/bin/extcheck (extcheck) in auto mode\n",
            "update-alternatives: using /usr/lib/jvm/java-8-openjdk-amd64/bin/jhat to provide /usr/bin/jhat (jhat) in auto mode\n",
            "update-alternatives: using /usr/lib/jvm/java-8-openjdk-amd64/bin/wsgen to provide /usr/bin/wsgen (wsgen) in auto mode\n",
            "Processing triggers for libc-bin (2.31-0ubuntu9.9) ...\n"
          ]
        }
      ],
      "source": [
        "!pip install pyspark\n",
        "!pip install -U -q PyDrive\n",
        "!apt install openjdk-8-jdk-headless -qq\n",
        "import os\n",
        "os.environ[\"JAVA_HOME\"] = \"/usr/lib/jvm/java-8-openjdk-amd64\""
      ]
    },
    {
      "cell_type": "code",
      "source": [
        "#from pydrive.auth import GoogleAuth\n",
        "#from pydrive.drive import GoogleDrive\n",
        "#from google.colab import auth\n",
        "#from oauth2client.client import GoogleCredentials\n",
        "from pyspark.sql import *\n",
        "from pyspark.sql.functions import *\n",
        "from pyspark import SparkContext\n",
        "from pyspark.sql import SQLContext\n",
        "import pandas as pd"
      ],
      "metadata": {
        "id": "9ilsXXMSwf8E"
      },
      "execution_count": null,
      "outputs": []
    },
    {
      "cell_type": "code",
      "source": [
        "#auth.authenticate_user()\n",
        "#gauth = GoogleAuth()\n",
        "#gauth.credentials = GoogleCredentials.get_application_default()\n",
        "#drive = GoogleDrive(gauth)"
      ],
      "metadata": {
        "id": "sJ39XWQJwhjP"
      },
      "execution_count": null,
      "outputs": []
    },
    {
      "cell_type": "code",
      "source": [
        "from google.colab import drive\n",
        "drive.mount('/content/drive')"
      ],
      "metadata": {
        "colab": {
          "base_uri": "https://localhost:8080/"
        },
        "id": "HhVB1067xyMS",
        "outputId": "ae64c549-2059-4210-a03c-da9ed4ab1f98"
      },
      "execution_count": null,
      "outputs": [
        {
          "output_type": "stream",
          "name": "stdout",
          "text": [
            "Mounted at /content/drive\n"
          ]
        }
      ]
    },
    {
      "cell_type": "code",
      "source": [
        "# create the Spark Session\n",
        "spark = SparkSession.builder.getOrCreate()\n",
        "\n",
        "# create the Spark Context\n",
        "sc = spark.sparkContext"
      ],
      "metadata": {
        "id": "axuHq1f7wkbH"
      },
      "execution_count": null,
      "outputs": []
    },
    {
      "cell_type": "code",
      "source": [
        "df = spark.read.format(\"csv\").option(\"header\", \"true\").option(\"inferSchema\", \"true\").load('/content/drive/MyDrive/Datasets/contents.csv')"
      ],
      "metadata": {
        "id": "VqfkRsnrwsSD"
      },
      "execution_count": null,
      "outputs": []
    },
    {
      "cell_type": "code",
      "source": [
        "contents_rdd = df.rdd"
      ],
      "metadata": {
        "id": "akyRm64Jx9I7"
      },
      "execution_count": null,
      "outputs": []
    },
    {
      "cell_type": "code",
      "source": [
        "contents_rdd"
      ],
      "metadata": {
        "colab": {
          "base_uri": "https://localhost:8080/"
        },
        "id": "poElBDPUzrli",
        "outputId": "191cbf65-4ec2-401a-a0c4-8a4515ca29ac"
      },
      "execution_count": null,
      "outputs": [
        {
          "output_type": "execute_result",
          "data": {
            "text/plain": [
              "MapPartitionsRDD[14] at javaToPython at NativeMethodAccessorImpl.java:0"
            ]
          },
          "metadata": {},
          "execution_count": 8
        }
      ]
    },
    {
      "cell_type": "code",
      "source": [
        "contents_rdd.getNumPartitions()"
      ],
      "metadata": {
        "colab": {
          "base_uri": "https://localhost:8080/"
        },
        "id": "MCwYT7J5zxkw",
        "outputId": "e583c08e-c808-4782-d07c-f6d6e8e3eec2"
      },
      "execution_count": null,
      "outputs": [
        {
          "output_type": "execute_result",
          "data": {
            "text/plain": [
              "5"
            ]
          },
          "metadata": {},
          "execution_count": 9
        }
      ]
    },
    {
      "cell_type": "code",
      "source": [
        "contents_rdd.take(20)"
      ],
      "metadata": {
        "colab": {
          "base_uri": "https://localhost:8080/"
        },
        "id": "tIjvh337zZr_",
        "outputId": "a6a404ef-23b7-4d8b-c4c5-3251a8a17d1f"
      },
      "execution_count": null,
      "outputs": [
        {
          "output_type": "execute_result",
          "data": {
            "text/plain": [
              "[Row(title='Dade City', id='270173', namespace='0', revision_id='119487500', parent_revision='107421575', revision_timestamp='2019-09-18T12:40:05Z', revisor_username='Aosbot', revisor_id='5045504', revisor_ip=None, revisor_comment='Mantenimiento de Control de autoridades'),\n",
              " Row(title='Categoría:Tratados de 1985', id='7140595', namespace='14', revision_id='91948211', parent_revision='86887108', revision_timestamp='2016-06-27T16:38:36Z', revisor_username='Sabbut', revisor_id='2075', revisor_ip=None, revisor_comment=None),\n",
              " Row(title='Manzanilla de oro', id='3130871', namespace='0', revision_id='31988275', parent_revision=None, revision_timestamp='2009-12-05T11:42:06Z', revisor_username='MILEPRI', revisor_id='319121', revisor_ip=None, revisor_comment='Redirigiendo a «[[Chrysanthellum americanum]]»'),\n",
              " Row(title='Luis Mantilla Guerrero', id='8841925', namespace='0', revision_id='129809090', parent_revision='125715288', revision_timestamp='2020-10-05T10:38:20Z', revisor_username='Born2bgratis', revisor_id='1213586', revisor_ip=None, revisor_comment='Correcciones ortográficas con [[Usuario:Benjavalero/Replacer|Replacer]] (herramienta en línea de revisión de errores)'),\n",
              " Row(title='Michael John Smith', id='804988', namespace='0', revision_id='9222922', parent_revision='7441152', revision_timestamp='2007-06-03T11:59:10Z', revisor_username='Jjvaca', revisor_id='113246', revisor_ip=None, revisor_comment=None),\n",
              " Row(title='Torneo Stevan Nešticki', id='8544956', namespace='0', revision_id='134846253', parent_revision='119233764', revision_timestamp='2021-04-17T21:04:12Z', revisor_username='Aosbot', revisor_id='5045504', revisor_ip=None, revisor_comment='[[PR:CW]]: Eliminando errores de sintaxis'),\n",
              " Row(title='Berzano', id='9977595', namespace='0', revision_id='137215450', parent_revision='137215444', revision_timestamp='2021-07-24T12:51:05Z', revisor_username='MrKeefeJohn', revisor_id='4958874', revisor_ip=None, revisor_comment=None),\n",
              " Row(title='Plantilla:Scoutbasketball', id='6603246', namespace='10', revision_id='79953230', parent_revision='79953143', revision_timestamp='2015-02-10T22:08:24Z', revisor_username='Ricardomm2', revisor_id='3518684', revisor_ip=None, revisor_comment=None),\n",
              " Row(title='Color gitano', id='6575067', namespace='0', revision_id='120291964', parent_revision='103203453', revision_timestamp='2019-10-14T13:02:28Z', revisor_username='Aosbot', revisor_id='5045504', revisor_ip=None, revisor_comment='Mantenimiento de Control de autoridades'),\n",
              " Row(title='Bill simpson (músico)', id='1958073', namespace='0', revision_id='20713904', parent_revision=None, revision_timestamp='2008-10-07T14:51:52Z', revisor_username='Muro Bot', revisor_id='341614', revisor_ip=None, revisor_comment='Bot: Creando redirección en minúsculas a [[Bill Simpson (músico)]]'),\n",
              " Row(title='Distrito de Beroun', id='8586301', namespace='0', revision_id='120168911', parent_revision='109701037', revision_timestamp='2019-10-10T20:50:20Z', revisor_username='Aosbot', revisor_id='5045504', revisor_ip=None, revisor_comment='Mantenimiento de Control de autoridades'),\n",
              " Row(title='Yuriy Semin', id='2359530', namespace='0', revision_id='74785147', parent_revision='34776214', revision_timestamp='2014-06-02T15:44:57Z', revisor_username='Allanbot', revisor_id='2256780', revisor_ip=None, revisor_comment='[[m:mw:PWB|Bot]]: Arreglando doble redirección hacia [[Yuri Siomin]]'),\n",
              " Row(title='Maite Albarrán', id='7934805', namespace='0', revision_id='136770080', parent_revision='136770067', revision_timestamp='2021-07-03T22:00:57Z', revisor_username='Laszaroh', revisor_id='5436965', revisor_ip=None, revisor_comment='Añadiendo la [[Categoría:Futbolistas del Sevilla Fútbol Club (femenino)]] mediante [[Wikipedia:HotCat|HotCat]]'),\n",
              " Row(title='Gilberto Gonzales Rojas', id='2677306', namespace='0', revision_id='28009709', parent_revision=None, revision_timestamp='2009-07-13T17:43:30Z', revisor_username='BOTijo', revisor_id='44399', revisor_ip=None, revisor_comment='BOT - #REDIRECT [[Gilberto González Rojas]]'),\n",
              " Row(title='Ido', id='19424', namespace='0', revision_id='130702094', parent_revision='130702093', revision_timestamp='2020-11-06T17:14:09Z', revisor_username='SeroBOT', revisor_id='4980693', revisor_ip=None, revisor_comment='Revertidos los cambios de [[Special:Contributions/181.26.40.109|181.26.40.109]] ([[User talk:181.26.40.109|disc.]]) a la última edición de Lojwe'),\n",
              " Row(title='Gladiolus sambucinus', id='6836715', namespace='0', revision_id='81154835', parent_revision=None, revision_timestamp='2015-04-02T16:40:18Z', revisor_username='MILEPRI', revisor_id='319121', revisor_ip=None, revisor_comment='Redirigiendo a «[[Babiana sambucina]]»'),\n",
              " Row(title='Plantacion', id='2182066', namespace='0', revision_id='22948349', parent_revision=None, revision_timestamp='2008-12-31T13:51:15Z', revisor_username='Muro Bot', revisor_id='341614', revisor_ip=None, revisor_comment='Bot: Creando redirección sin caracteres raros a [[Plantación]]'),\n",
              " Row(title='Kō Otani', id='3876837', namespace='0', revision_id='37621716', parent_revision=None, revision_timestamp='2010-06-01T13:03:38Z', revisor_username='Muro Bot', revisor_id='341614', revisor_ip=None, revisor_comment='Bot: Creando redirección a [[Kō Ōtani]]'),\n",
              " Row(title='Categoría:Revenge', id='6324636', namespace='14', revision_id='107035411', parent_revision='87927347', revision_timestamp='2018-04-14T22:01:29Z', revisor_username='&beer&love', revisor_id='4793688', revisor_ip=None, revisor_comment='Añadiendo la [[Categoría:Categorías de series de televisión]] mediante [[Wikipedia:HotCat|HotCat]]'),\n",
              " Row(title='Terapia de colon', id='8334769', namespace='0', revision_id='105290507', parent_revision=None, revision_timestamp='2018-01-31T16:26:09Z', revisor_username='Zeroth', revisor_id='275380', revisor_ip=None, revisor_comment='Página redirigida a [[Limpieza de colon]]')]"
            ]
          },
          "metadata": {},
          "execution_count": 10
        }
      ]
    },
    {
      "cell_type": "markdown",
      "source": [
        "Cuento con 1 si fue editado solo una vez (es decir no tiene parent revision) y con 0 si fue editado más de una vez (es decir tiene parent revision). A esta tupla le agrego un 1 para contabilizar los totales.\n",
        "Luego hago un reduce que devuelva una tupla, por un lado los que fueron editados una vez, y por otro los totales, para finalmente sacar el porcentaje."
      ],
      "metadata": {
        "id": "afBeF8DGoVnA"
      }
    },
    {
      "cell_type": "code",
      "source": [
        "un_edit, totales = contents_rdd.map(lambda x: (1 if x[4] == None else 0, 1)).reduce(lambda a,b: (a[0]+b[0], a[1]+b[1]))\n",
        "(un_edit / totales) * 100"
      ],
      "metadata": {
        "colab": {
          "base_uri": "https://localhost:8080/"
        },
        "id": "Ow7vtN4Fl9UV",
        "outputId": "9e2bad49-b6c9-4aa3-969d-29e737608335"
      },
      "execution_count": null,
      "outputs": [
        {
          "output_type": "execute_result",
          "data": {
            "text/plain": [
              "35.90088933616897"
            ]
          },
          "metadata": {},
          "execution_count": 19
        }
      ]
    }
  ]
}