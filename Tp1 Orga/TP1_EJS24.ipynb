{
  "nbformat": 4,
  "nbformat_minor": 0,
  "metadata": {
    "colab": {
      "provenance": []
    },
    "kernelspec": {
      "name": "python3",
      "display_name": "Python 3"
    },
    "language_info": {
      "name": "python"
    }
  },
  "cells": [
    {
      "cell_type": "markdown",
      "source": [
        "#24. Dado un tamaño de vocabulario parametrizable y una lista de stopwords también parametrizable implemente tf-IDF para los textos de los contenidos de forma distribuida. Debe obtener un vector por cada texto (⭐⭐⭐)."
      ],
      "metadata": {
        "id": "4LrKv2ziI13m"
      }
    },
    {
      "cell_type": "code",
      "execution_count": null,
      "metadata": {
        "id": "2eQ3-bxWIAfs"
      },
      "outputs": [],
      "source": [
        "!pip install pyspark\n",
        "!pip install -U -q PyDrive\n",
        "!apt install openjdk-8-jdk-headless -qq\n",
        "import os\n",
        "os.environ[\"JAVA_HOME\"] = \"/usr/lib/jvm/java-8-openjdk-amd64\""
      ]
    },
    {
      "cell_type": "code",
      "source": [
        "from pyspark.sql import *\n",
        "from pyspark.sql.functions import *\n",
        "from pyspark import SparkContext\n",
        "from pyspark.sql import SQLContext\n",
        "import pandas as pd"
      ],
      "metadata": {
        "id": "L9eKWHX_IXEK"
      },
      "execution_count": null,
      "outputs": []
    },
    {
      "cell_type": "code",
      "source": [
        "from google.colab import drive\n",
        "drive.mount('/content/drive')"
      ],
      "metadata": {
        "colab": {
          "base_uri": "https://localhost:8080/"
        },
        "id": "n3aj4u4nIcA9",
        "outputId": "a5bcb4b9-9f53-4fba-fd82-dd4f06a9b03f"
      },
      "execution_count": null,
      "outputs": [
        {
          "output_type": "stream",
          "name": "stdout",
          "text": [
            "Mounted at /content/drive\n"
          ]
        }
      ]
    },
    {
      "cell_type": "code",
      "source": [
        "# create the Spark Session\n",
        "spark = SparkSession.builder.getOrCreate()\n",
        "\n",
        "# create the Spark Context\n",
        "sc = spark.sparkContext"
      ],
      "metadata": {
        "id": "oU7eIaltIexT"
      },
      "execution_count": null,
      "outputs": []
    },
    {
      "cell_type": "code",
      "source": [
        "df = spark.read.csv('/content/drive/MyDrive/Datasets/contents_text_sample.csv', header=True, inferSchema=True, multiLine=True, escape='\"')"
      ],
      "metadata": {
        "id": "o1jSxMLjUrDK"
      },
      "execution_count": null,
      "outputs": []
    },
    {
      "cell_type": "code",
      "source": [
        "text_rdd = df.rdd"
      ],
      "metadata": {
        "id": "m0FiuCyLJNGj"
      },
      "execution_count": null,
      "outputs": []
    },
    {
      "cell_type": "code",
      "source": [
        "text_rdd"
      ],
      "metadata": {
        "id": "ZBH3DSXIJuJy",
        "colab": {
          "base_uri": "https://localhost:8080/"
        },
        "outputId": "a12bd0a8-7fe4-4d79-e0cc-22fbca8eca0f"
      },
      "execution_count": null,
      "outputs": [
        {
          "output_type": "execute_result",
          "data": {
            "text/plain": [
              "MapPartitionsRDD[8] at javaToPython at NativeMethodAccessorImpl.java:0"
            ]
          },
          "metadata": {},
          "execution_count": 7
        }
      ]
    },
    {
      "cell_type": "code",
      "source": [
        "text_rdd.getNumPartitions()"
      ],
      "metadata": {
        "id": "H3bIV1NYJyal",
        "colab": {
          "base_uri": "https://localhost:8080/"
        },
        "outputId": "03ab2206-bc24-453e-e03e-500f8dd9de92"
      },
      "execution_count": null,
      "outputs": [
        {
          "output_type": "execute_result",
          "data": {
            "text/plain": [
              "1"
            ]
          },
          "metadata": {},
          "execution_count": 8
        }
      ]
    },
    {
      "cell_type": "code",
      "source": [
        "text_rdd.take(2)"
      ],
      "metadata": {
        "id": "AGOiyM-9Jk0c"
      },
      "execution_count": null,
      "outputs": []
    },
    {
      "cell_type": "markdown",
      "source": [
        "Uso la libreria nltk para importarme un listado de stopwords en español"
      ],
      "metadata": {
        "id": "GVxomib9sY0B"
      }
    },
    {
      "cell_type": "code",
      "source": [
        "import nltk\n",
        "nltk.download('punkt')\n",
        "nltk.download('wordnet')\n",
        "nltk.download('stopwords')"
      ],
      "metadata": {
        "colab": {
          "base_uri": "https://localhost:8080/"
        },
        "id": "_05WyMf8MYOB",
        "outputId": "2e7ba602-9867-4ddc-c28f-186bf1ba8e4e"
      },
      "execution_count": null,
      "outputs": [
        {
          "output_type": "stream",
          "name": "stderr",
          "text": [
            "[nltk_data] Downloading package punkt to /root/nltk_data...\n",
            "[nltk_data]   Unzipping tokenizers/punkt.zip.\n",
            "[nltk_data] Downloading package wordnet to /root/nltk_data...\n",
            "[nltk_data] Downloading package stopwords to /root/nltk_data...\n",
            "[nltk_data]   Unzipping corpora/stopwords.zip.\n"
          ]
        },
        {
          "output_type": "execute_result",
          "data": {
            "text/plain": [
              "True"
            ]
          },
          "metadata": {},
          "execution_count": 10
        }
      ]
    },
    {
      "cell_type": "code",
      "source": [
        "from nltk.corpus import stopwords"
      ],
      "metadata": {
        "id": "V4hN_8lEMbsJ"
      },
      "execution_count": null,
      "outputs": []
    },
    {
      "cell_type": "code",
      "source": [
        "stopwordsEsp = stopwords.words('spanish')\n",
        "stopwordsEsp"
      ],
      "metadata": {
        "id": "HoRiIxK8Llgr"
      },
      "execution_count": null,
      "outputs": []
    },
    {
      "cell_type": "code",
      "source": [
        "from nltk.tokenize import word_tokenize"
      ],
      "metadata": {
        "id": "a9DNvaNQ0K6o"
      },
      "execution_count": null,
      "outputs": []
    },
    {
      "cell_type": "markdown",
      "source": [
        "Armo un RDD conformado por tuplas en donde esta el texto y luego un listado de palabras del texto"
      ],
      "metadata": {
        "id": "isymEueawLau"
      }
    },
    {
      "cell_type": "code",
      "source": [
        "textos_filtrados_rdd = text_rdd.filter(lambda x: x[2] != None).map(lambda x: (x[2] ,word_tokenize(x[2], language='spanish')))"
      ],
      "metadata": {
        "id": "Y884tWM2Qz6i"
      },
      "execution_count": null,
      "outputs": []
    },
    {
      "cell_type": "code",
      "source": [
        "cant_textos = textos_filtrados_rdd.count()"
      ],
      "metadata": {
        "id": "Y0fvXVGmUHja"
      },
      "execution_count": null,
      "outputs": []
    },
    {
      "cell_type": "code",
      "source": [
        "cant_textos"
      ],
      "metadata": {
        "id": "Wu9LDXVPUQo4"
      },
      "execution_count": null,
      "outputs": []
    },
    {
      "cell_type": "code",
      "source": [
        "textos_filtrados_rdd.take(2)"
      ],
      "metadata": {
        "id": "ha4sFk4XwAn7"
      },
      "execution_count": null,
      "outputs": []
    },
    {
      "cell_type": "markdown",
      "source": [
        "Me quedo con las palabras validas, estas son las que tienen caracteres del abecedario, y las que no integran el listado de stopwords. Además, las convierto a minuscula. Cacheo este RDD porque lo voy a usar varias veces"
      ],
      "metadata": {
        "id": "g0pH6FlZwUkU"
      }
    },
    {
      "cell_type": "code",
      "source": [
        "def palabras_validas (textos_con_palabras_invalidas, stopwords):\n",
        "  palabras_validas = []\n",
        "  listado_palabras = textos_con_palabras_invalidas[1]\n",
        "  texto = textos_con_palabras_invalidas[0]\n",
        "  for palabra in listado_palabras:\n",
        "    if palabra.isalpha():\n",
        "      palabra_minusc = palabra.lower()\n",
        "      if palabra_minusc not in stopwords:\n",
        "        palabras_validas.append(palabra_minusc)\n",
        "\n",
        "  return (texto, palabras_validas)"
      ],
      "metadata": {
        "id": "96CVluT0mYaF"
      },
      "execution_count": null,
      "outputs": []
    },
    {
      "cell_type": "code",
      "source": [
        "textos_con_palabras_rdd = textos_filtrados_rdd.map(lambda x: palabras_validas(x, stopwordsEsp)).cache()"
      ],
      "metadata": {
        "id": "ddF0OOS_mu-f"
      },
      "execution_count": null,
      "outputs": []
    },
    {
      "cell_type": "markdown",
      "source": [
        "Para seleccionar las n features que integraran mi vector cuento cuantas veces aparece cada palabra, y me quedo con las n que más aparezcan en todos mis textos"
      ],
      "metadata": {
        "id": "7RJrvT-_w8QD"
      }
    },
    {
      "cell_type": "code",
      "source": [
        "palabras_que_mas_aparecen = textos_con_palabras_rdd.map(lambda x: list(x[1])).flatMap(lambda x: x).map(lambda x: (x, 1)).countByKey()"
      ],
      "metadata": {
        "id": "KhhVF4xtoCkd"
      },
      "execution_count": null,
      "outputs": []
    },
    {
      "cell_type": "code",
      "source": [
        "def seleccionar_n_palabras_a_usar(palabras, n):\n",
        "  palabras_a_usar = list(sorted(palabras, key=palabras.get, reverse=True))[:n]\n",
        "  return palabras_a_usar\n",
        "\n",
        "palabras_a_usar = seleccionar_n_palabras_a_usar(palabras_que_mas_aparecen, 20)"
      ],
      "metadata": {
        "id": "7uwx58XbrttT"
      },
      "execution_count": null,
      "outputs": []
    },
    {
      "cell_type": "markdown",
      "source": [
        "Armo un RDD que este integrado por (texto, diccionario de cantidad). El diccionario de cantidad indica cuantas veces aparece cada palabra en el texto."
      ],
      "metadata": {
        "id": "ejSPS5XkziOC"
      }
    },
    {
      "cell_type": "code",
      "source": [
        "def cant_palabra_por_texto(texto_y_palabras):\n",
        "  cant_por_palabra = {}\n",
        "  for palabra in texto_y_palabras[1]:\n",
        "    if palabra in cant_por_palabra:\n",
        "      cant_por_palabra[palabra] +=1\n",
        "    else:\n",
        "      cant_por_palabra[palabra] = 1\n",
        "\n",
        "  return(texto_y_palabras[0], cant_por_palabra)"
      ],
      "metadata": {
        "id": "LCvxriAGbJNf"
      },
      "execution_count": null,
      "outputs": []
    },
    {
      "cell_type": "code",
      "source": [
        "frec_palabra_por_texto_rdd = textos_con_palabras_rdd.map(cant_palabra_por_texto)"
      ],
      "metadata": {
        "id": "hX-CApfia606"
      },
      "execution_count": null,
      "outputs": []
    },
    {
      "cell_type": "code",
      "source": [
        "frec_palabra_por_texto_rdd.take(2)"
      ],
      "metadata": {
        "id": "-PVsKhP7UVQM"
      },
      "execution_count": null,
      "outputs": []
    },
    {
      "cell_type": "markdown",
      "source": [
        "Ahora puedo calcular el tf"
      ],
      "metadata": {
        "id": "3q64QrgBz3Jt"
      }
    },
    {
      "cell_type": "code",
      "source": [
        "def calcular_tf(texto_y_palabras, palabras_a_usar):\n",
        "  tf = {}\n",
        "  palabras_por_cant = texto_y_palabras[1]\n",
        "  cantidad_de_palabras = len(palabras_por_cant)\n",
        "  for palabra in palabras_a_usar: #Lo calculo solo para las palabras que me interesan\n",
        "    if palabra in palabras_por_cant:\n",
        "      tf[palabra] = palabras_por_cant[palabra] / cantidad_de_palabras\n",
        "    else:\n",
        "      tf[palabra] = 0\n",
        "\n",
        "  return (texto_y_palabras[0], tf)"
      ],
      "metadata": {
        "id": "NHyQmaxLUq8A"
      },
      "execution_count": null,
      "outputs": []
    },
    {
      "cell_type": "code",
      "source": [
        "tf_por_palabra_rdd = frec_palabra_por_texto_rdd.map(lambda x: calcular_tf(x, palabras_a_usar))"
      ],
      "metadata": {
        "id": "h9vsuGC8Um4j"
      },
      "execution_count": null,
      "outputs": []
    },
    {
      "cell_type": "code",
      "source": [
        "tf_por_palabra_rdd.take(2)"
      ],
      "metadata": {
        "id": "P9repQDaVvZE"
      },
      "execution_count": null,
      "outputs": []
    },
    {
      "cell_type": "markdown",
      "source": [
        "Calculo las apariciones de palabras por texto. Es decir, si una palabra aparece dos veces en un texto solo la contabilizo una única vez para ese texto. Solo lo cuento para las n palabras que voy a usar"
      ],
      "metadata": {
        "id": "NVlicmo0z7g4"
      }
    },
    {
      "cell_type": "code",
      "source": [
        "apariciones_palabras = textos_con_palabras_rdd.map(lambda x: set(x[1])).flatMap(lambda x: x).filter(lambda x: x in palabras_a_usar).map(lambda x: (x, 1)).countByKey()"
      ],
      "metadata": {
        "id": "1K6lhjo6jujf"
      },
      "execution_count": null,
      "outputs": []
    },
    {
      "cell_type": "code",
      "source": [
        "apariciones_palabras"
      ],
      "metadata": {
        "id": "200RecjJWAGM",
        "colab": {
          "base_uri": "https://localhost:8080/"
        },
        "outputId": "e33c8643-4562-417b-9e0c-bfaa8d983469"
      },
      "execution_count": null,
      "outputs": [
        {
          "output_type": "execute_result",
          "data": {
            "text/plain": [
              "defaultdict(int,\n",
              "            {'categoría': 104785,\n",
              "             'ref': 61378,\n",
              "             'https': 32430,\n",
              "             'ficha': 65187,\n",
              "             'the': 26927,\n",
              "             'of': 34339,\n",
              "             'web': 29843,\n",
              "             'http': 46199,\n",
              "             'cita': 38310,\n",
              "             'año': 30495,\n",
              "             'años': 26861,\n",
              "             'archivo': 25467,\n",
              "             'br': 22798,\n",
              "             'nbsp': 12969,\n",
              "             'small': 12060,\n",
              "             'center': 16843,\n",
              "             'unidos': 18547,\n",
              "             'background': 6446,\n",
              "             'club': 9424,\n",
              "             'usuario': 1916})"
            ]
          },
          "metadata": {},
          "execution_count": 38
        }
      ]
    },
    {
      "cell_type": "markdown",
      "source": [
        "Calculo el IDF"
      ],
      "metadata": {
        "id": "XoQi3WyT1QWE"
      }
    },
    {
      "cell_type": "code",
      "source": [
        "import math\n",
        "def calcular_idf(cant_palabras_en_textos, cant_textos, palabras_a_usar):\n",
        "  idf_palabra = {}\n",
        "  for palabra in palabras_a_usar: #Lo calculo solo para las palabras que me interesan\n",
        "    if palabra in cant_palabras_en_textos:\n",
        "      apariciones = cant_palabras_en_textos[palabra]\n",
        "      idf_palabra[palabra] = math.log10((cant_textos + 1) / apariciones)\n",
        "    else:\n",
        "      idf_palabra[palabra] = 0\n",
        "\n",
        "  return idf_palabra"
      ],
      "metadata": {
        "id": "Lfws3VKVm00l"
      },
      "execution_count": null,
      "outputs": []
    },
    {
      "cell_type": "code",
      "source": [
        "idf_palabras = calcular_idf(apariciones_palabras, cant_textos, palabras_a_usar)"
      ],
      "metadata": {
        "id": "9LT7MyzNi52c"
      },
      "execution_count": null,
      "outputs": []
    },
    {
      "cell_type": "code",
      "source": [
        "idf_palabras"
      ],
      "metadata": {
        "id": "RRYwLXaOnxfa",
        "colab": {
          "base_uri": "https://localhost:8080/"
        },
        "outputId": "c561e3e2-a9a7-4d60-e385-71f38d12cc40"
      },
      "execution_count": null,
      "outputs": [
        {
          "output_type": "execute_result",
          "data": {
            "text/plain": [
              "{'ref': 0.5271196864257847,\n",
              " 'categoría': 0.2948333015524862,\n",
              " 'center': 1.088712970632922,\n",
              " 'cita': 0.7318202672984468,\n",
              " 'br': 0.9572356699592305,\n",
              " 'the': 0.8849444489380297,\n",
              " 'http': 0.6504998441405967,\n",
              " 'of': 0.7793447755389064,\n",
              " 'archivo': 0.9091546309799515,\n",
              " 'background': 1.5058421181052088,\n",
              " 'nbsp': 1.2022259290282105,\n",
              " 'small': 1.2337851114773921,\n",
              " 'usuario': 2.032736914538999,\n",
              " 'club': 1.3408971418384983,\n",
              " 'https': 0.8041854706085518,\n",
              " 'web': 0.8402899403617035,\n",
              " 'unidos': 1.046858747314909,\n",
              " 'ficha': 0.5009714246414839,\n",
              " 'año': 0.8309037815878048,\n",
              " 'años': 0.8860102424306711}"
            ]
          },
          "metadata": {},
          "execution_count": 43
        }
      ]
    },
    {
      "cell_type": "markdown",
      "source": [
        "Ahora puedo calcular el TFIDF. El RDD final queda como (texto, diccionario de TFIDF)"
      ],
      "metadata": {
        "id": "Ls6aiTV01e6D"
      }
    },
    {
      "cell_type": "code",
      "source": [
        "def calcular_tfidf(tf_palabras, idf):\n",
        "  tfidf_por_palabra = {}\n",
        "  for palabra in tf_palabras:\n",
        "    tfidf_por_palabra[palabra] =  tf_palabras[palabra] * idf[palabra]\n",
        "\n",
        "  return tfidf_por_palabra"
      ],
      "metadata": {
        "id": "bcJ3qwxMwRlI"
      },
      "execution_count": null,
      "outputs": []
    },
    {
      "cell_type": "code",
      "source": [
        "tfid_rdd = tf_por_palabra_rdd.map(lambda x: (x[0], calcular_tfidf(x[1], idf_palabras)))"
      ],
      "metadata": {
        "id": "Vx_HllcO1oZK"
      },
      "execution_count": null,
      "outputs": []
    },
    {
      "cell_type": "code",
      "source": [
        "tfid_rdd.take(10)"
      ],
      "metadata": {
        "id": "KhwIdCOmkigW",
        "colab": {
          "base_uri": "https://localhost:8080/"
        },
        "outputId": "1c00a5d7-bbef-4cfe-8b53-cefa87c52c33"
      },
      "execution_count": null,
      "outputs": [
        {
          "output_type": "execute_result",
          "data": {
            "text/plain": [
              "[(\"{{Ficha de taxón\\n| name = Anacardiáceas\\n| image = Gui1 cashewfruit2.jpg\\n| image_caption = ''[[Anacardium occidentale]]''\\n| regnum = [[Plantae]]\\n| divisio  = [[Magnoliophyta]]\\n| classis  = [[Magnoliopsida]]\\n| ordo = [[Sapindales]]\\n| familia = '''Anacardiaceae'''\\n| familia_authority = [[Robert Brown|R.Br.]]\\n| subdivision_ranks = Géneros\\n| subdivision = \\nVer texto\\n}}\\n'''Anacardiaceae''' es una [[familia (biología)|familia]] de [[Plantae|plantas]] esencialmente [[árbol|arbóreas]] y [[arbusto|arbustivas]] perteneciente al [[Orden (biología)|orden]] [[Sapindales]]. La constituyen 77 [[género (biología)|géneros]] con unas 700 especies aceptadas, de las casi 3000 descritas, propias de países tropicales, cálidos y templados.<ref>[http://www.theplantlist.org/1.1/browse/A/Anacardiaceae/ Anacardiaceae en The Plant List, vers. 1.1, 2013]</ref>\\n\\n== Descripción ==\\nSon árboles, arbustos, raramente subarbustos o [[trepadora]]s, frecuentemente con [[savia]] [[veneno]]sa. Son plantas [[dioica]]s, [[monoica]]s, andromonoicas, polígamas o [[hermafrodita]]s. Tienen [[hoja]]s alternas, raramente opuestas o verticiladas, simples o pinnaticompuestas, [[peciolo|pecioladas]] o sésiles, generalmente sin [[estípula]]s; cuando son compuestas, los [[folíolo]]s son opuestos o a veces alternos, de márgenes enteros, serrados o crenados. Las [[inflorescencia]]s son terminales y/o axilares, [[Tirso (inflorescencia)|tirsoides]], [[panícula|paniculadas]], [[racimo|racemosas]] o [[espiga|espigadas]], con [[bráctea]]s y [[bractéola]]s deciduas o persistentes, petaloides o foliosas, de [[flor]]es [[actinomorfa]]s, unisexuales o bisexuales, con [[hipanto]] a veces presente y [[perianto]] generalmente de 2 verticilos. El [[fruto]] es [[drupa|drupáceo]] o [[Sámara (fruto)|samaroide]], carnoso o seco, a veces con un ala lateral o marginal, ocasionalmente con el [[cáliz]] subyacente agrandado (''[[Astronium]]'') o unido a un hipocarpo carnoso (''[[Anacardium]]''). Las [[semilla]]s, en número de 1–12, poseen [[endosperma]] escaso o ausente, un embrión curvado o recto, los [[cotiledón|cotiledones]] generalmente libres, bilobados, iguales o plano-convexos.<ref name = Trop/>\\n\\n== Taxonomía ==\\n'''Anacardiaceae''' fue descrita por [[Robert Brown]] y publicado en ''[[Narrative of an Expedition to Explore the River Zaire]]'', p. 431, 1818.<ref name = Trop>{{cita web |url=http://www.tropicos.org/Name/42000260 |título= Anacardiaceae|fechaacceso=13 de julio de 2013 |obra=  Tropicos.org. [[Missouri Botanical Garden]]}}</ref>\\n\\n== Géneros ==\\n{{lista de columnas|3|\\n* ''[[Abrahamia]]''\\n* ''[[Actinocheita]]''\\n* ''[[Amphipterygium]]''\\n* ''[[Anacardium]]''\\n* ''[[Androtium]]''\\n* ''[[Antrocaryon]]''\\n* ''[[Apterokarpos]]''\\n* ''[[Astronium]]''\\n* ''[[Baronia (Anacardiaceae)|Baronia]]''\\n* ''[[Bonetiella]]''\\n* ''[[Bouea]]''\\n* ''[[Buchanania (Anacardiaceae)|Buchanania]]''\\n* ''[[Campnosperma]]''\\n* ''[[Cardenasiodendron]]''\\n* ''[[Choerospondias]]''\\n* ''[[Comocladia]]''\\n* ''[[Cotinus]]''\\n* ''[[Cyrtocarpa]]''\\n* ''[[Dracontomelon]]''\\n* ''[[Drimycarpus]]''\\n* ''[[Ebandoua]]''\\n* ''[[Euleria]]''\\n* ''[[Euroschinus]]''\\n* ''[[Faguetia]]''\\n* ''[[Fegimanra]]''\\n* ''[[Gluta]]''\\n* ''[[Haematostaphis]]''\\n* ''[[Haplorhus]]''\\n* ''[[Harpephyllum]]''\\n* ''[[Heeria]]''\\n* ''[[Holigarna]]''\\n* ''[[Koordersiodendron]]''\\n* ''[[Lannea]]''\\n* ''[[Laurophyllus]]''\\n* ''[[Lithrea]]''\\n* ''[[Loxopterigium]]''\\n* ''[[Loxostylis]]''\\n* ''[[Mangifera]]''\\n* ''[[Mauria (Anacardiaceae)|Mauria]]''\\n* ''[[Melanochyla]]''\\n* ''[[Metopium]]''\\n* ''[[Micronychia (Anacardiaceae)|Micronychia]]''\\n* ''[[Montagueia]]''\\n* ''[[Mosquitoxylum]]''\\n* ''[[Nothopegia]]''\\n* ''[[Ochoterenaea]]''\\n* ''[[Operculicarya]]''\\n* ''[[Ozoroa]]''\\n* ''[[Pachycormus]]''\\n* ''[[Parishia]]''\\n* ''[[Pegia]]''\\n* ''[[Pentaspadon]]''\\n* ''[[Pistacia]]''\\n* ''[[Pleiogynium]]''\\n* ''[[Poupartia]]''\\n* ''[[Protorhus]]''\\n* ''[[Pseudoprotorhus]]''\\n* ''[[Pseudosmodingium]]''\\n* ''[[Pseudospondias]]''\\n* ''[[Rhodosphaera]]''\\n* ''[[Rhus]]''\\n* ''[[Schinopsis]]''\\n* ''[[Schinus]]''\\n* ''[[Sclerocarya]]''\\n* ''[[Searsia (planta)|Searsia]]''\\n* ''[[Semecarpus]]''\\n* ''[[Smodingium]]''\\n* ''[[Solenocarpus]]''\\n* ''[[Sorindeia]]''\\n* ''[[Spondias]]''\\n* ''[[Swintonia]]''\\n* ''[[Tapirira]]''\\n* ''[[Thyrsodium]]''\\n* ''[[Toxicodendron]]''\\n* ''[[Trichoscypha]]''\\n}}\\n\\n== Sinonimia ==\\n* Blepharocaryaceae, Comocladiaceae, Julianiaceae, Lentiscaceae, Pistaciaceae, Schinaceae, Spondiadaceae, Vernicaceae.\\n* Julianaceae.<ref>{{Enlace roto|1=[http://www.f-lohmueller.de/botany/fam/j/Julianaceae.htm, http://delta-intkey.com/angio/www/podoacea.htm Anacardiaceae en Delta-intkey] |2=http://www.f-lohmueller.de/botany/fam/j/Julianaceae.htm, |bot=InternetArchiveBot }}</ref>\\n\\n== Referencias ==\\n{{listaref}}\\n\\n== Enlaces externos ==\\n{{wikispecies|Anacardiaceae}}\\n{{commonscat|Anacardiaceae}}\\n* [https://web.archive.org/web/20060428185908/http://132.236.163.181/index.html Anacardiaceae en Plant Systematic]\\n* [http://www.chileflora.com/Florachilena/FloraSpanish/PIC_FAMILIES_SIMPLE_Anacardiaceae.php Anacardiaceae de Chile, en Chileflora]\\n* [http://www.botanical-dermatology-database.info/BotDermFolder/ANAC-1.html Anacardiaceae] en [http://www.botanical-dermatology-database.info/index.html BoDD – Botanical Dermatology Database]\\n\\n{{Control de autoridades}}\\n[[Categoría:Anacardiaceae| ]]\",\n",
              "  {'ref': 0.00878532810709641,\n",
              "   'categoría': 0.0012284720898020258,\n",
              "   'center': 0.0,\n",
              "   'cita': 0.0030492511137435287,\n",
              "   'br': 0.0,\n",
              "   'the': 0.00737453707448358,\n",
              "   'http': 0.016262496103514917,\n",
              "   'of': 0.0032472698980787764,\n",
              "   'archivo': 0.0,\n",
              "   'background': 0.0,\n",
              "   'nbsp': 0.0,\n",
              "   'small': 0.0,\n",
              "   'usuario': 0.0,\n",
              "   'club': 0.0,\n",
              "   'https': 0.003350772794202299,\n",
              "   'web': 0.003501208084840431,\n",
              "   'unidos': 0.0,\n",
              "   'ficha': 0.002087380936006183,\n",
              "   'año': 0.0,\n",
              "   'años': 0.0}),\n",
              " ('[[Archivo:Materia antimateria.png|thumb|200px|División del universo en materia y antimateria.]]\\nA la mayor parte de las [[partícula subatómica|partículas]] de la naturaleza le corresponde una \\'\\'\\'antipartícula\\'\\'\\' que posee la misma [[masa]], el mismo [[espín]], pero contraria [[carga eléctrica]]. Algunas partículas son idénticas a su antipartícula, como por ejemplo el [[fotón]], que no tiene carga. Pero no todas las partículas de carga neutra son idénticas a su antipartícula. Siempre hemos tenido la impresión de que las leyes de la naturaleza parecían haber sido diseñadas para que todo fuese simétrico entre partículas y antipartículas hasta que los experimentos de la llamada [[violación CP]] (violación carga-paridad) encontraron que la [[simetría temporal]] se violaba en ciertos sucesos de la naturaleza. El exceso observado de [[barión|bariones]] con respecto a los anti-bariones, en el universo, es uno de los principales problemas sin respuesta de la [[cosmología]].\\n\\nLos pares partícula-antipartícula pueden aniquilarse entre ellos si se encuentran en el [[estado cuántico]] apropiado. Estos estados pueden producirse en varios procesos. Estos procesos se usan en los [[acelerador de partículas|aceleradores de partículas]] para crear nuevas partículas y probar las teorías de la [[física de partículas]]. Los procesos de altas energías en la naturaleza pueden crear antipartículas, y estos son visibles debido a los [[radiación cósmica|rayos cósmicos]] y en ciertas [[reacción nuclear|reacciones nucleares]]. La palabra [[antimateria]] se refiere a las antipartículas elementales, los compuestos de antipartículas hechos con éstas (como el [[antihidrógeno]]) y formaciones mayores que pueden hacerse con ellos.\\n\\n== Historia ==\\n=== El experimento ===\\nEn 1932, poco después de la predicción del [[positrón]] por [[Paul Dirac|Dirac]], {{esd|[[Carl David Anderson|Carl D. Anderson]]}} encontró que las colisiones de los rayos cósmicos producían estas partículas dentro de una [[cámara de niebla]] —un [[detector de partículas]] donde los [[electrón|electrones]] o los [[positrón|positrones]] que se mueven a través de él dejan detrás de ellos trayectorias, marcando su movimiento por el gas—. La relación entre la [[carga eléctrica]] y la [[masa]] de una partícula puede medirse observando las curvas que marcan en su camino por la cámara de niebla dentro de un [[campo magnético]]. Originalmente los positrones, debido a que sus trayectorias también se curvaban, fueron confundidos con electrones que viajaban en la dirección opuesta.\\n\\nEl [[antiprotón]] y el [[antineutrón]] fueron encontrados por [[Emilio Gino Segrè|Emilio Segrè]] y [[Owen Chamberlain]] en 1955, en la universidad de California. Desde entonces se han creado las antipartículas de muchas otras partículas subatómicas en los experimentos con aceleradores de partículas. En años recientes, se ha conseguido generar átomos completos de [[antimateria]] compuestos por antiprotones y positrones, recolectados en trampas electromagnéticas.\\n\\n=== La teoría de Giovanni ===\\n<blockquote>\\n...el desarrollo de la teoría cuántica de campos hizo innecesaria la interpretación de las antipartículas como huecos, incluso aunque desafortunadamente aún persiste en muchos libros de texto.<ref>Steven Weinberg en \\'\\'Teoría cuántica de campos,\\'\\' Vol.{{esd}}I, p.{{esd}}14, ISBN 0-521-55001-7.</ref>\\n</blockquote>\\n\\nLas soluciones de la [[ecuación de Dirac]] contenían estados cuánticos de energía negativa. Como resultado un electrón siempre podría radiar energía cayendo en un estado de energía negativa. Incluso peor que eso, podría estar radiando una cantidad infinita de energía porque habría disponibles infinitos estados de energía negativa. Para resolver esta situación que iba contra la física, Dirac postuló que un \"mar\" de electrones de energía negativa llenaban el universo, ya ocupando todos los estados de energía negativa de forma que, debido al [[principio de exclusión de Pauli]] ningún otro electrón podría caer en ellos. Sin embargo, a veces, una de estas partículas con energía negativa podría ser elevada desde este [[mar de Dirac]] a un nivel de energía mayor para convertirse en una partícula de energía positiva. Pero, cuando era elevada, esta partícula dejaba un \\'\\'hueco\\'\\' detrás en el mar, que actuaría exactamente como un electrón de energía positiva pero con carga contraria. Dirac interpretó estos electrones inversos como protones, y llamó por eso a su artículo de 1930 \\'\\'Una teoría de electrones y protones.\\'\\'\\n\\nDirac ya era consciente del problema de que esta representación implicaba una carga negativa infinita para el universo, e intentó argumentar que nosotros percibiríamos este estado como el estado normal de carga cero. Otra dificultad que esta teoría encontraba era la diferencia entre las masas del electrón y el protón. Aquí Dirac intentó solucionarlo argumentando que esto se debía a las interacciones electromagnéticas con ese \"mar\", hasta que [[Hermann Weyl]] probó que la teoría de huecos era completamente simétrica entre las cargas negativas y positivas. Dirac también predijo una reacción \\'\\'\\'e<sup>-</sup>{{esd}}+{{esd}}p<sup>+</sup>{{esd}}→{{esd}}γ{{esd}}+{{esd}}γ\\'\\'\\' (en la que el electrón y el protón se aniquilaban para dar dos [[fotón|fotones]]). [[Robert Oppenheimer]] e [[Ígor Tam]] probaron que esto causaría que la materia ordinaria desapareciera demasiado deprisa. Un año más tarde, en 1931, Dirac modificó su teoría y postuló el [[positrón]], una partícula nueva de la misma masa que el electrón. El descubrimiento de esa partícula el año siguiente eliminó las dos últimas objeciones a su teoría.\\n\\nSin embargo permanecía el problema de la carga infinita del universo. También, como ahora sabemos, los [[bosón|bosones]] (partículas con spin entero) también poseen antipartículas, pero estos no obedecen el principio de exclusión de Pauli, así que la teoría de los huecos no funciona con ellos. La [[teoría cuántica de campos]] proporciona una interpretación unificada de las antipartículas, que resuelve ambos problemas.\\n\\n== Aniquilación partícula-antipartícula ==\\n{{AP|Aniquilación}}\\nSi una partícula y su antipartícula se encuentran en los estados cuánticos apropiados, entonces pueden \\'\\'\\'aniquilarse\\'\\'\\' la una a la otra y producir otras partículas. Las reacciones como:\\n\\n\\'\\'\\'e<sup>+</sup> {{esd}}+{{esd}} e<sup>-</sup> {{esd}}→{{esd}} γ {{esd}}+{{esd}} γ\\'\\'\\'\\n\\n(aniquilación de un par electrón-positrón en dos fotones) son un ejemplo del proceso.\\n\\nLa aniquilación de un par electrón-positrón en un solo fotón: \\'\\'\\'e<sup>+</sup> {{esd}}+{{esd}} e<sup>-</sup> {{esd}}→{{esd}} γ\\'\\'\\'\\nno puede ocurrir porque es imposible que se conserven la energía y el momento a la vez en este proceso. La reacción inversa es también imposible por esta razón. Sin embargo, este fenómeno se observa en la naturaleza; se puede [[creación de pares|crear]] un par electrón-positrón a partir de un solo fotón con una energía de al menos la masa de ambas partículas: 1.022 MeV. Lo cierto es que, según la [[teoría cuántica de campos]], este proceso está permitido como un estado cuántico intermedio para tiempos suficientemente cortos en los que la violación de la conservación de la energía puede acomodarse al [[Relación de indeterminación de Heisenberg|principio de incertidumbre]] de [[Werner Heisenberg|Heisenberg]]. Esto abre la vía para la producción de \\'\\'pares virtuales\\'\\' o su aniquilación donde el estado cuántico de una sola partícula puede \\'\\'fluctuar\\'\\' en un estado cuántico de dos partículas y volver a su estado inicial. Estos procesos son importantes en el [[estado vacío]] y la [[renormalización]] de una [[teoría cuántica de campos]]. También abre el camino para una [[mezcla de partículas neutras]] a través de procesos como el mostrado aquí, que es un ejemplo complicado de la [[renormalización de la masa]].\\n\\n== Propiedades de las antipartículas ==\\nLos [[estado cuántico|estados cuánticos]] de una partícula y de su antipartícula pueden intercambiarse aplicando la [[simetría de carga]] (\\'\\'\\'C\\'\\'\\'), [[Paridad (física)|paridad]] (\\'\\'\\'P\\'\\'\\'), y la [[simetría temporal]] (\\'\\'\\'T\\'\\'\\'). Si \\'\\'\\'|p,σ,n>\\'\\'\\' es el estado cuántico de una partícula (\\'\\'\\'n\\'\\'\\'), con momento \\'\\'\\'p\\'\\'\\', espín \\'\\'\\'J\\'\\'\\' cuyo componente en la dirección z es σ, entonces tendremos\\n\\n::\\'\\'\\'CPT |p,σ,n> {{esd}}={{esd}} (-1)<sup>J-σ</sup> |p,-σ,n<sup>c</sup>>,\\'\\'\\'\\n\\ndonde \\'\\'\\'n<sup>c</sup>\\'\\'\\' es el estado de carga conjugado, es decir, la antipartícula. Este comportamiento bajo \\'\\'\\'CPT\\'\\'\\' es el mismo que establece que una partícula y su antipartícula están en la misma [[representación irreducible]] del [[grupo de Poincaré]]. Las propiedades de las antipartículas pueden relacionarse así con las de las partículas. Si \\'\\'\\'T\\'\\'\\' es una buena simetría de la dinámica, entonces\\n\\n::\\'\\'\\'T |p,σ,n> {{esd}}α{{esd}} |-p,-σ,n>\\'\\'\\'\\n::\\'\\'\\'CP |p,σ,n> {{esd}}α{{esd}} |-p,σ,n<sup>c</sup>>\\'\\'\\'\\n::\\'\\'\\'C |p,σ,n> {{esd}}α{{esd}} |p,σ,n<sup>c</sup>>,\\'\\'\\'\\n\\ndonde el signo de proporcionalidad indica que podría existir un término de fase en el lado derecho de la ecuación. En otras palabras, la partícula y su antipartícula deben tener:\\n\\n* La misma [[masa]] \\'\\'\\'m\\'\\'\\',\\n* el mismo estado de [[espín]] \\'\\'\\'J\\'\\'\\',\\n* [[carga eléctrica|cargas eléctricas]] opuestas \\'\\'\\'q\\'\\'\\' y \\'\\'\\'-q\\'\\'\\'.\\n\\n== Teoría cuántica de campos ==\\n\\'\\'Esta sección utiliza las ideas, el lenguaje y la notación usada en la [[cuantización canónica]] de la [[teoría cuántica de campos]].\\'\\'\\n\\nSe puede intentar cuantizar el [[campo (física)|campo]] de un electrón sin mezclar los operadores de creación y aniquilación escribiendo:\\n\\n::\\'\\'\\'ψ(x) {{esd}}={{esd}} ∑<sub>k</sub> u<sub>k</sub>(x) a<sub>k</sub> e<sup>-i E(k)t</sup>,\\'\\'\\'\\n\\ndonde se está usando el símbolo \\'\\'\\'k\\'\\'\\' para denotar los números cuánticos \\'\\'\\'p\\'\\'\\' y σ de las secciones anteriores, el signo de la energía \\'\\'\\'E(k)\\'\\'\\' y \\'\\'\\'a<sub>k</sub>\\'\\'\\' denota los operadores correspondientes de aniquilación. Por supuesto, como estamos tratando con [[fermión|fermiones]], los operadores deberán satisfacer las relaciones canónicas anticonmutativas. Sin embargo, si escribimos el [[Hamiltoniano (mecánica cuántica)|Hamiltoniano]]\\n\\n::H {{esd}}={{esd}} ∑<sub>k</sub> E(k) a<sup>+</sup><sub>k</sub> a<sub>k</sub>,\\n\\nvemos inmediatamente que el valor esperado de \\'\\'\\'H\\'\\'\\' no necesita ser positivo. Esto ocurre porque \\'\\'\\'E(k)\\'\\'\\' puede tener cualquier signo posible, y la combinación de operadores de creación y de aniquilación tiene valor esperado 1 o 0.\\n\\nAsí pues se debe introducir el campo \\'\\'antipartícula\\'\\' de carga conjugada con sus propios operadores de creación y de aniquilación que satisfagan las siguientes relaciones:\\n\\n::\\'\\'\\'b<sub>k\\'</sub> {{esd}}={{esd}} a<sup>+</sup><sub>k</sub>\\'\\'\\' y \\'\\'\\'b<sup>+</sup><sub>k\\'</sub> {{esd}}={{esd}} a<sub>k</sub>\\'\\'\\'\\n\\ndonde \\'\\'\\'k\\'\\'\\'\\' tiene el mismo \\'\\'\\'p\\'\\'\\', σ y signo de la energía opuestos. Así podemos reescribir el campo en la forma:\\n\\n::\\'\\'\\'ψ(x) {{esd}}={{esd}} ∑<sub>k(+)</sub> u<sub>k</sub>(x) a<sub>k</sub> e<sup>-i E(k)t</sup> {{esd}}+{{esd}} ∑<sub>k(-)</sub> u<sub>k</sub>(x) b<sup>+</sup><sub>k</sub> e<sup>-i E(k)t</sup>,\\'\\'\\'\\n\\ndonde el primer sumatorio se realiza sobre los estados positivos de energía y el segundo sobre los de energía negativa. La energía entonces se transforma en\\n\\n::\\'\\'\\'H {{esd}}={{esd}} ∑<sub>k(+)</sub> E(k) a<sup>+</sup><sub>k</sub> a<sub>k</sub> {{esd}}+{{esd}} ∑<sub>k(-)</sub> |E(k)| b<sup>+</sup><sub>k</sub> b<sub>k</sub> {{esd}}+{{esd}} E<sub>0</sub>,\\'\\'\\'\\n\\ndonde \\'\\'\\'E<sub>0</sub>\\'\\'\\' es una constante infinita negativa. El [[estado vacío]] se define como el estado que no contiene ninguna partícula ni antipartícula, es decir, \\'\\'\\'a<sub>k</sub> |0> = 0\\'\\'\\' y \\'\\'\\'b<sub>k</sub> |0> = 0\\'\\'\\'. De esta forma la energía del vacío será exactamente \\'\\'\\'E<sub>0</sub>\\'\\'\\'. Como todas las energías se miden con respecto al vacío, \\'\\'\\'H\\'\\'\\' será definitivamente positiva. Un análisis de las propiedades de \\'\\'\\'a<sub>k</sub>\\'\\'\\' y de \\'\\'\\'b<sub>k</sub>\\'\\'\\' muestra que uno es el operador de aniquilación para las partículas y el otro para las antipartículas. Este es el caso de un [[fermión]].\\n\\nEsta aproximación se la debemos a [[Vladímir Fok]], [[Wendell Furry]] y [[Robert Oppenheimer]]. Si se cuantiza un [[campo escalar]] real, entonces se encuentra que solo hay una clase de operador de aniquilación, así pues los campos escalares describen a los [[bosón|bosones]] neutros. Como los campos escalares complejos admiten dos clases diferentes de operadores de aniquilación, que están relacionados por conjugación, esos campos describen [[bosón|bosones]] cargados.\\n\\n=== La interpretación de Feynman y Stueckelberg ===\\nConsiderando la propagación hacia atrás en el tiempo de la mitad del campo del electrón que tiene energías positivas, [[Richard Feynman]] mostró que se violaba la [[Causalidad (física)|causalidad]] a menos que se permitiera que algunas partículas viajaran más rápidas que la luz. Pero si las partículas pudieran viajar más rápido que la luz entonces, desde el punto de vista de otro [[observador inercial]] parecería como si estuviera viajando atrás en el tiempo y con carga opuesta.\\n\\nDe esta forma Feynman llegó a entender de forma gráfica el hecho de que la partícula y su antipartícula tuvieran la misma masa \\'\\'\\'m\\'\\'\\' y spin \\'\\'\\'J\\'\\'\\' pero cargas opuestas. Esto le permitió reescribir la [[teoría perturbacional|teoría de perturbaciones]] de forma precisa en forma de diagramas, llamados [[diagrama de Feynman|diagramas de Feynman]], con partículas viajando adelante y atrás en el tiempo. Esta técnica es ahora la más extendida para calcular amplitudes en la [[teoría cuántica de campos]].\\n\\nEste gráfico fue desarrollado de forma independiente por [[Ernest Stueckelberg]], y por eso se ha dado en llamar la \\'\\'\\'interpretación de Feynman y Stueckelberg\\'\\'\\' de las antipartículas.\\n\\n== Véase también ==\\n* [[Antimateria]]\\n* [[Teoría cuántica de campos]]\\n\\n== Referencias ==\\n{{listaref}}\\n\\n== Enlaces externos ==\\n{{wikcionario}}\\n\\n{{Control de autoridades}}\\n\\n[[Categoría:Antimateria]]',\n",
              "  {'ref': 0.0010040374979538756,\n",
              "   'categoría': 0.0005615872410523547,\n",
              "   'center': 0.0,\n",
              "   'cita': 0.0,\n",
              "   'br': 0.0,\n",
              "   'the': 0.0,\n",
              "   'http': 0.0,\n",
              "   'of': 0.0,\n",
              "   'archivo': 0.0017317231066284792,\n",
              "   'background': 0.0,\n",
              "   'nbsp': 0.0,\n",
              "   'small': 0.0,\n",
              "   'usuario': 0.0,\n",
              "   'club': 0.0,\n",
              "   'https': 0.0,\n",
              "   'web': 0.0,\n",
              "   'unidos': 0.0,\n",
              "   'ficha': 0.0,\n",
              "   'año': 0.0031653477393821135,\n",
              "   'años': 0.001687638557010802}),\n",
              " ('\\'\\'\\'Año bisiesto\\'\\'\\' es una expresión que deriva del [[latín]] \\'\\'bis sextus dies ante calendas martii\\'\\' (\"repetido el sexto [[día]] antes del primer [[día]] del mes de marzo\"), que correspondía a un [[día]] extra intercalado entre el [[23 de febrero|23]] y el [[24 de febrero]] por [[Julio César]].<ref name = \"Valdez, YVKE, 2020\" > {{ Cita web | url = http://www.radiomundial.com.ve/article/¿por-qué-se-agrega-un-día-en-el-año-bisiesto | título = ¿Por qué se agrega un día en el año bisiesto? | fechaacceso = 29 de febrero de 2020 | nombres = Magdalena | apellidos = Valdez | fecha = 29 de febrero de 2020 | sitioweb = [[YVKE Mundial Radio]] | cita = Fue Julio César quien aplicó una primera reforma al calendario al adoptar la funcionalidad de un sistema de año bisiesto para corregir el calendario cada cuatro años. Julio César empezó por decretar un Año de la Confusión de 445 días (en 46&nbsp;a.&nbsp;C.), con el cual corrigió los muchos años de discrepancia de un solo golpe. Luego, ordenó un año de 365.25 días que, simplemente, añadía un día bisiesto cada 1000 años. | formato = html | urlarchivo = https://web.archive.org/web/20200229194216/http://www.radiomundial.com.ve/article/%C2%BFpor-qu%C3%A9-se-agrega-un-d%C3%ADa-en-el-a%C3%B1o-bisiesto | fechaarchivo = 29 de febrero de 2020 }} </ref>\\n\\nEl 24 de febrero era el sexto día antes de las calendas (primer día del mes) de marzo. Los romanos no contaban los días del mes del 1 al 31, sino que tomaban tres fechas de referencia: calendas, nonas e \\'\\'idus\\'\\' (véase [[calendario romano]]). Para contar se incluía el día de referencia (en este caso, el [[1 de marzo]]).\\n\\nEn el [[calendario gregoriano]], que es el que se emplea en la actualidad, y que fue instaurado por el [[papa]] [[Gregorio XIII]] a partir de [[1582]], este día extra se situó al final del mes de febrero ([[29 de febrero]]).\\n\\n== Razón y definición del año bisiesto ==\\nSe añade para corregir el desfase que existe entre la duración del [[año trópico]]: 365 días 5 [[hora|h]] 48 [[minuto|min]] 45,10 [[segundo|s]] (365,242189 días) y el año calendario de 365 días. Esto requiere que cada cuatro años se corrija el año calendario por una acumulación no contabilizada de aproximadamente 1/4 de día por año que equivale a un día extra.\\n\\nEn el [[calendario juliano]] se consideraban bisiestos los años divisibles entre cuatro, resultando años de 365,25 días.<ref group=\"n.\">Se añade 1 día cada 4 años: 365 + 1/4 = 365,25 días.</ref> Esto supone un adelanto de unos 11,25 minutos por año respecto al año trópico. Puede no parecer mucho, pero solo en 500 años supondría un desfase de casi cuatro días. Se hacía necesario \\'\\'acortar\\'\\' el año, y así el [[calendario gregoriano]] establece:\\n{{Definición|Año bisiesto es el [[divisibilidad|divisible]] entre 4, \\'\\'\\'salvo que sea [[año secular]]\\'\\'\\' -último de cada [[siglo]], terminado en «00»-, en cuyo caso también ha de ser divisible entre 400.}}\\n\\nEs decir, se determinan dos grupos de años: los \\'\\'\\'no seculares\\'\\'\\' y los \\'\\'\\'seculares\\'\\'\\'. Los primeros han de ser múltiplos de 4, mientras que los segundos habrán de serlo de 400.<ref group=\"n.\">O lo que es lo mismo: el cociente de su división entre 100 ha de ser, a su vez, divisible entre 4.<br>Nótese que si bien todos los años seculares son múltiplos de 4, ahora se exige que lo sean igualmente sin sus dos ceros.</ref> De esta manera se eliminan como bisiestos a 3 de cada 4 años seculares. De esta forma, los años [[1800]] y [[1900]] pese a ser divisibles por 4, no lo son por 400, por lo que fueron años comunes. Por su parte, el año [[2000]] es divisible tanto por 4 como por 400, por lo tanto sí fue un año bisiesto.\\n\\nEl ciclo juliano de 4 años da paso a uno gregoriano de 400 en el que hay 97 bisiestos y 303 comunes,<ref group=\"n.\">Frente a los 100 bisiestos y 300 comunes del calendario juliano en el mismo periodo.</ref> resultando años de 365,2425 días.<ref group=\"n.\">A los 365,25 días se le restan 3 días de cada 400 años: 365,25 - 3/400 = 365,2425</ref> La diferencia con el año trópico queda ahora reducida a menos de medio minuto por año (26,9 segundos aproximadamente).<ref group=\"n.\">Apenas cuatro horas en 500 años.</ref><ref>{{cita web|título=¿Qué es un año bisiesto?|url=https://cnnespanol.cnn.com/2020/02/24/que-es-un-ano-bisiesto/|idioma=Español|fechaacceso=29 de febrero de 2020}}</ref>\\n\\n== Origen del año bisiesto ==\\n=== Calendario egipcio y romano ===\\nTranscurría el año [[49 a. C.|49&nbsp;a.&nbsp;C.]], cuando [[Julio César]] llegó a [[Egipto]]. Hasta entonces el calendario romano cargaba con siglos de desfases debido a su imprecisión. Entre otras cosas, Julio encontró un excelente calendario en las tierras de la faraona egipcia [[Cleopatra]]. Fue entonces cuando delegó a [[Sosígenes|Sosígenes de Alejandría]], astrónomo, matemático y filósofo, la tarea de diseñar un nuevo calendario a la altura y exactitud que el imperio necesitaba. Sosígenes entregó a César su calendario entre el [[48 a. C.|48]] y el [[46 a. C.|46&nbsp;a.&nbsp;C.]], basado principalmente en el calendario egipcio, pero conservando los nombres de los meses romanos. Este calendario poseía una duración de 365 días y un día adicional inicialmente cada cuatro años, para compensar un desfase natural producido por la revolución no sincrónica de la Tierra en torno al Sol.\\n\\nLa compensación de los desfases que tenía acumulados el calendario romano obligó a que el año 46&nbsp;a.&nbsp;C. se convirtiera en el año más largo de la historia, con 445 días de duración para compensar e iniciar nuevamente de cero. A este inusual año se le llamó \"año juliano\" o el \"año de la confusión\".\\n\\nYa los egipcios sabían que cada cuatro años la salida helíaca de la estrella [[Sothis]] (Sirius) se retrasaba un día, dando inicio al año nuevo. Sin embargo, doscientos años antes, en el concilio de Cánope, cuando pudieron hacer la reforma, los egipcios no la hicieron debido a pugnas entre las castas sacerdotales y la clase política.\\n\\nAproximadamente seis siglos antes, el rey [[Numa Pompilio]] había agregado los meses de januarius y februarius al ya maltratado año romano, y fue a este último, a februarius, al que se sumó el día adicional. Los romanos solían llamar calendas (o \\'\\'kalendas\\'\\') al primer día de cada mes y contaban hacia atrás los días que hacían falta. El día primero de marzo se llamaba \"calendas de marzo\" o \\'\\'kalendas martias\\'\\'. En el calendario gregoriano, utilizado actualmente, el [[28 de febrero]] sería el día anterior (el segundo día antes, con el cómputo inclusivo, a las calendas de marzo y el [[27 de febrero]] sería el tercer día antes de estas calendas (téngase en cuenta que hay que contar tanto las calendas como el propio día, pues los romanos y los judíos practicaban el cómputo inclusivo de los días) y así sucesivamente, de modo que el [[24 de febrero]] sería el sexto día antes de las calendas de marzo (\\'\\'ante diem sextum kalendas martias\\'\\'). La reforma de Julio César añadió un día tras el 24 de febrero el \\'\\'ante diem bis sextum kalendas martias\\'\\'. Con el tiempo continuó llamándose \\'\\'Bi-sextum\\'\\' o bisiesto, aunque se añadiera el día extra tras el último día de febrero.\\n\\nEste calendario fue oficial en Roma durante los siguientes siglos, incluso en el Concilio de Nicea se advirtió que había un error de Sosígenes, pero no hicieron nada por corregirlo, hasta [[1582]], cuando se adoptó el [[calendario gregoriano]].\\n\\n=== Reforma gregoriana ===\\n{{AP|Calendario gregoriano}}\\nNormalmente, en muchos problemas de Física, Matemática, Astronomía, etcétera, es necesario calcular determinada magnitud de tiempo en años. Sin embargo, en la mayoría de ocasiones en el [[enunciado]] se añade una anotación que indica que se considere 1 año de 365 días. Esto se debe a que los años bisiestos pueden alterar bastante el resultado, y es difícil operar teniéndolos en cuenta.\\n\\nUn caso en el que se aprecia claramente esto es que, aunque parezca que entre el año 549&nbsp;[[d.C.|d.&nbsp;C.]] y el año [[2009]] hayan pasado 1.460 años, en realidad han pasado 1.461, ya que, como cada 4 años hay un día más, cada 1.460 se acumulan 365, lo que incrementa el intervalo de tiempo en 1 año. Generalmente, si los años no bisiestos son 1.460, la medición teniendo en cuenta los años bisiestos sería la anterior +1. Si fuera el doble de 1.460 (2.920), +2, y así sucesivamente en todos los múltiplos de 1.460 (salvo naturalmente 0).\\n\\nNota: el papa [[Gregorio XIII]], asesorado por el astrónomo jesuita Christopher Clavius, el 24 de febrero de 1582 promulgó la bula [[Inter Gravissimas]], en la que establecía que tras el jueves 4 de octubre de 1582 seguiría el viernes 15 de octubre de 1582.\\n\\nCon la eliminación de estos diez días desaparecía el desfase con el año solar. Para que no volviera a ocurrir, en el nuevo calendario se eliminaron tres años bisiestos cada cuatro siglos. Con lo anterior, el 4 de octubre de 1582 fue el último día del calendario juliano y el 15 de octubre de 1582 constituyó el primer día del calendario gregoriano. Por tal razón no existieron las fechas del 5 al 14 de octubre de dicho año.\\n\\nSi se usan métodos actuales, el cálculo de fechas anteriores al 15 de octubre de 1582 siempre será erróneo, ya que se deben utilizar exclusivamente en retrospectiva hasta esta fecha y cambiar a cálculo de fechas julianas a partir del 4 de octubre de 1582, sin olvidar estos 10 días inexistentes.\\n\\n== Algoritmo computacional ==\\nUn año es \\'\\'\\'[[bisiesto]]\\'\\'\\' si cumple los siguientes criterios:\\n* Es bisiesto si es [[divisible]] entre 4.\\n* Pero no es bisiesto si es [[divisible]] entre 100. \\n* Pero sí es bisiesto si es [[divisible]] entre 400. (2000 y 2400 sí son bisiestos son divisibles entre 100 pero también entre 400. 1900, 2100, 2200 y 2300 no lo son porque solo son divisibles entre 100).\\n\\nDesde un enfoque [[algoritmo|algorítmico]], se consideran las proposiciones o enunciados lógicos siguientes:\\n* p: Es divisible entre 4\\n* q: Es divisible entre 100\\n* r: Es divisible entre 400\\nEntonces se utiliza la fórmula lógica <math>p \\\\land \\\\left(\\\\lnot q \\\\lor r \\\\right)</math> para establecer si un año dado es bisiesto: es bisiesto si es divisible entre cuatro y (no es divisible entre 100 o es divisible entre 400).\\n\\n== Calendarios ==\\n* [[Anexo:Año bisiesto comenzado en lunes|Año bisiesto comenzado en lunes]]\\n* [[Anexo:Año bisiesto comenzado en martes|Año bisiesto comenzado en martes]]\\n* [[Anexo:Año bisiesto comenzado en miércoles|Año bisiesto comenzado en miércoles]]\\n* [[Anexo:Año bisiesto comenzado en jueves|Año bisiesto comenzado en jueves]]\\n* [[Anexo:Año bisiesto comenzado en viernes|Año bisiesto comenzado en viernes]]\\n* [[Anexo:Año bisiesto comenzado en sábado|Año bisiesto comenzado en sábado]]\\n* [[Anexo:Año bisiesto comenzado en domingo|Año bisiesto comenzado en domingo]]\\n\\n== Véase también ==\\n* [[29 de febrero]]\\n* [[30 de febrero]]\\n\\n== Notas ==\\n{{listaref|group=n.}}\\n\\n== Referencias ==\\n{{Listaref}}\\n\\n=== Bibliografía ===\\n* {{ cita libro\\n\\t| páginas = 175-179\\n\\t| url = https://books.google.es/books?id=Ct9gAAAAcAAJ&pg=PA175#v=onepage&q&f=false\\n\\t| título = Nociones de cronología universal\\n\\t| nombre =  Eufemio \\n\\t| apellidos =  Mendoza\\n\\t| editorial = Sandoval\\n\\t| año =  1874 }}\\n\\n== Enlaces externos ==\\n* [https://web.archive.org/web/20061119175625/http://www.astrogea.org/foed/efemerides/bisiesto.htm Búsqueda de años bisiestos]\\n* [https://github.com/dambort/algos/wiki/A%C3%B1o-Bisiesto Algoritmo en C++ para determinar si un año es bisiesto ]\\n* [https://www.bbc.com/mundo/noticias-51678890 El 30 de febrero, el día que solo existió una vez en la historia]\\n\\n{{Control de autoridades}}\\n[[Categoría:Calendarios]]\\n[[Categoría:Años|Año bisiesto]]\\n[[Categoría:Fechas irregulares o ficticias]]',\n",
              "  {'ref': 0.008581018151117425,\n",
              "   'categoría': 0.002056976522459206,\n",
              "   'center': 0.0,\n",
              "   'cita': 0.006807630393473924,\n",
              "   'br': 0.002226129465021466,\n",
              "   'the': 0.0,\n",
              "   'http': 0.00151279033521069,\n",
              "   'of': 0.0,\n",
              "   'archivo': 0.0,\n",
              "   'background': 0.0,\n",
              "   'nbsp': 0.027958742535539777,\n",
              "   'small': 0.0,\n",
              "   'usuario': 0.0,\n",
              "   'club': 0.0,\n",
              "   'https': 0.009350993844285487,\n",
              "   'web': 0.0019541626520039614,\n",
              "   'unidos': 0.0,\n",
              "   'ficha': 0.0,\n",
              "   'año': 0.08502271253456607,\n",
              "   'años': 0.05563320126890261}),\n",
              " ('{{otros usos|Avena sativa|la avena común}}\\n{{Ficha de taxón\\n| name = \\'\\'Avena\\'\\'\\n| image = Avena-sativa.jpg\\n| image_width = 240px\\n| image_caption = \\'\\'Avena sativa\\'\\'\\n| regnum = [[Plantae]]\\n| divisio = [[Magnoliophyta]]\\n| classis = [[Liliopsida]]\\n| ordo = [[Poales]]\\n| familia = [[Poaceae]]\\n| subfamilia = [[Pooideae]]\\n| tribus = [[Aveneae]]\\n| genus = \\'\\'\\'\\'\\'Avena\\'\\'\\'\\'\\'\\n| genus_authority = [[L.]]\\n| subdivision_ranks = [[Especie]]s\\n| subdivision = <center>Ver texto</center>\\n| synonyms =\\n* \\'\\'Anelytrum\\'\\' [[Hack.]]\\n* \\'\\'Preissia\\'\\' [[Opiz]]<ref name = Poa/> \\n}}\\n\\n\\'\\'\\'\\'\\'Avena\\'\\'\\'\\'\\' es un [[género (biología)|género]] de [[Vegetal|planta]]s de la familia de las [[poácea]]s,<ref name = Poa>{{cita web|url= http://delta-intkey.com/grass/www/avena.htm |título=The grass genera of the world: descriptions, illustrations, identification, and information retrieval; including synonyms, morphology, anatomy, physiology, phytochemistry, cytology, classification, pathogens, world and local distribution, and references |fechaacceso=19 de agosto de 2009 |autor=Watson L, Dallwitz MJ. |fecha=2008 |obra=The Grass Genera of the World }}</ref> utilizada como [[alimento]] y como [[pasto (ganadería)|forraje]].\\n\\nSi bien en épocas tempranas la avena no tuvo la importancia del [[trigo]] o la [[cebada]], en [[Asia Central]] se cultivaba en buena cantidad, aunque se la consideraba una mala hierba. En búsquedas arqueológicas se encontraron pruebas del uso de la avena en [[Europa Central]] en la [[Edad de Bronce]]. También se hallaron granos de este cereal en excavaciones egipcias, aunque no se pudo probar que fuera cultivada.\\n\\nLa avena puede contener [[gluten]].<ref name=Biesiekierski2017 />\\n\\n== Descripción ==\\nEs una planta [[herbácea]] anual, perteneciente a la familia de las [[poaceae]]. Las especies más cultivadas son \\'\\'[[Avena sativa]]\\'\\' y \\'\\'[[Avena byzantina]]\\'\\', en ese orden.\\n\\nEs rica en [[proteína]]s de alto valor biológico, [[grasa]]s y un gran número de [[vitamina]]s y [[mineral]]es. Es el cereal con mayor proporción de [[grasa vegetal]], un 54&nbsp;% de grasas no saturadas y un 46&nbsp;% de [[ácido linoleico]]. También contiene [[Hidrato de carbono|hidratos de carbono]] de fácil absorción, además de [[calcio]], [[zinc]], [[cobre]], [[Fósforo (elemento)|fósforo]], [[hierro]], [[magnesio]], [[potasio]], [[sodio]]; vitaminas [[Vitamina B1|B1]], [[Vitamina B2|B2]], [[Vitamina B3|B3]], [[Vitamina B6|B6]] y [[Vitamina E|E]]. Además, contiene una buena cantidad de [[Fibra alimentaria|fibras]], que no son nutrientes pero contribuyen al buen funcionamiento [[Intestino|intestinal]]. La avena puede reducir los niveles de colesterol.<ref>{{Cita publicación|url=https://www.frontiersin.org/articles/10.3389/fnut.2019.00171/full|título=The Cholesterol-Lowering Effect of Oats and Oat Beta Glucan: Modes of Action and Potential Role of Bile Acids and the Microbiome|apellidos=Joyce|nombre=Susan A.|apellidos2=Kamil|nombre2=Alison|fecha=2019|publicación=Frontiers in Nutrition|volumen=6|fechaacceso=2021-02-09|idioma=inglés|issn=2296-861X|doi=10.3389/fnut.2019.00171|apellidos3=Fleige|nombre3=Lisa|apellidos4=Gahan|nombre4=Cormac G. M.}}</ref> \\n\\nEs una planta de [[Raíz (botánica)|raíces]] reticulares, potentes y más abundantes que en el resto de los [[cereal]]es. Su [[tallo]] es grueso y recto con poca resistencia al vuelco, su longitud puede variar de 50 cm a un metro y medio. Sus hojas son planas y alargadas, con un [[limbo foliar|limbo]] estrecho y largo de color verde oscuro. Sus flores se presentan en [[espiga]]s de dos o tres de ellas.\\n\\nEs una planta que tiene menor resistencia al frío que la cebada y el trigo. Se la siembra a principios de la [[primavera]], para ser cosechada a fines del [[verano]]. Es exigente en agua por su alto coeficiente de transpiración, aunque el exceso puede perjudicarla. Es muy sensible a la sequía, sobre todo en el período de formación del grano.\\n\\nDebido a que el sistema reticular de la avena es más profundo, puede aprovechar mejor los [[nutriente]]s del suelo, por lo que requiere de menor cantidad de [[fertilizante]]s para su desarrollo.\\n\\n=== Gluten ===\\nLa avena contiene proteínas similares a la [[gliadina]] del trigo, denominadas aveninas, que son capaces de provocar reacción en una parte de personas [[celiaquía|celíacas]].<ref name=Biesiekierski2017>{{cita publicación\\n|autor=Biesiekierski JR\\n|título=What is gluten?\\n|publicación=J Gastroenterol Hepatol\\n|año= 2017\\n|volumen= 32 Suppl 1\\n|páginas= 78–81\\n|pmid=28244676\\n|doi=10.1111/jgh.13703\\n|url= http://onlinelibrary.wiley.com/doi/10.1111/jgh.13703/full\\n|tipo= Revisión\\n|cita= Similar proteins to the gliadin found in wheat exist as secalin in rye, hordein in barley, and avenins in oats and are collectively referred to as “gluten.” Derivatives of these grains such as triticale and malt and other ancient wheat varieties such as spelt and kamut also contain gluten. The gluten found in all of these grains has been identified as the component capable of triggering the immune-mediated disorder, coeliac disease. \\'\\'(Existen proteínas similares a la gliadina que se encuentra en el trigo, como las secalinas en el centeno, las hordeínas en la cebada y las aveninas en la avena, y se denominan colectivamente “gluten.” Derivados de estos granos, tales como el triticale y la malta, y otras variedades de trigo antiguas, tales como la espelta y el kamut, también contienen gluten. El gluten encontrado en todos estos granos ha sido identificado como el componente capaz de desencadenar el trastorno mediado por el sistema inmunitario, la enfermedad celíaca)\\'\\'}}</ref> A esto se suma que la avena frecuentemente está contaminada con otros cereales con gluten.<ref name=PenaginiDilillo2013 />\\n\\n«Avena pura» se refiere a avena sin contaminar con otros cereales con gluten.<ref name=CominoMoreno2015 /> Tradicionalmente se consideraba que el único problema con la avena era la contaminación con otros cereales con gluten, por lo que en muchos países está permitido desde hace tiempo el uso de «avena pura» en alimentos «sin gluten». \\n\\nEstudios actuales demuestran que las distintas variedades de avena pura tienen distintos grados de toxicidad.<ref name=PenaginiDilillo2013>{{cita publicación\\n|autor= Penagini F, Dilillo D, Meneghin F, Mameli C, Fabiano V, Zuccotti GV\\n|título= Gluten-free diet in children: an approach to a nutritionally adequate and balanced diet\\n|publicación= Nutrients\\n|volumen= 5\\n|número= 11\\n|página= 4553-65\\n|año= 18 Nov 18 2013\\n|pmid= 24253052\\n|pmc= 3847748\\n|doi= 10.3390/nu5114553}}</ref><ref name=CominoMoreno2015>{{cita publicación\\n|autores = Comino I, Moreno Mde L, Sousa C\\n|título = Role of oats in celiac disease\\n|publicación = World J Gastroenterol \\n|volumen = 21\\n|número= 41\\n|páginas= 11825–31\\n|año= 7 Nov 2015\\n|pmid = 26557006\\n|pmc= 4631980\\n|doi = 10.3748/wjg.v21.i41.11825\\n|cita= It is necessary to consider that oats include many varieties, containing various amino acid sequences and showing different immunoreactivities associated with toxic prolamins. As a result, several studies have shown that the immunogenicity of oats varies depending on the cultivar consumed. Thus, it is essential to thoroughly study the variety of oats used in a food ingredient before including it in a gluten-free diet.}}</ref> Algunas parecen tener en teoría una baja toxicidad y algunos expertos opinan que podrían ser incluidas en la [[dieta sin gluten]], pero sería imprescindible especificar exactamente la variedad empleada.<ref name=CominoMoreno2015 />\\n\\nNo se conoce el efecto a largo plazo en los celíacos del consumo de avena pura, por lo que aún no se pueden hacer recomendaciones firmes sobre si es o no posible la inclusión de «avena pura» en la dieta sin gluten.<ref name=DeSouzaDeschenes2016>{{cita publicación\\n|autores=de Souza MC, Deschênes ME, Laurencelle S, Godet P, Roy CC, Djilali-Saiah I\\n|título=Pure Oats as Part of the Canadian Gluten-Free Diet in Celiac Disease: The Need to Revisit the Issue.\\n|publicación=Can J Gastroenterol Hepatol\\n|año= 2016\\n|volumen= 2016\\n|página= 1576360\\n|pmid=27446824\\n|pmc=4904650\\n|doi=10.1155/2016/1576360\\n|tipo= Revisión }}</ref><ref name=HaboubiTaylor2006>{{cita publicación\\n|autores=Haboubi NY, Taylor S, Jones S\\n|título=Coeliac disease and oats: a systematic review\\n|publicación=Postgrad Med J\\n|volumen=82\\n|número=972\\n|páginas=672–8\\n|fecha=octubre de 2006\\n|pmid=17068278\\n|pmc=2653911\\n|doi=10.1136/pgmj.2006.045443\\n|tipo= Revisión sistemática}}</ref>\\n\\n== Producción ==\\nSegún los datos más recientes de la FAO (correspondientes a 2012) en cuanto a producción de cereales, la avena es el séptimo cereal más cosechado a nivel mundial con 21&nbsp;062&nbsp;972 toneladas y el quinto a nivel de España con 681&nbsp;200 toneladas.\\n\\nSegún esos mismos datos, los cinco mayores productores de avena a nivel mundial son: Rusia (4 millones de toneladas), Canadá (2,7 millones de toneladas), Polonia (1,5 millones de toneladas), Australia (1,3 millones de toneladas) y Finlandia (1,1 millones de toneladas). España tiene 749&nbsp;700 en 2011 y está en el puesto 10.\\n\\n== Usos ==\\nEste cereal se utiliza principalmente para la alimentación del [[ganado]], como [[pasto (ganadería)|planta forrajera]] y en menor cantidad para alimentación humana, aunque no es muy utilizada por estos, a pesar de sus propiedades energizantes. También es utilizada en la alimentación humana, principalmente en forma de [[Copos de avena|copos]].{{cr}}\\n\\n== Bebida de avena ==\\n{{Artículo principal|Bebida de avena}}\\nEs un producto que se obtiene a partir de triturar los granos o copos de avena junto con agua. Se le suelen añadir otros ingredientes para endulzarla y hacer más gratificante su sabor.\\n\\nEl agua de avena es una de las bebidas más conocidas y utilizadas que se preparan con este cereal. También se prepara en licuados en combinación con frutas o se puede preparar como [[leche vegetal|leche de avena]].\\n\\n== Taxonomía ==\\nEl género fue descrito por [[Carlos Linneo]] y publicado en \\'\\'[[Species Plantarum]]\\'\\' 1: 79–81. 1753.<ref name=\"Trop\">{{cita web|url=http://www.tropicos.org/Name/40023225|título=\\'\\'Avena\\'\\'|fechaacceso=14 de febrero de 2013|autor=|enlaceautor=|fecha=|idioma=|formato=|sitioweb=|editorial=|obra=Tropicos.org. [[Missouri Botanical Garden]]}}</ref> La [[especie tipo]] es: \\'\\'[[Avena fatua]]\\'\\'.\\n;Etimología\\n\\'\\'\\'\\'\\'Avena\\'\\'\\'\\'\\': nombre genérico que deriva del [[idioma latín|latín]] \\'\\'avena\\'\\', \"alimentación\", y el nombre de la avena, \\'\\'[[Avena sativa]]\\'\\'.<ref name = Poa/>\\n\\n== Especies ==\\n\\n{|\\n|-valing=top\\n|\\n* \\'\\'[[Avena abyssinica]]\\'\\'\\n* \\'\\'[[Avena barbata]]\\'\\'\\n* \\'\\'[[Avena brevis]]\\'\\'\\n* \\'\\'[[Avena fatua]]\\'\\'\\n|\\n* \\'\\'[[Avena maroccana]]\\'\\'\\n* \\'\\'[[Avena nuda]]\\'\\'\\n* \\'\\'[[Avena occidentalis]]\\'\\'\\n* \\'\\'[[Avena pubescens]]\\'\\'\\n|\\n* \\'\\'[[Avena pratensis]]\\'\\'\\n* \\'\\'[[Avena sativa]]\\'\\'\\n* \\'\\'[[Avena sterilis]]\\'\\'\\n* \\'\\'[[Avena strigosa]]\\'\\' <small>Schreb.</small> - Afreita<ref>Colmeiro, Miguel: «Diccionario de los diversos nombres vulgares de muchas plantas usuales ó notables del antiguo y nuevo mundo», Madrid, 1871.</ref>\\n|}\\n\\n==Véase también==\\n* [[Grano integral]]\\n* [[Copos de avena]]\\n* [[Forraje]]\\n\\n== Referencias ==\\n{{listaref|2}}\\n\\n== Enlaces externos ==\\n\\n{{wikcionario|avena}}\\n* [https://web.archive.org/web/20160305012653/http://www7.uc.cl/sw_educ/cultivos/cereales/avena.htm Etapas de crecimiento de la avena] Pontificia Universidad Católica de Chile\\n* [https://www.youtube.com/watch?v=uW9VZqVv1aA&index=2&list=PL2A8aXe704V51qt1xBiH9sZ-AZaGAppK4 Vídeo: ¿Cómo hacer avena sin gluten en casa? Grupo de Trabajo sobre Enfermedad Celíaca]. Entrevista al Dr. [[Luis Rodrigo Sáez]].\\n* [https://www.fen.org.es/storage/app/media/PUBLICACIONES%202017/INFORME%20AVENA_FEN_v2_2017__AvenaFEN2017_ok%201.pdf Documento de la Fundación Española de la Nutrición]\\n\\n{{control de autoridades}}\\n[[Categoría:Cereales]]\\n[[Categoría:Avena| ]]',\n",
              "  {'ref': 0.013727075167338143,\n",
              "   'categoría': 0.0010237267415016882,\n",
              "   'center': 0.0018901266851266004,\n",
              "   'cita': 0.010164170379145094,\n",
              "   'br': 0.0,\n",
              "   'the': 0.019972704576726365,\n",
              "   'http': 0.002258680014377072,\n",
              "   'of': 0.016236349490393882,\n",
              "   'archivo': 0.0,\n",
              "   'background': 0.0,\n",
              "   'nbsp': 0.012523186760710524,\n",
              "   'small': 0.002141988040759361,\n",
              "   'usuario': 0.0,\n",
              "   'club': 0.0,\n",
              "   'https': 0.0041884659927528736,\n",
              "   'web': 0.0,\n",
              "   'unidos': 0.0,\n",
              "   'ficha': 0.0008697420566692428,\n",
              "   'año': 0.0,\n",
              "   'años': 0.0}),\n",
              " (\"{{distinguir|analfabeto|alfabetización}} \\n[[Archivo:Phönizisch-5Sprachen.svg|thumb|El [[alfabeto fenicio]] (centro) dio lugar los alfabetos [[alfabeto griego|griego]] y [[alfabeto latino|latino]] (izquierda) y a los alfabetos [[alfabeto arameo|arameo]]/[[alfabeto hebreo|hebreo]] y [[alfabeto árabe|árabe]] (derecha).]] \\n[[Archivo:EtruscanA-01.svg|derecha|thumb|200px|Letra A en el [[alfabeto etrusco]].]]\\n[[Archivo:Gothic letter ahsa.svg|derecha|thumb|200px|Letra ahsa en [[Idioma gótico|gótico]].]]\\nEl '''alfabeto''' o '''abecedario''' de una lengua o [[idioma]] es el conjunto ordenado de sus [[letra]]s. Es también la agrupación que se lee con un orden determinado de las [[grafía]]s utilizadas para representar el lenguaje que sirve de sistema de comunicación.\\n\\nEl término ''alfabeto'' procede del [[Griego antiguo|griego]] ἀλφάβετον (''alfábeton''), derivado de las dos primeras letras [[alfabeto griego|griegas]] ἄλφα (''alfa'', α) y βῆτα (''beta'', β), derivadas a su vez de las letras [[idioma fenicio|fenicias]] [[ʾalp]] y [[bēt]], que significaban ‘buey’ y ‘casa’ respectivamente. El [[alfabeto griego]] es una adaptación del [[alfabeto fenicio]], que también dio lugar entre otros al [[alfabeto hebreo|hebreo]] y al [[alfabeto árabe|árabe]]. Por su parte, el término «abecedario» proviene del [[latín tardío]] ''abecedārium'', también derivado del nombre de las primeras letras, en este caso cuatro: ''a'' (a), ''b'' (be), ''c'' (ce) y ''d'' (de).\\n\\nAlgunas letras pueden recibir uno o varios [[Signo diacrítico|signos diacríticos]] con el fin de diferenciar los sonidos de la lengua o poder evitar las ambigüedades. De la misma forma, el alfabeto puede ser entendido por el uso de letras suplementarias. Las evoluciones fonéticas de una lengua se crean a un ritmo diferente de la evolución escrita. La escritura alfabética no garantiza una correspondencia unívoca entre los [[fonema]]s y los [[grafema]]s.\\n\\nEn otros ámbitos ([[matemáticas]], y otros [[sistema formal|sistemas formales]], por ejemplo), un '''alfabeto''' es un [[conjunto finito]] y [[conjunto ordenado|ordenado]] de símbolos a partir del cual se construyen [[palabra (matemáticas)|palabras]] y [[fórmula bien formada|fórmulas bien formadas]]. En [[arqueología]], un [[Abecedario (arqueología)|abecedario]] es una epigrafía antigua que contiene las letras de un alfabeto.\\n\\n== Alfabeto semita==\\n\\nEn el templo de Serabit el-Khadim, en la costa oeste de la península de Sinaí, [[Flinders Petrie]] halló en 1904-1905 una estatua [[votiva]] dirigida a Hathor, una [[Esfinge de Serabit el-Jadim|esfinge de piedra arenisca]] con unas inscripciones en dos escrituras: [[jeroglífico egipcio|jeroglífica egipcia]] y protosinaítica. El célebre lingüista inglés [[Alan Gardiner]] descifró las dos inscripciones, como si de una «[[piedra de Rosetta]]» se tratase, sugiriendo que los signos protosinaíticos representan objetos, con nombres en semítico que se correspondían con las letras del [[alfabeto fenicio]], derivados de los signos hieráticos o jeroglíficos.<ref>{{cita web|url=http://www.codex99.com/typography/11.html|nombre=|apellidos= |título= The Serabit el-Khadim Sphinx|editor=|año=|página=|idioma= inglés|fechaacceso=4 de noviembre de 2015}}</ref>\\n\\nSe trataba de una simplificación del [[Jeroglíficos egipcios|sistema jeroglífico]] (unos 23 signos, de los que al menos la mitad son claramente egipcios). Gardiner estudió la derivación de los signos fenicios a partir de los pictogramas sinaíticos. No podría decirse que se trata de un alfabeto en sentido estricto, sino más bien de un silabario (consonante + vocal); pero hay que darle el protagonismo que merece como origen o precedente de alfabetos más evolucionados en los que cada letra representa un sonido.\\n\\nAl parecer los primeros en escribir las consonantes aisladas fueron los pueblos [[semítico]]s occidentales de las orillas del [[mar Rojo]] y del [[Mar Mediterráneo|Mediterráneo]], [[hebreos]] y [[Fenicia|fenicios]]. La cadena secuencial sería: [[Signo lingüístico|signo]]-[[palabra]]; los signos-sonidos consonánticos mezclados a los signos-palabras (Egipto); los signos-sonidos silábicos mezclados con signos palabras ([[sumerio]]-[[acadio]]); signos-sonidos que representan sílabas de tipo constante (tipo [[Civilización egea|egeo]]). Alfabeto silábico usado también por los [[tartessos]] en el sur de la [[península ibérica]] y que supone el primer alfabeto de toda la [[Europa occidental]]. Aún hoy, a pesar de tantas muestras escritas como existen en [[Andalucía]] y el sur de [[Portugal]], esa lengua está por descifrarse o traducirse.\\n\\n== Alfabeto fenicio ==\\nEl [[alfabeto fenicio]] supone una creación. Es al final de esa cadena donde se nota una progresiva prioridad del análisis sobre la síntesis. De la [[pictografía]], que es una representación global, se pasa a signos que descomponen el discurso en sus partes constitutivas. Las formas más antiguas de la escritura fenicia se han encontrado en las inscripciones arcaicas de [[Biblos]], cuyo origen se remonta a los [[siglo XIII a. C.|siglos XIII]] y [[siglo XI a. C.|XI&nbsp;a.&nbsp;C.]] El fenicio arcaico comprendía 22 letras, únicamente consonantes, y está libre ya de [[Ideografía|elementos ideográficos]], de [[determinativo]]s y de toda huella de [[silabismo]].\\n\\n== Otros alfabetos ==\\nEl alfabeto paleo-hebraico proviene del fenicio, del que se fue alejando progresivamente. Otras ramas son: el [[alfabeto samaritano|samaritano]], el [[moabita]], el [[Idioma púnico|púnico]] y el [[Idioma arameo|arameo]] (del que han derivado los alfabetos árabes, a través del [[alfabeto nabateo|nabateo]], los hebraicos, los [[sirio]]s, los [[uraloaltaico]]s, etc.) El [[alfabeto árabe]] ha servido para lenguas como el [[Idioma persa|persa]], el [[Idioma turco|turco]], el [[Lenguas bereberes|bereber]], el [[Idioma malgache|malgache]], etc. En cuanto a los alfabetos [[sursemítico]]s ([[surarábigo]] y [[nortearábigo]]) parecen provenir, con reservas, del [[Idioma fenicio|fenicio]]. El alfabeto [[pehlvi]] y el [[avéstico]] son derivaciones del arameo. El origen del [[alfabeto libio]] está en discusión: fenicio, árabe, etc. El [[brahmi]] y el [[kharosthi]], según la tesis clásica, derivan del fenicio, con la particularidad del cambio de dirección de la escritura y la notación de consonantes y vocales.\\n\\n== Historia de los alfabetos occidentales ==\\n{{AP|Historia del alfabeto}}\\n\\nLos principales alfabetos occidentales han tenido su origen en el alfabeto semítico septentrional o [[cananeo]], datado hace más de 3500 años, entre el [[1700 a. C.|1700]] y el [[1500 a. C.|1500&nbsp;a.&nbsp;C.]], en el [[Próximo Oriente]].\\n\\nEl precedente del alfabeto occidental se ideó en las regiones orientales de la costa mediterránea y se encargaron de divulgarlo los mercaderes [[Fenicia|fenicios]]. Probablemente los griegos conocieron este sistema de escritura en la ciudad Gibl (en el [[Líbano]] de hoy), un importante centro cultural y de comercio que llamaron [[Biblos]]; lo adoptaron en [[Grecia]], aunque transformaron algunas consonantes y semiconsonantes en vocales. También variaron la dirección de algunas letras y generalizaron el escribir de izquierda a derecha. Se suele fechar hacia el [[900 a. C.|900&nbsp;a.&nbsp;C.]]\\n\\nEl alfabeto griego adoptó el fenicio y modificó el valor de ciertos sonidos consonánticos y designó las vocales. Del griego proceden el [[alfabeto gótico]], [[alfabeto copto|copto]], [[alfabeto armenio|armenio]], [[alfabeto georgiano|georgiano]], [[alfabeto albanés|albanés]], eslavo ([[alfabeto glagolítico|glagolítico]] y [[alfabeto cirílico|cirílico]]) y [[alfabeto etrusco|etrusco]]. \\n\\nEl [[alfabeto latino]] es uno de los alfabetos locales que los etruscos tomaron del griego. Se diferencia de este no solo en la forma de las letras, sino también en su empleo. En el [[siglo I]] de nuestra era estaba constituido por 23 letras. Con la expansión de la [[civilización grecolatina]] y del [[cristianismo]], el alfabeto latino terminó por conquistar toda Europa: [[celta]]s, [[Pueblos eslavos|eslavos]], [[Pueblos germánicos|germanos]], [[escandinavo]]s, etc. escriben con las letras latinas. Este alfabeto, adaptado por los romanos con las variantes propias, se difundió por todo el [[Mar Mediterráneo|Mediterráneo]], y posteriormente a todo [[Occidente]]. \\n\\nLos alfabetos ibéricos parecen haberse derivado del fenicio y griego. \\n\\nEl alfabeto de los pueblos germánicos, llamado ''[[futhark]]'' (las [[runa]]s y los [[ogham]]s) por el nombre de sus seis primeras letras, se redujo de 26 signos a 16. La teoría más firme es la que le da un origen [[etrusco]].\\n\\n== Orden alfabético: pasado y presente ==\\nAunque hay muchas similitudes entre los alfabetos de distintos idiomas, se observan también diferencias peculiares en cada uno.\\n\\nNo siempre está claro qué es lo que constituye un alfabeto específico, único. El [[idioma francés|francés]] utiliza básicamente el mismo alfabeto que el [[idioma inglés|inglés]], pero muchas de las letras usan marcas adicionales, como la «é», la «à» y la «ô». En francés, estas combinaciones no se consideran letras adicionales. Sin embargo, en [[idioma islandés|islandés]] letras acentuadas tales como la «á», la «í» y la «ö» se consideran letras distintas del alfabeto. En el [[idioma español|español]], la «ñ» es una letra distinta, pero vocales acentuadas como la «á» y la «é» no lo son. El alfabeto español consta de 27 letras. Asimismo, se emplean también cinco [[dígrafo]]s para representar otros tantos fonemas: «[[ch]]», «[[ll]]», «[[rr]]», «[[g|gu]]» y «[[q|qu]]», considerados estos dos últimos como variantes posicionales para los fonemas /g/ y /k/.<ref>{{cita OLE|p=64}}{{cita|5.4.1.1 '''Letras y dígrafos: el estatus de ch y ll'''\\n\\n:Como ya se ha explicado (v. § 5.2), solo son propiamente letras los grafemas, esto es, los signos gráficos simples. Por esta razón, no deben formar parte del abecedario las secuencias de grafemas que se emplean para representar ciertos fonemas.\\n\\n:En español, además de las veintisiete letras arriba indicadas, existen cinco dígrafos o combinaciones de dos letras, que se emplean para representar gráficamente los siguientes fonemas:\\n\\n:a) El dígrafo ''ch'' representa el fonema /ch/: ''chapa'', ''abochornar''.\\n\\n:b) El dígrafo ''ll'' representa el fonema /ll/ (o el fonema /y/ en hablantes yeístas): ''lluvia'', ''rollo''.\\n\\n:c) El dígrafo ''gu'' representa el fonema /g/ ante e, i: ''pliegue'', ''guiño''.\\n\\n:d) El dígrafo ''qu'' representa el fonema /k/ ante e, i: ''queso'', ''esquina''.\\n\\n:e) El dígrafo ''rr'' representa el fonema /rr/ en posición intervocálica: ''arroz'', ''tierra''.}}\\n</ref> Los [[dígrafo]]s ''[[ch]]'' y ''[[ll]]'' tienen valores [[fonética|fonéticos]] específicos, por lo que en la edición de [[1754]] de la ''Ortografía de la lengua española''<ref>{{cita OLE|pp=64-65|cita=Desde la segunda edición de la ortografía académica, publicada en 1754, venían considerándose letras del abecedario español los dígrafos ''ch'' y ''ll'' (con los nombres respectivos de ''che'' y ''elle''), seguramente porque cada uno de ellos se usaba para representar de forma exclusiva y unívoca un fonema del español (antes que la extensión del yeísmo alcanzara los niveles actuales y diera lugar a que hoy el dígrafo ''ll'' represente dos fonemas distintos, según que el hablante sea o no yeísta). Es cierto que se diferenciaban en esto de los demás dígrafos, que nunca han representado en exclusiva sus respectivos fonemas: el fonema /g/ lo representa también la letra ''g'' ante ''a'', ''o'', ''u'' (''gato'', ''goma'', ''gula''); el fonema /k/ se escribe además con ''c'' ante ''a'', ''o'', ''u'' y con ''k'' (''cama'', ''cola'', ''cuento'', ''kilo'', ''Irak''); y el fonema /rr/ se representa con ''r'' en posición inicial de palabra o detrás de consonante con la que no forma sílaba (''rama'', ''alrededor'', ''enredo'').<br><br>Sin embargo, este argumento no es válido desde la moderna consideración de las letras o grafemas como las unidades mínimas distintivas del sistema gráfico, con independencia de que representen o no por sí solas una unidad del sistema fonológico. Por lo tanto, a partir de este momento, los dígrafos ''ch'' y ''ll'' dejan de ser considerados letras del abecedario español, lo cual no significa, naturalmente, que desaparezcan de su sistema gráfico; es decir, estas combinaciones seguirán utilizándose como hasta ahora en la escritura de las palabras españolas. El cambio consiste, simplemente, en reducir el alfabeto a sus componentes básicos, ya que los dígrafos no son sino combinaciones de dos letras, ya incluidas de manera individual en el inventario. Con ello, el español se asimila al resto de las lenguas de escritura alfabética, en las que solo se consideran letras del abecedario los signos simples, aunque en todas ellas existen combinaciones de grafemas para representar algunos de sus fonemas.\\n}}\\n</ref> comenzó a considerárseles como letras del alfabeto español, y a partir de la publicación de la cuarta edición del ''[[Diccionario de la lengua española]]'', en [[1803]],<ref>[http://lema.rae.es/drae/?val=ch Ch], en el ''[[Diccionario de la lengua española]]'' de la [[Real Academia Española]]</ref><ref>[http://buscon.rae.es/draeI/SrvltConsulta?TIPO_BUS=3&LEMA=ll Ll], en el ''[[Diccionario de la lengua española]]'' de la [[Real Academia Española]]</ref> se ordenaron separadamente de ''c'' y ''l'',<ref>{{cita OLE|p=65|cita=\\nDebido a su anterior consideración de letras del abecedario, los dígrafos ''ch'' y ''ll'' tuvieron un apartado propio en el diccionario académico desde su cuarta edición (1803) hasta la vigesimoprimera (1992), de modo que las palabras que comenzaban por esos dígrafos o los contenían se ordenaban alfabéticamente aparte, es decir, después de completarse la serie de palabras con ''c'' y ''l''. En el X Congreso de la Asociación de Academias de la Lengua Española, celebrado en Madrid en 1994, sin dejar de considerar aún los dígrafos ''ch'' y ''ll'' como letras del abecedario, se acordó no tenerlos en cuenta como signos independientes a la hora de ordenar alfabéticamente las palabras del diccionario. Así, en la vigesimosegunda edición del ''DRAE'' (2001), primera publicada con posterioridad a dicho congreso, las palabras que incluían esos dígrafos ya se alfabetizaron en el lugar que les correspondía dentro de la ''c'' y de la ''l'', respectivamente.\\n}}\\n</ref> y fue durante el X Congreso de la [[Asociación de Academias de la Lengua Española]], celebrado en Madrid en 1994, y por recomendación de varios organismos, que se acordó reordenar los dígrafos ''ch'' y ''ll'' en el lugar que el alfabeto latino universal les asigna, aunque todavía seguían formando parte del abecedario.<ref>[[dpd:abecedario#2|Diccionario panhispánico de dudas]], Santillana Ediciones Generales, ISBN 958-704-368-5, pág. 5-6</ref> Con la publicación de la ''Ortografía de la lengua española'' de 2010, ambas dejaron de considerarse letras del abecedario.<ref>{{cita web|url=http://www.rae.es/consultas/exclusion-de-ch-y-ll-del-abecedario|título=Exclusión de los dígrafos ''ch'' y ''ll'' del abecedario|año=2010|editor=Real Academia Española|fechaacceso = 30 de noviembre de 2014}}</ref>\\n\\nEn [[idioma alemán|alemán]], las palabras que comienzan con «sch-» (que constituyen el fonema alemán «ʃ») se intercalaron entre las palabras que empiezan con «sca-» y las palabras que empiezan con «sci-» (todas ellas, casualmente, palabras tomadas como préstamo de otros idiomas), en vez de que este grupo gráfico apareciera después de la letra «s», como si fuera una sola letra – una decisión [[lexicografía|lexicográfica]] que resulta obligatoria en un diccionario de [[idioma albanés|albanés]], donde «dh-», «gj-», «ll-», «rr-», «th-», «xh-» y «zh-» (todos los cuales representan fonemas y se consideran letras por separado) aparecen después de las letras «d», «g», «l», «n», «r», «t», «x» y «z», respectivamente. Asimismo, en un diccionario de inglés las palabras que inician con «th-» tampoco tienen un lugar especial después de la letra «t», sino que quedan incluidas dentro de esta, entre «te-» y «ti-». Las palabras alemanas con [[diéresis]] se ordenan alfabéticamente como si no hubiera diéresis alguna – contrario a lo que ocurre con el [[alfabeto turco]], que supuestamente adoptó los [[grafema]]s «ö» y «ü» alemanes, y donde una palabra como «tüfek» (‘arma’), aparece en el diccionario después de «tuz» (‘sal’).\\n\\nLos alfabetos [[idioma danés|danés]] y [[idioma noruego|noruego]] terminan con «æ» – «ø» – «å», mientras que los alfabetos [[idioma sueco|sueco]], [[idioma finlandés|finlandés]] y [[idioma estonio|estonio]] colocan, convencionalmente, las letras «å», «ä», y «ö» al final.\\n\\nAlgunas adaptaciones del alfabeto latino se ven incrementadas con el uso de [[ligadura (tipografía)|ligaduras]] como, por ejemplo, «[[æ]]» en el [[inglés antiguo]] y en el islandés y la «[[Ou (letra)|Ȣ]]» en el [[algonquín]]; a través de préstamos de otros alfabetos como, por ejemplo, la [[þ|letra thorn]] del inglés antiguo y del islandés, que provenían de las [[alfabeto rúnico|runas futhark]], y a través de la modificación de letras existentes, como la [[Ð|eth]] («ð» minúscula) del inglés antiguo y del islandés, que es una modificación de la «d». Otros alfabetos utilizan únicamente un subconjunto del alfabeto latino, como por ejemplo el [[idioma hawaiano|hawaiano]] y el [[idioma italiano|italiano]], que usa las letras «j», «k», «x» «y» y «w» únicamente en las palabras de origen extranjero.\\n\\nNo se sabe si los primeros alfabetos tenían un orden definido. Algunos alfabetos actuales, como por ejemplo la [[escritura Hanuno'o]] de algunas poblaciones originales de las [[Filipinas]], en la cual se enseña una letra a la vez, sin ningún orden en particular, y no se usan para el ordenamiento alfabético. Sin embargo, varias tablillas [[alfabeto ugarítico|ugaríticas]] del [[siglo XIV a. C.|siglo XIV&nbsp;a.&nbsp;C.]] preservan el alfabeto en dos secuencias. Una de ellas, el orden «ABCDE», utilizado más adelante por los [[fenicios]], se sigue utilizando hoy en día, con cambios menores, en los alfabetos [[alfabeto hebreo|hebreo]], [[alfabeto griego|griego]], [[alfabeto armenio|armenio]], [[alfabeto gótico|gótico]], [[alfabeto cirílico|cirílico]] y [[alfabeto latino|latino]]; la otra, «HMĦLQ», se utilizaba en el sur de [[Arabia]] y actualmente se sigue usando en el [[alfabeto Ge'ez]] (véase también [[alfabeto etíope]]).<ref>Millard, A. R. The Infancy of the Alphabet, ''World Archaeology'', ''17''(3), Early Writing Systems (February 1986): 390–398. Véase p. 395.</ref> Ambos tipos de [[orden alfabético]] se han mantenido más o menos estables, por consiguiente, por lo menos durante los últimos tres mil años.\\n\\nEste ordenamiento histórico ya no persistió en el caso del [[alfabeto rúnico]], ni tampoco en el del [[alfabeto arábigo]], aunque este último sigue usando el llamado «[[orden abjadí]]» para la numeración.\\n\\nLa [[escrituras brahámicas|familia brahámica]] de alfabetos que se usa en la [[India]] aplica un orden único que se basa en la [[fonología]]: las letras se ordenan en función de cómo y dónde se generan en la boca. Esta organización se utiliza en el sureste de Asia, en el [[Tíbet]], en el [[hangul]] [[corea]]no, e incluso en el [[kana]] de [[Japón]], que no es un alfabeto.\\n\\nLos nombres de las letras fenicias, cada una de ellas asociada con una palabra que inicia con ese sonido, siguen usándose en los alfabetos [[alfabeto samaritano|samaritano]], [[alfabeto arameo|arameo]], [[alfabeto sirio|sirio]], hebreo y griego. Sin embargo, dejaron de usarse en el [[alfabeto árabe]], en el [[alfabeto cirílico|cirílico]] y en el [[alfabeto latino|latino]].\\n\\n== Alfabetos especiales ==\\n* [[Alfabeto Braille]]\\n* [[Alfabeto Morse]]\\n* [[Alfabeto por palabras]]\\n* [[hangul]] coreano\\n* [[silbo gomero]] (no exactamente alfabeto, sino interpretación del alfabeto en los silbos)\\n* [[lenguaje de signos]]\\n\\n== Véase también ==\\n* [[Abyad]]\\n* [[Abúgida]]\\n* [[Escritura (lingüística)|Escritura]]\\n* [[Grafema]]\\n* [[Historia de la escritura]]\\n* [[Historia del alfabeto]]\\n* [[Sistema de escritura]]\\n* [[Wikipedia:Alfabetos y escrituras del mundo]]\\n* [[Silabario (sistema de escritura)|Silabario]]\\n{{Portal|Educación}}\\n\\n== Referencias ==\\n{{enciclopedia GER}}\\n{{listaref}}\\n\\n== Bibliografía ==\\n* Diringer, D. (1937). ''L'alfabeto nella storia della tita''. Florencia. \\n* Moorhoiise, A. G. (1965). ''Historia del alfabeto'', 2a. ed. México. \\n* Février, I. G. (1959). ''Histoire de l'écriture''. París.\\n* Aguirre, M. (1961). ''La escritura en el mundo''. Madrid.\\n\\n== Enlaces externos ==\\n{{Wikcionario|alfabeto}}\\n* [http://www.proel.org/index.php?pagina=alfabetos Alfabetos de ayer y de hoy]\\n* [http://www.proel.org/img/alfabetos/alfabet.gif Tabla: egipcio-fenicio-romano]\\n* [https://web.archive.org/web/20110713051213/http://www.rodurago.net/en/index.php?site=alphabet Lista de los distintos alfabetos con transliteración] {{en}}\\n* [http://www.virtual-egypt.com/newhtml/articles/Discovery%20of%20Egyptian%20Inscriptions%20Indicates%20an%20Earlier%20Date%20for%20Origin%20of%20the%20Alphabet.htm El descubrimiento de inscripciones egipcias sugiere épocas más tempranas del surgimiento del alfabeto]\\n* [https://web.archive.org/web/20110727065635/http://www.sarasuati.com/evolucion-del-alfabeto-desde-las-figuras-egipcias-hasta-las-latinas/ La evolución del alfabeto desde las figuras Egipcias hasta las latinas]\\n* [https://web.archive.org/web/20140115125312/https://skydrive.live.com/?cid=e39b50d7d9ea3235&id=E39B50D7D9EA3235%21105#!/view.aspx?cid=E39B50D7D9EA3235&resid=E39B50D7D9EA3235%21126&app=WordPdf An Early Hellenic Alphabet for Common, Ikonogrammaton & Paleogrammikon, System Writing and Reading of the Ancient Speech]\\n* {{cita web|url=https://drive.google.com/folderview?id=0BybinYAsW7IyUlZXU0VOMGExVEU&usp=sharing |nombre=Bouzanis K.|apellidos= |título= Elements of the common of writing-reading Hellenic system of ancient speech. A step in the approach of Code of Inscription-Reading of the godlike Drivers-Teachers of the Human Genous|editor=|año=2013|página=|idioma= griego |fechaacceso=4 de noviembre de 2015}}\\n* {{cita web|url=http://es.blastingnews.com/ocio-cultura/2015/10/identifican-el-abecedario-mas-antiguo-del-mundo-en-un-ostracon-de-luxor-00618689.html|nombre=|apellidos= |título=Identifican el abecedario más antiguo del mundo en un ostracon de Luxor |editor=|año=23 de octubre de 2015|página=|idioma= |fechaacceso=4 de noviembre de 2015}}\\n\\n{{Control de autoridades}}\\n[[Categoría:Alfabetos| ]]\\n[[Categoría:Lenguajes formales]]\\n[[Categoría:Ortografía]]\",\n",
              "  {'ref': 0.005601035629081538,\n",
              "   'categoría': 0.0010442737953452878,\n",
              "   'center': 0.0,\n",
              "   'cita': 0.006048101382631792,\n",
              "   'br': 0.0022602967413441095,\n",
              "   'the': 0.008358389128104176,\n",
              "   'http': 0.0038400226926835696,\n",
              "   'of': 0.008281113317414589,\n",
              "   'archivo': 0.0032201462726562627,\n",
              "   'background': 0.0,\n",
              "   'nbsp': 0.01135514454808227,\n",
              "   'small': 0.0,\n",
              "   'usuario': 0.0,\n",
              "   'club': 0.0,\n",
              "   'https': 0.002848354677480113,\n",
              "   'web': 0.0,\n",
              "   'unidos': 0.0,\n",
              "   'ficha': 0.0,\n",
              "   'año': 0.0,\n",
              "   'años': 0.0020921139136497544}),\n",
              " (\"{{Ficha de taxón\\n| name = ''Arundoclaytonia''\\n| image = \\n| image_width = 250px\\n| image_caption = \\n| regnum = [[Plantae]]\\n| divisio = [[Magnoliophyta]]\\n| classis = [[Liliopsida]]\\n| subclassis = [[Commelinidae]]\\n| ordo =  [[Poales]]\\n| familia = [[Poaceae]]\\n| subfamilia = [[Panicoideae]]\\n| tribus = [[Steyermarkochloeae]]\\n| subtribus = \\n| alliance = \\n| genus = '''Arundoclaytonia'''\\n| genus_authority = [[Davidse]] & [[Ellis]]\\n| subdivision_ranks = [[Especie]]s\\n| subdivision = \\nVer texto.\\n}}\\n\\n'''''Arundoclaytonia''''' es un [[Genus|género]] de plantas [[herbácea]]s perteneciente a la familia de las [[poáceas]].<ref>(en inglés) {{cita web|url=http://delta-intkey.com/grass/www/arundocl.htm |título=The grass genera of the world: descriptions, illustrations, identification, and information retrieval; including synonyms, morphology, anatomy, physiology, phytochemistry, cytology, classification, pathogens, world and local distribution, and references |fechaacceso=19 de agosto de 2009 |autor=Watson L, Dallwitz MJ. |fecha=2008 |obra=The Grass Genera of the World }}</ref> Es originaria de [[Brasil]] donde se encuentra en la región del [[Amazonas (Brasil)|Amazonas]].\\n== Etimología ==\\nEl nombre del género fue nombrado en honor de [[William Derek Clayton]], un notable [[Poaceae|agrostólogo]] británico.\\n== Especies ==\\n* ''[[Arundoclaytonia dissimilis]]'' Davidse & R.P. Ellis\\t\\n* ''[[Arundoclaytonia jauensis]]''\\n== Referencias ==\\n{{listaref}}\\n== Enlaces externos ==\\n{{wikispecies|Arundoclaytonia}}\\n* [http://images.google.co.uk/images?q=Arundoclaytonia&safe=active Imágenes en Google]\\n* {{en}} [http://www.kew.org/data/grasses-db/www/gen00065.htm Grassbase - The World Online Grass Flora]\\n\\n{{Control de autoridades}}\\n[[Categoría:Arundoclaytonia]]\",\n",
              "  {'ref': 0.005548628278166154,\n",
              "   'categoría': 0.0031035084373945915,\n",
              "   'center': 0.0,\n",
              "   'cita': 0.007703371234720493,\n",
              "   'br': 0.0,\n",
              "   'the': 0.027945614176990412,\n",
              "   'http': 0.013694733560854667,\n",
              "   'of': 0.016407258432398028,\n",
              "   'archivo': 0.0,\n",
              "   'background': 0.0,\n",
              "   'nbsp': 0.0,\n",
              "   'small': 0.0,\n",
              "   'usuario': 0.0,\n",
              "   'club': 0.0,\n",
              "   'https': 0.0,\n",
              "   'web': 0.0,\n",
              "   'unidos': 0.0,\n",
              "   'ficha': 0.005273383417278778,\n",
              "   'año': 0.0,\n",
              "   'años': 0.0}),\n",
              " (\"{{Ficha de taxón \\n| name = ''Arthropogon''\\n| image = Achlaena piptostachya HC-1936.png\\n| image_width = 240px\\n| image_caption = ''Achlaena piptostachya''\\n| regnum = [[Plantae]]\\n| divisio = [[Magnoliophyta]]\\n| classis = [[Liliopsida]]\\n| ordo = [[Poales]]\\n| familia = [[Poaceae]]\\n| subfamilia = [[Panicoideae]]\\n| tribus = [[Paniceae]]\\n| genus = '''Arthropogon'''\\n| genus_authority = [[Nees]]\\n| subdivision_ranks = Especies\\n| subdivision = <center>Ver texto</center>\\n| synonyms =\\n* ''Achlaena\\n}}\\n'''''Arthropogon''''' es un [[genus|género]] de plantas de la familia [[Poaceae]].<ref>{{cita web|url= http://delta-intkey.com/grass/www/arthropo.htm |título=The grass genera of the world: descriptions, illustrations, identification, and information retrieval; including synonyms, morphology, anatomy, physiology, phytochemistry, cytology, classification, pathogens, world and local distribution, and references |fechaacceso=19 de agosto de 2009 |autor=Watson L, Dallwitz MJ. |fecha=2008 |obra=The Grass Genera of the World }}</ref> Es originaria de [[Sudamérica]]. Comprende 10 [[especies]] descritas y de estas, solo 5 aceptadas.<ref>[http://www.theplantlist.org/tpl/search?q=Arthropogon ''Arthropogon'' en ''[[The Plant List]]'']</ref>\\n\\n== Taxonomía ==\\n\\nEl género fue descrito por [[Christian Gottfried Daniel Nees von Esenbeck]] y publicado en ''[[Flora Brasiliensis seu Enumeratio Plantarum]]'' 2(1): 319. 1829.<ref name = Trop>{{cita web |url=http://www.tropicos.org/Name/40020228 |título= ''Arthropogon''|fechaacceso=23 de abril de 2014 |formato= |obra=  Tropicos.org. [[Missouri Botanical Garden]]}}</ref> La [[especie tipo]] es: ''[[Arthropogon villosus]]''\\n== Especies aceptadas ==\\nA continuación se brinda un listado de las [[especie]]s del género ''Arthropogon'' aceptadas hasta abril de [[2014]], ordenadas alfabéticamente. Para cada una se indica el [[nombre binomial]] seguido del [[autor de nombre científico|autor]], abreviado según las convenciones y usos.\\n* ''[[Arthropogon filifolius]]'' Filg.\\t\\n* ''[[Arthropogon piptostachyus]]'' (Griseb.) Pilg.\\n* ''[[Arthropogon scaber]]'' Pilg. & Kuhlm.\\n* ''[[Arthropogon villosus]]'' Nees\\n* ''[[Arthropogon xerachne]]'' Ekman\\n\\n== Referencias ==\\n{{listaref}}\\n== Bibliografía ==\\n# Espejo Serna, A., A. R. López-Ferrari & J. Valdés-Reyna. 2000. Poaceae. Monocot. Mexic. Sinopsis Floríst. 10: 7–236 [and index].\\n# Filgueiras, T. S., G. Davidse, F. O. Zuloaga & O. N. Morrone. 2001. The establishment of the new genus Altoparadisium and a reevaluation of Arthropogon (Poaceae, Paniceae). Ann. Missouri Bot. Gard. 88(2): 351–372. View in BotanicusView in Biodiversity Heritage Library\\n# Forzza, R. C. 2010. Lista de espécies Flora do Brasil https://web.archive.org/web/20150906080403/http://floradobrasil.jbrj.gov.br/2010/. Jardim Botânico do Rio de Janeiro, Rio de Janeiro. \\n# Longhi-Wagner, H. M., V. Bittich, M. d. G. L. Wanderley & G. J. Shepherd. 2001. Poaceae. 1: 1–292. In M. G. L. Wanderly, G. J. Shepherd & A. M. Giulietti Fl. Fanerog. Estado São Paulo. Editora Hucitec, São Paulo.\\n# Missouri Botanical Garden. MO Generic Names in Use\\n# Renvoize, S. A. 1998. Gram. Bolivia 1–644. The Royal Botanic Gardens, Kew.\\n# Soreng, R. J., G. Davidse, P. M. Peterson, F. O. Zuloaga, E. J. Judziewicz, T. S. Filgueiras & O. N. Morrone. 2003 and onwards. On-line taxonomic novelties and updates, distributional additions and corrections, and editorial changes since the four published volumes of the Catalogue of New World Grasses (Poaceae) published in Contr. U.S. Natl. Herb. vols. 39, 41, 46, and 48. http://www.tropicos.org/Project/CNWG:. In R. J. Soreng, G. Davidse, P. M. Peterson, F. O. Zuloaga, T. S. Filgueiras, E. J. Judziewicz & O. N. Morrone (eds.) Internet Cat. New World Grasses. Missouri Botanical Garden, St. Louis. \\n# Webster, R. D., J. H. Kirkbride & J. V. Reyna. 1989. New World genera of the Paniceae (Poaceae: Panicoideae). Sida 13(4): 393–417. View in BotanicusView in Biodiversity Heritage Library\\n# Zuloaga, F. O., G. Davidse, T. S. Filgueiras & O. N. Morrone. 2003. Arthropogon. In Catalogue of New World Grasses (Poaceae): III. Subfamilies Panicoideae, Aristidoideae, Arundinoideae, and Danthonioideae. Contr. U.S. Natl. Herb. 46: 110–111.\\n== Enlaces externos ==\\n\\n* [http://images.google.co.uk/images?q=Arthropogon&safe=active Imágenes en Google]\\n* [http://www.kew.org/data/grasses-db/www/gen00060.htm Grassbase - The World Online Grass Flora]\\n\\n{{Control de autoridades}}\\n[[Categoría:Arthropogon]]\",\n",
              "  {'ref': 0.007220817622271022,\n",
              "   'categoría': 0.0013462707833446859,\n",
              "   'center': 0.004971292103346675,\n",
              "   'cita': 0.006683290112314583,\n",
              "   'br': 0.0,\n",
              "   'the': 0.04040842232593743,\n",
              "   'http': 0.014851594615082115,\n",
              "   'of': 0.028469215544800232,\n",
              "   'archivo': 0.0,\n",
              "   'background': 0.0,\n",
              "   'nbsp': 0.0,\n",
              "   'small': 0.0,\n",
              "   'usuario': 0.0,\n",
              "   'club': 0.0,\n",
              "   'https': 0.003672079774468273,\n",
              "   'web': 0.0038369403669484175,\n",
              "   'unidos': 0.0,\n",
              "   'ficha': 0.0022875407517875977,\n",
              "   'año': 0.0,\n",
              "   'años': 0.0}),\n",
              " ('El \\'\\'\\'caso adlativo\\'\\'\\' es un [[caso (gramática)|caso]] [[gramática|gramatical]] que se da en ciertas lenguas, como el [[Idioma vasco|vasco]], el [[Idioma estonio|estonio]], el [[Idioma húngaro|húngaro]], el [[Idioma finés|finés]], el [[Idioma turco|turco]] o el [[quenya]], llamado también \\'\\'aditivo\\'\\' o \\'\\'alativo\\'\\', que tiene como finalidad indicar la dirección \\'\\'\"hacia\"\\'\\' algo.\\n\\n{{Control de autoridades}}\\n[[Categoría:Casos gramaticales|Adlativo]]',\n",
              "  {'ref': 0.0,\n",
              "   'categoría': 0.015517542186972958,\n",
              "   'center': 0.0,\n",
              "   'cita': 0.0,\n",
              "   'br': 0.0,\n",
              "   'the': 0.0,\n",
              "   'http': 0.0,\n",
              "   'of': 0.0,\n",
              "   'archivo': 0.0,\n",
              "   'background': 0.0,\n",
              "   'nbsp': 0.0,\n",
              "   'small': 0.0,\n",
              "   'usuario': 0.0,\n",
              "   'club': 0.0,\n",
              "   'https': 0.0,\n",
              "   'web': 0.0,\n",
              "   'unidos': 0.0,\n",
              "   'ficha': 0.0,\n",
              "   'año': 0.0,\n",
              "   'años': 0.0}),\n",
              " ('{{otros usos|Azur (desambiguación)}}\\n[[Archivo:France moderne.svg|thumb|180px|El escudo del Reino de Francia «moderno», usado por los reyes de la [[dinastía de los Capetos]] desde el [[Siglo XIV|siglo&nbsp;XIV]], llevaba tres [[Flor de lis|flores de lis]] de [[Oro (heráldica)|oro]] sobre [[Campo (heráldica)|campo]] (fondo) de azur]]\\n\\nEn [[heráldica]], \\'\\'\\'azur\\'\\'\\' es la denominación heráldica de un color [[azul]] intenso u oscuro.<ref>{{Cita DLE|azur}}</ref><ref name=DicColor>{{cita libro|apellidos=Gallego|nombre=Rosa|título=Diccionario Akal del color|año=2001|editorial=Akal|isbn=978-84-460-1083-8|apellidos2=Sanz|nombre2=Juan Carlos|fechaacceso=28 de marzo de 2013}}</ref> De entre los [[Esmalte (heráldica)|esmaltes]] heráldicos, pertenece al grupo de los colores, junto con el [[gules]] (rojo), el [[Sable (heráldica)|sable]] (negro), el [[sinople]] (verde) y el [[Púrpura (heráldica)|púrpura]].\\n\\nPor otra parte, \\'\\'\\'azur\\'\\'\\' es un color que desde antiguo se ha aplicado a las coloraciones intensas intermedias entre el [[Celeste (color)|celeste]] y el [[añil|índigo]],<ref name=DicColor/> por lo que en la moderna teoría del color se puede considerar que el azur es un color [[Espectro visible|espectral]] intermedio entre el [[Cian (color)|cian]] y el [[azul]], y por lo mismo pertenece al [[círculo cromático]] natural.<ref>Maerz and Paul 1930. A Dictionary of Color</ref>\\n\\n== Sinónimos ==\\nOcasionalmente este esmalte ha sido llamado \\'\\'\\'[[turquí]]\\'\\'\\'.<ref name=DicColor />\\n\\n== Etimología ==\\nEl término «azur» proviene del [[Idioma francés|francés]] \\'\\'azur\\'\\',<ref>{{Cita DLE|azur|\\'\\'azur\\'\\'|fechaacceso=19 de enero de 2013}}</ref><ref name=OED>«[http://www.etymonline.com/index.php?term=azure \\'\\'azure\\'\\']», \\'\\'Online Etymology Dictionary\\'\\', Douglas Harper, 2001–2012, consultado el 18 de enero de 2013.</ref> que comparte origen con «azul», al que se considera derivado del [[Árabe andalusí|árabe hispánico]] \\'\\'lazawárd\\'\\', este del [[Idioma árabe|árabe]] \\'\\'lāzaward\\'\\', ‘lapislázuli’, este del [[Idioma persa|persa]] \\'\\'laǧvard\\'\\' o \\'\\'lažvard\\'\\', y este del [[sánscrito]] \\'\\'rājāvarta\\'\\', ‘rizo del rey’.<ref>{{Cita DLE|azul|\\'\\'azul\\'\\'|fechaacceso=19 de enero de 2013}}</ref> Otra interpretación sostiene que el persa \\'\\'laǧvard\\'\\' o \\'\\'lažvard\\'\\' derivaría de Lajward, una región de [[Turquestán]] donde, según [[Marco Polo]], se obtenía el [[lapislázuli]], piedra semipreciosa de color azul.<ref name=OED />\\n\\n== Historia ==\\n\\nEn los inicios de la heráldica, entre los [[Siglo XII|siglos&nbsp;XII]] y [[Siglo XIII|XIII]], el azur era un esmalte poco empleado: el [[historiador]] [[Michel Pastoureau]] halló que aparecía solamente en el 10 al 15&thinsp;% de las armerías europeas.<ref>{{cita libro|apellidos=Pastoureau|nombre=Michel|título=Black: The History of a Color|año=2008|editorial=[[Princeton University Press]]|isbn=978-0-691-13930-2|ubicación=Princeton; Oxford|fechaacceso=18 de enero de 2013|página=72|idioma=inglés}}</ref> Sin embargo, hacia mediados del siglo [[Siglo XIV|siglo&nbsp;XIV]] había ganado terreno a expensas del [[gules]] y del [[Sable (heráldica)|sable]], volviéndose el color predominante en los blasones europeos.<ref>{{cita publicación|apellido=Ainsworth|nombre=Peter|título=Heralds, Heraldry and the Colour Blue in the \\'\\'Chronicles\\'\\' of Jean Froissart|publicación=The Medieval Chronicle: Proceedings of the 1st International Conference on the Medieval Chronicle|fecha=Enero de 1999|serie=Costerus New Series 120|url=http://books.google.es/books?id=z5YXGKO-NOYC&lpg=PP1&hl=es&pg=PA47#v=onepage&q&f=false|fechaacceso=24 de marzo de 2013|nombre-editor=Erik Kooper|página=47|editorial=Rodopi|idioma=inglés|isbn=9042005769}}</ref>\\n\\n[[Archivo:Heráldica - azur.svg|thumb|100px|Azur heráldico convencional y manera de representarlo mediante un rayado horizontal cuando no se dispone de colores]]\\n\\n== Representación ==\\n\\nEl azur no se encuentra definido con exactitud. En consecuencia, el [[Tono (color)|tono]] y el [[Matiz (color)|matiz]] de azul a emplear para representarlo quedan a criterio del artista heráldico. Se recomienda, sin embargo, que el azul sea fuerte y fiel a su naturaleza; no debe ser [[Púrpura|purpúreo]] ni [[Verde|verdoso]].<ref>{{cita libro|apellidos=Von Volborth|nombre=Carl A.|título=The Art of Heraldry|url=https://archive.org/details/artofheraldry0000vonv|página=[https://archive.org/details/artofheraldry0000vonv/page/18 18]|año=1991|editorial=Tiger Books International|isbn=1-85501-154-9|ubicación=Londres|fechaacceso=8 de enero de 2013|página=21|idioma=inglés}}</ref>\\n\\nCuando no se dispone de colores, el azur puede representarse mediante un rayado muy fino de líneas horizontales paralelas, según el método atribuido al [[jesuita]] [[Silvestre Pietra Santa]].<ref name=Piferrer>{{cita libro|apellidos=Piferrer|nombre=Francisco|título=Tratado de heráldica y blasón|año=1858|editorial=Imprenta de Ramón Campuzano|ubicación=Madrid|fechaacceso=18 de enero de 2013}}</ref> Este es el método de representación que se ve comúnmente en [[grabado]]s a una tinta.\\n\\n== Ejemplos de uso ==\\n\\nSiguen tres ejemplos antiguos y notables del uso del azur.\\n<gallery align=\"center\">Arms of Geoffrey of Anjou.svg|El escudo de [[Godofredo V de Anjou|Godofredo Plantagenet]], Conde de Anjou y Duque de Normandía, que data de alrededor de [[1125]]\\nShield of the County of Portugal (1095-1139).png|Armas de [[Enrique de Borgoña]], Conde de Portugal, que datan de [[1095]]. Del azur de este escudo deriva el esmalte azur del actual [[Escudo de Portugal]].\\nEU Member States\\' CoA Series- Sweden.svg|Las [[Escudo de Suecia|Armas Menores de Suecia]], con las llamadas «Tres Coronas». Este escudo data de alrededor de [[1336]].</gallery>\\n\\nEn el [[Museo de Tessé]], en [[Le Mans]], se conserva una placa esmaltada proveniente de la tumba de Godofredo Plantagenet que lo representa empuñando su espada y su escudo (\\'\\'de azur, sembrado de leoncillos de [[Oro (heráldica)|oro]]\\'\\'). Esta efigie, que se remonta a alrededor del año [[1160]],<ref>{{cita libro|apellidos=Pastoureau|nombre=Michel|título=Una historia simbólica de la Edad Media occidental|año=2006|editorial=Katz|isbn=987-1263-25-3|ubicación=Buenos Aires|fechaacceso=19 de enero de 2013|página=242}}</ref> es considerada la imagen más antigua de un escudo en color que haya llegado hasta nosotros.<ref>{{cita libro|apellidos=Bedingfeld|nombre=Henry|título=Heraldry|año=1993|editorial=Chartwell Books|isbn=1-55521-932-2|ubicación=Secaucus|apellidos2=Gwynn–Jones|nombre2=Peter|fechaacceso=19 de enero de 2013|página=14|idioma=inglés}}</ref>\\n\\n[[Archivo:Blason ville fr Lohéac (Ille-et-Vilaine).svg|thumb|120px|Forro de veros convencionales, alternando plata y azur]]\\n=== Uso en los veros ===\\n\\nDe entre los forros heráldicos, los [[Vero (heráldica)|veros]] son típicamente de azur y [[Argén|plata]], aunque en raras ocasiones pueden ser de otros colores. Se cree que el azur de los veros proviene del hecho de que este motivo heráldico, hoy muy estilizado, era antiguamente un forro confeccionado con muchas pieles de ardilla gris, que se cosían entre sí alternando los retazos correspondientes al lomo (azur) con los que se tomaban de la panza de los animales (plata).<ref name=VonVolborth>{{cita libro|apellidos=Von Volborth|nombre=Carl A.|título=The Art of Heraldry|url=https://archive.org/details/artofheraldry0000vonv|año=1991|editorial=Tiger Books International|isbn=1-85501-154-9|ubicación=Londres|fechaacceso=18 de enero de 2013|página=[https://archive.org/details/artofheraldry0000vonv/page/21 21]–23|idioma=inglés}}</ref>\\n\\n=== Uso en las ondas ===\\n\\nLa figura heráldica llamada «[[Anexo:Glosario de heráldica#Ondas|ondas]]», así como las [[Partición heráldica|particiones]] y [[Pieza (heráldica)|piezas]] onduladas, se han usado con cierta frecuencia para representar cuerpos y corrientes de agua (el mar, ríos, etc.); en estos casos la sugerencia de agua suele reforzarse mediante el uso del esmalte azur.\\n\\nEn el caso de las ondas, si bien pueden representarse en cualquier combinación de color y metal, para hacer referencia al agua suele recurrirse a las de plata y azur.\\n\\n<gallery align=\"center\">Coat of arms of Zeeland.svg | Armas del antiguo [[Condado de Zelanda]], con ondas de plata y azur\\nWappen Unterjesingen.svg | Armas de la localidad [[Alemania|alemana]] de [[Unterjesingen]], en el [[distrito de Tubinga]], con una [[Barra (heráldica)|barra]] ondulada de azur\\nSimrishamn vapen.svg | Armas del municipio [[Suecia|sueco]] de [[Simrishamn]], con una partición ondulada</gallery>\\n\\n== Nombres, atribuciones y significados en desuso ==\\nHacia el inicio del Renacimiento<ref>{{cita web|título=Precious Peers and Planetary Princes|url=http://pages.ripco.net/~clevin/gemarms.html|fechaacceso=31 de diciembre de 2012|idioma=inglés|apellido=Levin|nombre=Craig|urlarchivo=https://web.archive.org/web/20120314015244/http://pages.ripco.net/~clevin/gemarms.html|fechaarchivo=14 de marzo de 2012}}</ref> se desarrolló un sistema de correspondencias simbólicas para los colores heráldicos que hoy se encuentra en desuso.\\nEs de notar que hacia [[1828]] este sistema era considerado absurdo por el [[heraldista]] inglés [[William Berry]],<ref name=Berry>{{cita libro|apellidos=Berry|nombre=William|título=Encyclopædia Heraldica, Vol. 1|editorial=Sherwood, Gilbert and Piper|ubicación=Londres|fechaacceso=18 de enero de 2013|idioma=inglés|fecha=c. 1828}}</ref><ref group=\"Nota\" name=\"Berry1\">«Algunos heraldos imaginativos de tiempos pasados, para mayor distinción y honor del portador de las armas, han llamado en su ayuda no solo a los cuerpos celestes, sino a las más preciosas piedras del orbe para describir los colores de las armas de los príncipes soberanos y nobles de la tierra; y han llevado su imaginación aún más lejos, atribuyendo a cada planeta, signo celestial [zodiacal], piedra preciosa, metal y color las virtudes que representan, así como a los meses, días, flores, elementos, estaciones del año, complexiones y números que por estos se entendían. Sin suscribir a estos caprichos y fantasías, ni con el deseo de perpetuar estas locuras, sino simplemente con el objeto de mostrar el entusiasmo extravagante con que la heráldica ha sido practicada algunas veces, el autor ha anexado un paradigma de estos absurdos...»</ref> aunque el español [[Francisco Piferrer]], en [[1858]], lo comenta como si todavía fuese válido.<ref name=Piferrer />\\n\\nSi bien [[Jean Courtois]], Heraldo Sicilia del [[Reino de Aragón]], menciona en su tratado \\'\\'Le blason des couleurs\\'\\' ([[1414]]) que cualquiera de estas asociaciones del azur puede usarse para [[Blasonamiento|blasonar]],<ref name=Sicille>{{cita libro|título=Le blason des couleurs en armes, livrées et devises|año=1809 [reedición anotada de un tratado de 1414]|editorial=Auguste Aubry|editor=Hippolyte Cocheris|autor=Jean Courtois (Sicille), Heraldo de Alfonso V, Rey de Aragón|ubicación=París|fechaacceso=18 de enero de 2013|idioma=francés}}</ref> en la práctica es posible que solamente se hayan usado el sistema planetario y el sistema de [[Gema|piedras preciosas]]. Para Alberto y Arturo García Caraffa ([[1919]]), el blasonado con gemas correspondía a los títulos y el de planetas a los soberanos.<ref name=GarciaCaraffa>{{cita libro|apellidos=García Caraffa|nombre=Alberto y Arturo|título=Enciclopedia heráldica y genealógica hispano–americana, Tomo Primero|año=1919|editorial=Imprenta de Antonio Marzo|ubicación=Madrid|fechaacceso=18 de enero de 2013}}</ref>\\n[[Arthur Fox-Davies]] cita un ejemplo de blasonado con piedras preciosas que data de 1458.<ref>{{cita libro|apellidos=Fox–Davies|nombre=Arthur C.|título=A Complete Guide to Heraldry|año=1909|editorial=T.C. & E.C. Jack|ubicación=Londres, Edimburgo|url=http://openlibrary.org/books/OL7101030M/A_complete_guide_to_heraldry|fechaacceso=18 de enero de 2013|página=77|idioma=inglés}}</ref><ref group=\"Nota\" name=\"Fox-Davies\">Blasonado de las armas otorgadas a Mödling bei Wien en 1458:\\n\\'\\'Mit namen ain Schilt gleich getailt in fasse, des ober und maister tail von Rubin auch mit ainer fasse von Berlein, der under thail von grunt des Schilts von Schmaragaden, darinneain Pantel von Silber en Rampannt.\\'\\'\\n«A saber, un escudo cortado en partes iguales: la parte superior y mayor de rubí, también con una faja de perla; la parte inferior del campo del escudo de esmeralda, y en él una pantera de plata, rampante.»</ref>\\n\\nDebajo se dan algunas de las antiguas correspondencias simbólicas del azur, así como algunos de los nombres que se le atribuyeron.\\n\\n{| class=\"wikitable\"\\n|-\\n| \\'\\'\\'Nombres «griegos»\\'\\'\\'<ref group=\"Nota\" name=\"Piferrer\">Los tratadistas heráldicos de siglos pasados sostenían que los blasones se habían originado en el [[antiguo Egipto]], en la [[antigüedad clásica]] o incluso en sucesos relatados en el [[Antiguo Testamento]] (ver García Caraffa, op. cit., p. 6). Para Piferrer, los nombres citados corresponderían a las épocas anterior y posterior a la destrucción de [[Troya]].</ref> || \\'\\'sidero\\'\\', \\'\\'veneto\\'\\', \\'\\'stagonne\\'\\', \\'\\'detrady\\'\\'<ref name=Sicille />\\n|-\\n| \\'\\'\\'Metal\\'\\'\\' || el [[cobre]],<ref name=Berry /><ref name=DeBara>{{cita libro|apellidos=De Bara|nombre=Jérôme|título=Le blason des armoiries|año=1579|editorial=Imprenta de Claude Rauot|ubicación=Lyon|fechaacceso=18 de enero de 2013|idioma=francés}}</ref> el [[hierro]],<ref name=Sicille /> el [[acero]]<ref name=LopezdeHaro>{{cita libro|apellidos=López de Haro|nombre=Alonso|título=Nobiliario genealógico de los reyes y títulos de España. Libro I|año=1622|editorial=Imprenta de Luis Sánchez|ubicación=Madrid|fechaacceso=27 de marzo de 2013|página=5}}</ref>\\n|-\\n| \\'\\'\\'Planeta\\'\\'\\' || [[Júpiter (planeta)|Júpiter]],<ref name=Berry /><ref name=Sicille /> [[Venus (planeta)|Venus]]<ref name=DeBara /><ref name=LopezdeHaro />\\n|-\\n| \\'\\'\\'Piedra preciosa\\'\\'\\' || el [[zafiro]]<ref name=Berry /><ref name=Sicille /><ref name=DeBara /><ref name=LopezdeHaro />\\n|-\\n| \\'\\'\\'Signo del Zodíaco\\'\\'\\' || [[Tauro (astrología)|Tauro]] y [[Libra (astrología)|Libra]]<ref name=Berry /><ref name=DeBara /><ref name=LopezdeHaro />\\n|-\\n| \\'\\'\\'Elemento\\'\\'\\' || el aire<ref name=Berry /><ref name=Sicille /><ref name=DeBara /><ref name=LopezdeHaro />\\n|-\\n| \\'\\'\\'Estación del año\\'\\'\\' || la [[primavera]],<ref name=Berry /> el [[otoño]],<ref name=Sicille /> el [[verano]]<ref name=DeBara />\\n|-\\n| \\'\\'\\'Mes\\'\\'\\' || abril y septiembre<ref name=Berry /><ref name=DeBara /><ref name=LopezdeHaro />\\n|-\\n| \\'\\'\\'Día de la semana\\'\\'\\' || el [[viernes]],<ref name=DeBara /><ref name=LopezdeHaro /> el [[jueves]],<ref name=Berry /> el [[martes]]<ref name=Sicille />\\n|-\\n| \\'\\'\\'Números\\'\\'\\' || 4, 9<ref name=Berry /><ref name=DeBara />\\n|-\\n| \\'\\'\\'Árbol\\'\\'\\' || el [[Populus|álamo]],<ref name=Piferrer /> el [[Quercus|roble]]<ref name=LopezdeHaro />\\n|-\\n| \\'\\'\\'Flor\\'\\'\\' || la [[Lilium|azucena]] azul,<ref name=Berry /> el [[Centaurea cyanus|aciano]],<ref name=DeBara /> la [[Viola (género)|violeta]]<ref name=LopezdeHaro />\\n|-\\n| \\'\\'\\'Ave\\'\\'\\' || el [[Pavo cristatus|pavo real]]<ref name=Piferrer />\\n|-\\n| \\'\\'\\'Cuadrúpedo\\'\\'\\' || el [[Chamaeleonidae|camaleón]]<ref name=LopezdeHaro />\\n|-\\n| \\'\\'\\'Edad del hombre\\'\\'\\' || la segunda infancia,<ref name=Berry /><ref name=Sicille /><ref name=DeBara /> los quince años<ref name=LopezdeHaro />\\n|-\\n| \\'\\'\\'Complexión humana\\'\\'\\' || [[Temperamento#Temperamento sanguíneo|sanguínea]],<ref name=Berry /><ref name=Sicille /><ref name=DeBara /> [[Temperamento#Temperamento colérico|colérica]]<ref name=Sicille /><ref name=LopezdeHaro />\\n|-\\n| \\'\\'\\'[[Virtudes teologales]] y [[Virtudes cardinales|cardinales]]\\'\\'\\' || la [[Justicia (virtud)|justicia]],<ref name=Berry /><ref name=Sicille /><ref name=DeBara /> la [[Fortaleza (virtud)|fortaleza]]<ref name=LopezdeHaro />\\n|-\\n| \\'\\'\\'Virtudes y cualidades mundanas\\'\\'\\' || la lealtad,<ref name=Berry /><ref name=Sicille /> la ciencia,<ref name=Sicille /><ref name=DeBara /> la hermosura,<ref name=DeBara /><ref name=LopezdeHaro /> la alabanza, la dulzura, la claridad, la pureza, el renombre,<ref name=DeBara /> la nobleza, la perseverancia, la vigilancia, la recreación, el celo<ref name=Piferrer />\\n|-\\n| \\'\\'\\'Obligaciones del portador\\'\\'\\' || defender a los servidores de los príncipes que se han quedado sin remuneración de sus servicios<ref name=LopezdeHaro />\\n|}\\n\\n== El color azur en la actualidad ==\\n{{Ficha de color|\\n nombre=Azur|\\n colortexto=white|\\n imagen=|\\n imagen_pie=|\\n hex=0099FF|\\n r=0|g=153|b=255|\\n c=100|m=40|y=0|k=0|\\n h=204|s=100&thinsp;|v=100&thinsp;|\\n source=Azur<ref>En el círculo cromático RGB, el azur está definido como intermedio entre el azul y el cian en Maerz & Paul 1930 \"A Dictionary of Color New York\" azure color sample L12 Plate 33 Page 89</ref> o azur resplandeciente<ref name=CS >[http://www.colorcombos.com/tags/colors/azure-radiance Azure Radiance] Color Schemes 2015, Gremillion Consulting, Houston, Texas, USA</ref>\\n}}\\n\\nActualmente, el azur es un color usado en ocasiones en el ámbito de la pintura decorativa, cosmética y otros. Es importante la influencia del idioma italiano, donde el color [[:it:azzurro|\\'\\'azzurro\\'\\']] (vèase [[azzurri]]) es más claro que el [[:it:blu|\\'\\'blu\\'\\']], pero más intenso que el [[Celeste (color)|celeste]]. En inglés [[:en:Azure (color)|\\'\\'azure\\'\\']] se define como el color del cielo despejado.<ref>[http://www.merriam-webster.com/dictionary/azure azure] Merriam-Webster Dictionary, Encyclopædia Britannica Company</ref> En ruso, [[:ru:Голубой цвет|Голубой]] (\\'\\'goluboi\\'\\' = celeste y azul claro) está definido como un color diferente de [[:ru:Синий цвет|Синий]] (\\'\\'sinii\\'\\' = azul y azul oscuro).\\n\\nSe puede llamar azur a los tonos que se perciben como intermedios entre el azul y el cian.<ref name=CS /> Su color complementario es el [[Naranja (color)|naranja]].\\n\\n=== Variaciones y coloraciones similares ===\\n{{Colort cabecera}}\\n{{Colort|name=\\'\\'Azure\\'\\' ([[colores web|web]], [[Crayola]])|hex=F0FFFF|r=240|g=255|b=255|h=180|s=100|v=100}}\\n{{Colort|name=Azur claro (pintura)<ref>[http://encycolorpedia.com/92cbf1 Light Azure] Dunn-Edwards Light Azure - 748 y California Paints DE 5842 - Light Azure</ref>|hex=92CBF1|r=146|g=203|b=241|h=204|s=39|v=95}}\\n{{Colort|name=Celeste intenso (X11)|hex=00BFFF|r=0|g=191|b=255|h=195|s=100|v=100}}\\n{{Colort|name=[[Cian (color)#Cian sustractivo (color primario)|Azul cian]] (CMYK)<ref>Cian sustractivo en: Gallego, Rosa; Sanz, Juan Carlos (2005). Guía de coloraciones. Madrid: H. Blume</ref>|hex=00B0F6|r=0|g=176|b=246|h=197|s=100|v=96}}\\n{{Colort|name=Azul azur<ref>[https://web.archive.org/web/20081004183044/http://colors.bravo9.com/nbs-iscc-f-colors-for-ready-mixed-paints/ Colors; (for) Ready-Mixed Paints] Kelly & Judd 1976, NBS/ISCC F (AN 609, USA 308) </ref>|hex=8791BF|r=135|g=145|b=191|h=229|s=29|v=75}}\\n{{Colort|name=Azur<ref>Maerz and Paul 1930. A Dictionary of Color. Color sample L12, Plate 33, Page 89</ref>|hex=007FFF|r=0|g=127|b=255|h=210|s=100|v=100}}\\n{{Colort|name=[[Cerúleo]] genuino<ref>Gallego, Rosa; Sanz, Juan Carlos (2005). Guía de coloraciones. Madrid: H. Blume</ref>|hex=0087D1|r=0|g=135|b=209|h=201|s=100|v=82}}\\n{{Colort|name=Azur (HTML)<ref>[http://tx4.us/mh/mh216.htm Azure HTLM] Colo(u)r Charts o azul Crayola</ref>|hex=0066FF|r=0|g=102|b=255|h=216|s=100|v=100}}\\n{{Colort|name=Azur (óleo)<ref>[http://www.art-paints.com/Paints/Oil/Etude-Art/Azure-Blue/Azure-Blue.html Azure Blue Student Oil Paint] </ref>|hex=0071D1|r=0|g=113|b=209|h=208|s=100|v=82}}\\n{{Colort|name=Azul azur (RAL)<ref>[http://www.coloresral.es/ Azul azur] </ref>|hex=025669|r=2|g=86|b=105|h=191|s=98|v=41}}\\n|}\\n\\n=== Galería ===\\n<gallery>\\nLapis lazuli block.jpg | Los términos azul y azur derivan del [[lapislázuli]]\\nAzurblau Pigment.JPG | Pigmento azur\\nCopper sulfate.jpg | [[Calcantita]] ([[Sulfato de cobre (II)|sulfato de cobre]])\\nSpring Gentian.jpg | La [[Gentiana verna|gitanilla menuda]] es de color azur \\nMountain Bluebird.jpg | [[Azulejo de las montañas]]\\nDodecagrama cromático natural.PNG | Posición del azur en el [[círculo cromático]] RGB\\n</gallery>\\n\\n== Véase también ==\\n{{columnas}}\\nLos metales heráldicos:\\n* [[Oro (heráldica)|Oro]]\\n* [[Argén|Plata]]\\n<br />\\nLos otros esmaltes heráldicos principales:\\n* [[Gules]]\\n* [[Sable (heráldica)|Sable]]\\n* [[Sinople]]\\n* [[Púrpura (heráldica)|Púrpura]]\\n{{nueva columna}}\\nY además:\\n* [[Heráldica]]\\n* [[Esmalte (heráldica)]]\\n* [[Azul]]\\n* [[Turquí]]\\n* Una lista de colores en el [[Anexo:Colores]]\\n{{final columnas}}\\n\\n== Notas ==\\n{{Listaref|grupo=\"Nota\"}}\\n\\n== Referencias ==\\n{{listaref}}\\n\\n== Enlaces externos ==\\n{{commonscat|Azure (heraldry)}}\\n{{wikcionario}}\\n\\n{{Control de autoridades}}\\n[[Categoría:Esmaltes heráldicos]]\\n[[Categoría:Azul]]\\n[[Categoría:Tonalidades de azul]]',\n",
              "  {'ref': 0.07234976088197045,\n",
              "   'categoría': 0.0012387953846743117,\n",
              "   'center': 0.0030496161642378766,\n",
              "   'cita': 0.019474208793656148,\n",
              "   'br': 0.0013406662044246926,\n",
              "   'the': 0.007436507974269157,\n",
              "   'http': 0.006377449452358791,\n",
              "   'of': 0.015281270108606007,\n",
              "   'archivo': 0.003819977441092233,\n",
              "   'background': 0.0,\n",
              "   'nbsp': 0.005051369449698363,\n",
              "   'small': 0.0,\n",
              "   'usuario': 0.0,\n",
              "   'club': 0.0,\n",
              "   'https': 0.003378930548775428,\n",
              "   'web': 0.0,\n",
              "   'unidos': 0.0,\n",
              "   'ficha': 0.0007016406507583809,\n",
              "   'año': 0.003491192359612625,\n",
              "   'años': 0.0012409107036844133}),\n",
              " ('[[Archivo:Musashi ts pic.jpg|thumb|250px|El guerrero japonés [[Miyamoto Musashi]] (1584-1645), autor de \\'\\'El libro de los cinco anillos\\'\\', sobre artes marciales.]]\\n\\nLos términos \\'\\'\\'arte marcial\\'\\'\\', \\'\\'\\'artes marciales\\'\\'\\', \\'\\'\\'artes militares\\'\\'\\' y \\'\\'\\'artes castrenses\\'\\'\\' aluden a aquellas prácticas y tradiciones cuyo objetivo es someter o defenderse mediante una técnica concreta.\\n\\nHay varios estilos y escuelas de artes marciales que habitualmente excluyen el empleo de [[armas de fuego]] u otro tipo de armamento moderno. A su vez, lo que diferencia a las artes marciales de la mera belicosidad o [[violencia]] física ([[pelea callejera]]) es la organización de sus técnicas y tácticas en un sistema coherente; la adhesión a una filosofía de vida o [[código de honor|código de conducta]] y la codificación de métodos efectivos probados en la antigüedad. En la actualidad, las artes marciales se practican por diferentes razones: la salud, la [[legítima defensa|protección personal]], el [[desarrollo personal]], la [[disciplina mental]], la forja del [[carácter (psicología)|carácter]] y la [[autoconfianza]]. El significado estricto es el de ‘artes militares’, por extensión se aplica a todo tipo de estilos de artes de [[combate|lucha]] cuerpo a cuerpo y al uso de [[armas tradicionales]] tales como el/la [[esgrima antigua]].\\n\\n== Introducción ==\\n{{noneutral}}\\n\\nEn lo que respecta a las artes marciales de origen oriental, se establece un comienzo a partir de la visita de [[Gautama Buda|Gautama el Buda]] (500 a.c. aprox.) a China, donde él bendice a los desarrolladores con el conocimiento del [[Qí]], principio activo de la cultura china tradicional que forma parte de todo ser vivo y que podría traducirse como \"flujo vital de energía\". Esto los invitó a reflexionar en una nueva manera de movimientos armónicos donde el Qí circulara correctamente a través del cuerpo y se manifestara al exterior con belleza, suavidad, facilidad y potencia. A partir del conocimiento de la [[energía]] inicia uno de los desarrollos más antiguos de las artes corporales como herramienta marcial.\\n\\nSin embargo, hasta el [[siglo XIX]] no surge el concepto y término moderno de \\'\\'artes marciales\\'\\', el cual deriva de los caracteres [[idioma chino|chinos]] \\'\\'[[wushu (término)|wǔ shù]] 武術 y \\'\\'[[wuyi (término)|wǔ yì]]\\'\\' 武藝.\\'\\' Por su parte, el nombre [[marcial]] proviene de [[Marte (dios)|Marte]], el [[mitología romana|dios de la guerra]] [[Roma antigua|romano]]. Las artes marciales orientales, en algunos casos, se practicaban en círculos cerrados o eran distintivas de una [[élite]] relacionada con la [[milicia]] y la [[nobleza]], como fue el caso de los guerreros [[samurái]],<ref name=\"repetida_2\">R. W. Patterson: «Bushido’s role in the growth of pre-World War II Japanese nacionalism», en el \\'\\'[[Journal of Asian Martial Arts]]\\'\\', vol.&nbsp;17, n.º&nbsp;3, 2008</ref><ref name=\"repetida_1\">Victoria, B. D.: \\'\\'Zen at war\\'\\', 2006</ref> y su contenido iba mucho más allá de lo que constituía el entrenamiento de las tropas.\\n\\nEl [[diccionario]] [[idioma chino|chino]]-[[idioma inglés|inglés]] \\'\\'Chinese-English Dictionary\\'\\' (1882), de [[Herbert A. Giles]], traduce \\'\\'wǔ yì\\'\\' como ‘artes militares’. Por su parte, no se emplea el término \\'\\'wǔ shù\\'\\' hasta 1931, en el \\'\\'Chinese-English Dictionary\\'\\' de [[Mathews]]. El término también aparece en 1920, en el \\'\\'Japanese-English Dictionary\\'\\', de [[Takenobu]], en la traducción del [[idioma japonés|japonés]] \\'\\'bu-gei\\'\\' (武芸) o \\'\\'bu-jutsu\\'\\' (武術), como \"el oficio o desempeño de los asuntos militares\". Otras pronunciaciones comunes del par de caracteres 武術 son: \\'\\'mou seut\\'\\', en [[idioma cantonés|cantonés]], y \\'\\'võ-thuật\\'\\', en [[idioma vietnamita|vietnamita]]. En China, durante el [[Periodo Republicano (China)|Período Republicano]], de 1928 a 1949, los sistemas de lucha chinos se denominaron [[guoshu]] o [[kuoshu]] (國術, \"habilidad nacional\").<ref>W. Qu, Huang, S., y Shu, S.: \\'\\'Zhongyang guoshuguan shi\\'\\', 1996.</ref>\\n\\nEl origen del concepto de artes marciales está relacionado con la irrupción de la [[Edad Moderna]] en el [[Extremo Oriente|este de Asia]] en el siglo XIX. Este fenómeno supuso la transformación de las estructuras sociales [[feudalismo|feudales]]; el inicio en el empleo de las [[arma de fuego|armas de fuego]], las cuales hacían perder vigencia a las formas tradicionales de lucha y la desaparición de los principios por los que se regía el mundo oriental. En [[China (región)|China]] y en [[Corea]], por el contrario, durante el siglo XIX y comienzos del [[Siglo XX|XX]] se veía con desprecio a las artes marciales y a sus practicantes debido al auge del [[confucionismo]] como parte de las políticas del Estado. En consecuencia, el componente militar de la nación quedó debilitado.<ref>Graff, D. y Higham, R. (2002). \\'\\'A Military History of China\\'\\'.</ref>\\n\\nCuando las artes militares tradicionales perdieron su lugar crucial en el dominio de la sociedad y la defensa del país, se transformaron en una opción para el desarrollo físico y moral de la nación, con objeto de mejorar física y espiritualmente a la población, lo que contribuyó a que se perdiera gran parte del conocimiento de las aplicaciones prácticas de las mismas.<ref>{{Cita web|url=https://www.nytimes.com/2016/08/23/world/asia/hong-kong-kung-fu.html|título=Exit the Dragon? Kung Fu, Once Central to Hong Kong Life, Is Waning|títulotrad=Kung Fu: del centro de la vida de Hong Kong, a una actividad minoritaria|autor=Charlotte Yang|nombre=Charlotte Yang|fecha=22 de agosto de 2016}}</ref>\\n\\n[[Archivo:Beni Hassan tomb 15 wrestling detail.jpg|thumb|350px|Escenas de lucha en las tumbas egipcias de [[Beni Hassan]]]]\\n\\nEn la actualidad, las artes marciales tradicionales orientales aún incluyen la práctica de un [[código de honor|código ético]] preciso que tiene sus raíces en las [[historia de la filosofía de Oriente|filosofías de Oriente]], como el [[confucionismo]] chino, el [[sintoísmo]] japonés y el [[budismo chan|budismo zen]] (\\'\\'chan\\'\\' 禪). Además, algunas artes marciales, como el [[tai chi chuan]], se preservan hoy día como una práctica para mejorar la salud física y mental.{{citarequerida}}\\n\\nEn China, por su parte, se inventó el [[chuan fa]] o [[kung-fu]], que dio lugar más tarde al [[wushu (deporte)|wushu]].{{citarequerida}} En Japón, en cambio, aparecieron los \\'\\'do\\'\\' (o ‘caminos’) como el [[karate-do]], el [[judo]], el [[aikido]], el [[kendo]] y el [[kobudo]].{{citarequerida}} Y, a través de estas disciplinas, se desarrollaron más tarde en Corea el [[taekwondo]], el [[tangsudo]], el [[hapkido]] y el [[hankido]].\\n\\nEl éxito de las artes marciales tradicionales, que surgieron como una re-interpretación de las artes militares históricas, propició que se recuperasen en diversas culturas los sistemas de lucha con y sin armas clásicas. Así, en Japón se diferencian las antiguas escuelas clásicas conocidas como [[koryu budo]], en relación con las artes marciales tradicionales modernas, surgidas tras la [[restauración Meiji]] ([[1868 en China|1868]]) o [[gendai budo]], y en China, las [[artes marciales de China|artes marciales]] han derivado en el [[wushu (deporte)|wushu moderno]].\\n\\nAlgunas artes marciales, y en particular las artes marciales originadas en China, Japón y Corea, van más allá de las aplicaciones físicas, e incluyen conocimientos de [[traumatología]], [[regulación psicofísica]] ([[chi kung]] o [[qigong]]), terapéutica ([[acupuntura]], [[digitopuntura]], [[herboristería china|herboristería]]) y otras áreas relacionadas con la [[medicina china tradicional]]. Esto es una extensión natural del arte marcial, debido a que, a un nivel avanzado, las técnicas sacan provecho de un detallado conocimiento de la [[fisiología]] y del funcionamiento energético en el organismo del adversario, con objeto de incrementar la eficiencia de las mismas.\\n\\nAdemás, los practicantes de diversas artes marciales tradicionales han comenzado a redescubrir los diferentes métodos de [[construcción de armas]] [[armas antiguas|antiguas]], desde la [[forja]] de espadas hasta la [[ensambladura]] de [[catapulta]]s y la elaboración de las [[torre de asedio|torres de asedio]], incluida la reproducción de [[armadura (combate)|armaduras]] y vestidos; y a investigar acerca de las costumbres y conocimientos tradicionales originarios de estas técnicas.\\n\\nOtras artes marciales tienen otros orígenes, como por ejemplo el [[Capoeira]], de origen afro- brasilero.\\n\\nTambién el [[boxeo]] es considerado un arte marcial por algunas corrientes.\\n\\n== Clasificación ==\\nUna de las clasificaciones generales de las artes marciales es la división entre sistemas sin armas y sistemas con armas.\\n\\nLa mayoría de artes marciales están especializadas en un tipo de armas o un tipo de técnicas a mano desnuda (sin armas). Sin embargo, algunas se declaran sistemas completos con y sin armas. Ejemplos de estas son la mayoría de las artes marciales clásicas de China, como el [[kung-fu]] tipo [[shaolín]] o los estilos [[taoísmo|taoístas]]; algunas artes marciales japonesas como el [[ninjutsu]], e incluso artes modernas como el [[Hapkido]].\\n\\nLos sistemas con armas incluyen como armas principales:\\n\\n* El [[arco (arma)|arco]]\\n* La [[lanza]]\\n* La [[espada]]\\n* Los bastones de diferentes longitudes, grosores y materiales\\n\\nExisten asimismo múltiples armas secundarias como cadenas, mazas, hachas y cuchillos.\\n\\nLas técnicas desarrolladas en los sistemas sin armas pueden consistir en golpes como puñetazos, golpes de mano abierta, [[patadas]] o técnicas de lucha, como los [[agarrar|agarres]], las [[luxación (artes marciales)|luxaciones]], las estrangulaciones, las [[proyección (artes marciales)|proyecciones]] y las [[inmovilización|inmovilizaciones]], y pueden atender a la existencia o no de [[armadura (combate)|armadura]] por parte del oponente.\\n\\n== Métodos ==\\nUn procedimiento común de entrenamiento consiste en la práctica de un grupo de técnicas encadenadas y codificadas en una serie. Se conoce como estructura o, más popularmente, como forma (\\'\\'kata\\'\\', \\'\\'poomse\\'\\', \\'\\'chuan tao\\'\\', \\'\\'kuen\\'\\', \\'\\'tao lu\\'\\', \\'\\'hyung\\'\\' o \\'\\'tul\\'\\'). La práctica de formas es un método de aprendizaje y entrenamiento de técnicas con una aplicación específica.\\n\\nOtro sistema de entrenamiento es el de lucha simulada con un compañero o ejercicios por parejas (\\'\\'sparring\\'\\', \\'\\'randori\\'\\', \\'\\'kumite\\'\\', \\'\\'tui shou\\'\\', \\'\\'rou shou\\'\\', \\'\\'chi sao\\'\\', \\'\\'san shou\\'\\'), en el que se entrenan técnicas de lucha con un compañero con el objetivo de aprender, a diferencia del combate o la competición, donde el objetivo es la victoria.\\n\\n=== Historia ===\\n==== Egipto, Grecia, África y Roma ====\\n[[Archivo:Foul pankration at Kylix by the Foundry Painter BM VaseE78.jpg|thumb|right|En el [[Pankration]], uno de los luchadores ataca los ojos de su oponente, mientras el juez se prepara a castigar al infractor.]]\\n\\nNo existen documentos que ayuden a ubicar con exactitud cuándo se originaron las artes marciales, debido a que esto conlleva un largo proceso de desarrollo. Sin embargo, se puede decir que el método de combate más antiguo del que se tiene conocimiento en diferentes civilizaciones es la [[lucha tradicional|lucha]].\\n\\nEn las tumbas de [[Beni Hassan (Egipto)|Beni Hassan]], en [[Egipto]], se encuentran pinturas que datan del [[siglo XXI a. C.|2000 a. C.]] En estas, se muestran luchadores practicando toda una serie de movimientos, como lanzamientos y sumisiones. Los luchadores de [[Nubia]], en [[África]], eran tenidos en alta estima por su habilidad. En las tumbas egipcias de [[Amarna]], que datan del [[siglo XIV a. C.|año 1350 a. C.]], aparecen pinturas que muestran luchadores egipcios practicando la pelea con bastones cortos, haciendo uso de protecciones en los antebrazos, además de la lucha. En murales del [[arte de Mesopotamia]], aparecen imágenes de personas practicándola también.{{citarequerida}}\\n\\nLos guerreros [[zulúes]] del sur del continente africano desarrollaron tácticas y técnicas para la pelea con armas como el garrote, la lanza y el escudo. El guerrero [[Shaka]] ([[siglo XVIII|siglos XVIII]] y [[siglo XIX|XIX]]) revolucionó las [[técnicas de guerra en masa|técnicas]] de [[guerra en masa]], con la adición del \\'\\'[[assagai]]\\'\\' (una lanza para apuñalar, con un mango más corto), así como la manera en que entrenó a su ejército y las tácticas utilizadas contra otras tribus africanas y posteriormente contra los ingleses.<ref>[[T. A. Green|Green, T. A.]], \\'\\'Martial Arts of the World\\'\\'.</ref>\\n\\n[[Archivo:Gladiators from the Zliten mosaic 3.JPG|thumb|[[Gladiadores]], en el mosaico de [[Zilten]] ([[Libia]], [[siglo II]]).]]\\n\\nEn [[Grecia]], se practicaban tres tipos de sistemas de combate que no solo tomaban parte en los [[Olimpíadas|juegos de Olimpia]], sino que también servían para mantener el estado físico de sus ciudadanos y prepararlos para la guerra: el [[boxeo]], la [[lucha (deporte)|lucha]] y el [[pankration]], todos ellos [[métodos de combate|métodos]] de [[combate]]. En diferentes expresiones artísticas griegas, se observan diferentes técnicas de pelea, inclusive el uso de técnicas «sucias», como ataques a los ojos y mordiscos. A su vez, debieron de desarrollar técnicas para el uso de armas. En [[Esparta]], por su parte, se enfatizó la práctica marcial desde una edad temprana. Como ejemplo de su aplicación, está el uso de la [[falange]], una formación de combate, que le sirvió al ejército griego para la expansión de su imperio.<ref>[[Poliakoff]], \\'\\'Combat Sports in the Ancient World\\'\\', 1987.</ref> Algunas personas han sugerido que durante la ocupación de la India ([[años 320 a. C.|años 326]] a [[años 320 a. C.|321 a. C.]]) por parte del emperador [[Alejandro Magno]] ([[años 350 a. C.|356]] a [[años 320 a. C.|323 a. C.]]), las técnicas de [[lucha griega]] fueron absorbidas en las técnicas indias y estas, a su vez, fueron introducidas en [[China (región)|China]] por el monje [[Bodhidharma]]. Sin embargo, estas hipótesis no tienen hasta la fecha ningún soporte histórico serio.<ref>[[Dervenis]] y [[Lykiardopoulos]], \\'\\'[[The Martial Arts of Ancient Greece]]\\'\\'.</ref>\\n\\nEn la [[Roma antigua]] existía la lucha, practicada incluso con armas, en espectáculos como los combates de [[gladiadores]] en el [[Coliseo romano]], entre otros. El [[ejército romano]] hacía énfasis en la pelea en grupos; mientras que los [[gladiador]]es eran entrenados en la pelea individual. Estos guerreros eran [[esclavo]]s que debían ser eficientes en el uso de un gran número de armas, así como en combate a mano desnuda. Dos tipos de gladiadores famosos son el [[tracio]] y el [[reciario|retiarius]]. Al primero se le armaba con una [[sica]] (espada [[tracios|tracia]]), con un [[yelmo]] y con un escudo pequeño rectangular ([[parma (escudo)|parma]]), del que se publicaron manuales de entrenamiento. Al retiarius se le armó con un [[tridente]] o [[arpón]], una [[reciario|red]] y una [[daga]]. A su vez, los gladiadores fueron expertos en [[boxeo]] (usaban el [[caestus]]) y en la lucha, como se ve en frescos del período.<ref>G. [[Tausk]], \\'\\'Martial Arts of the World\\'\\'.</ref>\\n\\n==== China, Corea y Japón. Artes marciales en China ====\\nReferencias sobre las [[artes marciales de China]] ubican su origen en el [[siglo XXII a. C.|2100 a. C.]], aunque no se tiene certeza sobre su antigüedad real.<ref>K. A. C. [[Gewu]], \\'\\'Spring and Autumn of Chinese Martial Arts, 5000 Year\\'\\', 1995.</ref> La razón de la supervivencia de las artes marciales ha sido el desarrollo de métodos de defensa y ataque en enfrentamientos de tipo físico, preponderando el uso del cuerpo, puños, manos, codos, rodillas, etcétera, con su máxima expresión en los conflictos bélicos. La asociación con métodos y filosofías religiosas en países como China se dieron a finales de la [[dinastía Ming]], debido a la aparición de las [[armas de fuego]], lo que causó que las técnicas del uso de armas blancas, así como la pelea con armas, comenzaran a perder su importancia en el teatro de la guerra.<ref>[[William Acevedo|Acevedo]], W., [[Cheung]], M., y [[Hood]], B. (2008), «A lifetime dedicated to the martial traditions. An interview with professor Ma Mingda», \\'\\'[[Kung Fu Taichi Magazine]]\\'\\', 2008.</ref>\\n\\nDurante el fin de la [[dinastía Ming]] y durante la [[dinastía Qing]], las artes marciales chinas comenzaron a verse como métodos para mejorar la salud y empezaron a combinarse con las prácticas [[calistenia|calisténicas]] [[taoístas]] (\\'\\'[[daoyin]]\\'\\'), además de verse como formas de alcanzar la [[iluminación (filosofía)|\\'\\'iluminación\\'\\']].<ref>[[Shahar]], M. \\'\\'The Shaolin Monastery: History, Religion and the Martial Arts\\'\\', 2008.</ref>\\n\\nYa aparecen referencias al \\'\\'[[shoubo]]\\'\\' (\"técnicas de pelea\"), al \\'\\'[[wuji]]\\'\\' (\"técnicas de guerra\") y al \\'\\'[[ji ji]]\\'\\' (\"habilidad de pelea\") antes de la construcción del [[monasterio]] [[shaolín]] y de la supuesta visita de [[Bodhidharma]] a China. La primera mención de la participación de [[monje budista|monjes budistas]] en la guerra proviene de los trece monjes que ayudaron a capturar al sobrino de [[Wang Shichong]]. Tras lo que [[Li Shimin]], primer emperador de la [[dinastía Tang]], [[año 618|618]] a [[año 907|907 d. C.]], recompensó al monasterio. No obstante, no existe ninguna referencia que mencione un estilo particular practicado por estos monjes.<ref>[[Henning]], S., \\'\\'The Martial Arts in Historical Perspective\\'\\'.</ref>\\n\\n[[Archivo:Qi Jiquan.jpg|thumb|200px|El general [[Qi Jiquan]]]]\\n\\n=====Monjes budistas=====\\nLa participación de monjes budistas en actividades de guerra hace pensar que estos no eran monjes en el sentido estricto de la palabra. Las enseñanzas budistas consideran el matar a otro ser humano como la ofensa más seria y con el peor [[karma]]. La novela \\'\\'[[Shuǐhǔ Zhuàn]]\\'\\' (\\'\\'[[Los bandidos del pantano]]\\'\\' o \\'\\'[[El margen del agua]]\\'\\') menciona a un personaje llamado Lu Zhishen (\"Lu, el Sagaz\") o el [[Monje Loco]], un oficial del ejército que, por haber asesinado a un hombre, se vio obligado a ocultarse en el monasterio de la [[montaña Wutai]]. Sin embargo, este «monje» que bebía vino, comía carne y al que le gustaba pelear fue enviado a otro monasterio, a causa de su mal comportamiento.<ref>[[S. Shapiro|Shapiro, S.]], \\'\\'Outlaws of the Marsh\\'\\'.</ref>\\n\\nEste tipo de «monjes» aparecen en otras obras literarias como en el caso de [[Ji Dian]] (\"el [[Loco Ji]]\"). A su vez, en el [[siglo XVII]], se mencionan muchos «monjes» que vivían en los alrededores del [[monasterio shaolín]], violando las reglas y doctrinas budistas.<ref>[[M. Shahar|Shahar, M.]], \\'\\'Meat, Wine, and Fighting Monks\\'\\'.</ref> Esto podría explicar la razón por la que algunos «monjes» no tenían ningún reparo en tomar una vida o comportarse de una manera opuesta a la de un monje budista. Durante las campañas en contra de los [[piratas japoneses]] o \"wako\" en la [[dinastía Ming]], se hace la primera mención de un sistema de combate originado en el monasterio [[shaolín]]. Las técnicas de bastón fueron consideradas por el general [[Qi Jiguang]], mientras que fueron criticadas por el general [[Yu Dayou]] (compañero de armas del general Qi), quien reclutó a un pequeño grupo de monjes y les enseñó sus propias técnicas de combate con el bastón, para que a su vez estos se las enseñaran a sus compañeros.\\n\\n===== Dinastía Ming =====\\nDurante la dinastía Ming, el general Qi, en su libro \\'\\'[[Ji xiao xin shu]]\\'\\' (\\'\\'[[Libro de disciplina efectiva]]\\'\\'), menciona que las [[técnicas de combate a mano desnuda]] son una preparación para las técnicas de combate con armas. En este libro, Qi dedica secciones a la lucha con bastón y espada a dos manos que fueron copiadas de las armas usadas por los [[piratas japoneses]], quienes las emplearon con mortal efectividad. Otras secciones incluyen la lucha con [[lanza]], [[tridente]], [[sable]] y [[escudo]], [[armas de fuego]], entre otras.\\n\\nQi creó la primera rutina por escrito de técnicas de mano desnuda. Esta combinó técnicas de una docena de otros sistemas conocidos en su tiempo. También ideó la [[formación de combate pato mandarín]], que incluía a un líder, a dos soldados armados con sables y escudos, a dos con [[lanza de bambú|lanzas]] de [[bambú]] con muchas puntas (\\'\\'[[langxian]]\\'\\'), a cuatro con lanzas largas, a dos con tridentes o sables de dos manos, y a un cocinero. Si el líder de la unidad moría, los soldados de toda la unidad eran ejecutados.<ref>Guang, Q. \\'\\'Ji xiao xin shu\\'\\'.</ref>\\n\\n===== Dinastía Qing; período Republicano (1912-1947); Revolución China (Mao Zedong) =====\\nDurante la dinastía Qing, se difundieron historias que consideraban a Bodhidharma, al templo [[shaolín]], a [[Zhang Zanfeng]] y al general [[Yue Fei]], entre otros, los fundadores de muchos estilos marciales. En este período, se usaban prácticas [[esotérica]]s y [[Encantamiento (magia)|encantamientos]], con la creencia de que estos les darían a los miembros de las [[secta]]s pseudo-religiosas/marciales el poder de resistir las armas de fuego. La revolución de los boxeadores aumentó aún más este tipo de ideologías como inspiración ante la intervención extranjera en China. Durante el [[periodo Republicano (China)|período Republicano]], se intentó eliminar este tipo de mitos y se comenzó a usar un método más elaborado y técnico. Historiadores como [[Tang Hao]] escriben acerca del origen de las artes de combate chino y refutan las creencias que hasta el momento se tenían sobre estos sistemas. La práctica marcial de este período también se caracterizó por el rechazo de aquellos elementos de exhibición y su enfoque en la aplicación práctica en combate. Se inauguró la [[Academia Central de Artes Marciales de Nankín]], [[Zhongyang Guoshuguan]] (en 1928), cuyo objetivo era el de fortalecer a la nación mediante la práctica de las artes marciales. En este período, a los sistemas de combate chino se les llamaron \\'\\'[[guoshu]]\\'\\' (\"habilidad nacional\").\\n\\nLa [[Revolución china de 1949|Revolución China]], impulsada por [[Mao Zedong]] en [[1949]], cambió todo esto y enfocó la práctica marcial a la exhibición, con lo que se crea el \\'\\'wushu\\'\\' moderno.<ref>[[W. Acevedo|Acevedo, W.]], \\'\\'Las artes marciales chinas: mitos y realidades\\'\\'.</ref>\\n\\n==== Artes marciales en Japón ====\\nLa historia de la evolución de las artes marciales del Japón es escasa; los registros más antiguos provienen de fuentes chinas.\\n\\nEn la \\'\\'[[Historia del reinado de Wei]]\\'\\' (\\'\\'[[Weizhi]]\\'\\'), del [[año 297|año 297 d. C.]],<ref>[[Mikiso Hane]], \\'\\'Breve historia de Japón\\'\\'</ref><ref>[http://afe.easia.columbia.edu/ps/japan/wei_history_wa_pimiko.pdf «http://afe.easia.columbia.edu/ps/japan/wei_history_wa_pimiko.pdf».]</ref> se menciona a cientos de poblaciones que viven en paz en las islas japonesas. En la \\'\\'[[Historia de Han]]\\'\\' (\\'\\'[[Hou Hanshu]]\\'\\'), en cambio, se lee acerca de un período de gran inestabilidad y guerra.<ref>[[R. Ron|Ron, R.]], \\'\\'Martial Arts of the World\\'\\'.</ref>\\n\\n===== El sumo =====\\n{{AP|Sumo}}\\n\\nLa referencia más antigua acerca de la práctica del [[sumo]] podría encontrarse en el [[años 20 a. C.|23 a. C.]], pero la primera mención como arte marcial se registró más recientemente en el [[año 720|720 d. C.]], en el \\'\\'[[Nihon soki]]\\'\\'. Sin embargo, utiliza la palabra china \\'\\'[[jueli]]\\'\\'. En el [[año 682|682 d. C.]], se utiliza la palabra \\'\\'[[xiangpu]]\\'\\', en chino (\"sumo\").\\n\\n===== Dinastía Tang en Japón; siglo XVI =====\\n{{AP|Dinastía Tang}}\\n\\nDurante la [[dinastía Tang]], Japón tuvo el mayor contacto cultural con China. Durante la primera mitad del [[siglo XVI]], los piratas japoneses atacaron las costas del este de China, sus técnicas de sable a dos manos y la habilidad del [[tiro con arco]] demostraron su alto desarrollo técnico, mientras que los usos del sable sembraron el terror entre las filas chinas. Los métodos diseñados por [[Qi Jiguang]] se introdujeron en Japón, y aparecieron publicados en el \\'\\'[[Heiho hidensho (okugisho)]]\\'\\', un libro de estrategia escrito por [[Yamamoto Kanasuke]], en el [[siglo XVI]].\\n\\n===== Conquista de China (Manchú); siglos XVII y XVIII =====\\nDurante la conquista de China por parte de los [[manchú]], muchos emigrantes viajaron a Japón; entre ellos, [[Chen Yuanyun]] (1587 a 1671) (o [[Chen Gempin]], en [[idioma japonés|japonés]]. En los pergaminos de la [[escuela Kito-ryu|escuela]] \\'\\'[[Kito-ryu]]\\'\\' (1779), localizada en los precintos de la [[capilla Atago|capilla]] [[Atago]], en [[Tokio]], se lee: «La instrucción en \\'\\'[[kempo]]\\'\\' comenzó con el emigrante [[Chen Yuanyun]].»<ref>[[S. Henning|Henning, S.]], \\'\\'Martial Arts of the World\\'\\'.</ref>\\n\\n===== Siglo XIX: karate =====\\nEn el siglo XIX, se modificaron los sistemas de \\'\\'[[jiu jitsu]]\\'\\', lo que dio lugar al \\'\\'[[judo]]\\'\\', de [[Jigorō Kanō]] (1860 a 1938); al \\'\\'[[aikidō]]\\'\\', de [[Morihei Ueshiba]] (1883 a 1969), y a las técnicas de la isla de [[Isla de Okinawa|Okinawa]] o \"tuidi / to-de\" y \"tegumi\". Estos fueron organizados, y promovieron la creación del [[karate]], método divulgado por [[Gichin Funakoshi]] (1868 a 1957).\\n\\n===== Combate con bayoneta; década de 1930 =====\\nLos métodos de combate con bayoneta japoneses o \"juken jutsu\" fueron estudiados por los miembros de la [[Academia de Guoshu]], en [[Nankín]], y se incluyeron como parte del entrenamiento tanto militar como civil en [[década de 1930|los años treinta]]. En Japón, la clase guerrera japonesa o [[samurái]] unía la práctica del [[budismo zen]] con la de las artes de guerra, en el llamado camino del guerrero o [[Bushido]], una tendencia que ha continuado hasta nuestros días.\\n\\n===== Restauración del período Meiji =====\\nDurante la restauración del [[período Meiji]], se originó el código del guerrero japonés [[Budo]]. Así, el [[budismo zen]] y las artes marciales japonesas sirvieron de apoyo e inspiración en el nacimiento del [[movimiento nacionalista en Japón|movimiento]] [[nacionalismo en Japón|nacionalista]] que conllevó al inicio del expansionismo agresivo japonés y a la [[Segunda Guerra Mundial]].<ref name=\"repetida_2\" /><ref name=\"repetida_1\" /> \\n\\n[[Archivo:Korean staff.jpg|thumb|right|Escena del \\'\\'Manual ilustrado de las artes marciales del siglo XVII\\'\\', impreso en Corea, el [[Muye Dobo Tongji]].]]\\n\\n==== Artes marciales en Corea ====\\nEn la [[Corea|península coreana]], la evidencia más antigua de la práctica marcial aparece en tumbas cercanas a la frontera noreste de China durante el reino de [[Koguryo]] ([[años 30 a. C.|37 a. C.]] a [[668|668 d. C.]]). Corea fue colonizada y quedó bajo el control militar chino entre el [[años 100 a. C.|108 a. C.]] y el [[313|313 d. C.]] En algunos frescos se aprecian escenas de lucha (\\'\\'jueli\\'\\', en [[idioma chino|chino]]; \\'\\'kajko\\'\\', en [[idioma coreano|coreano]]).\\n\\nEl rey [[Sunjo]] (1567 a 1608) ordenó a sus oficiales el estudio del libro escrito por el general chino [[Qi Jiguang]], y la preparación de un libro similar, copiando los métodos de los soldados de la [[dinastía Ming]]. El rey [[Jungjo]] (1776 a 1800) ordenó expandir el manual usado por el ejército para incluir las técnicas de combate propias de los japoneses. Este libro se titula \\'\\'[[Muye Dobo Tongji]]\\'\\' (\\'\\'Manual ilustrado de artes marciales\\'\\'). En la introducción de este libro, el rey Jungjo escribió que el único sistema de combate oficial desde el reinado del rey Kwanhaekun (1608 a 1623) era la práctica del tiro con arco.<ref>Muye Dobo Tongji: \\'\\'The comprehensive illustrated manual of martial arts of ancient Korea\\'\\'. S. H. Kim.</ref> \\n\\nLos sistemas de combate coreano como el \\'\\'[[tang soo do]]\\'\\' (mano de la dinastía Tang), \\'\\'[[hwa rang do]], [[taekkyon]], neikung, [[kumdo]], [[kuk sool won]]\\'\\', entre otros, afirman ser totalmente coreanos y con cientos de años de antigüedad. Sin embargo, el \\'\\'[[Muye Dobo Tongji]]\\'\\' los contradice, considerando el nacimiento de las artes marciales coreanas actuales bajo influencia china o japonesa en su gran mayoría.\\n\\n==== Otros países ====\\nUn ejemplo de otros sistemas de combate que también ayudaron en la formación de imperios es el método de lucha \\'\\'[[bökh]]\\'\\' de la [[Mongolia|nación mongol]]. Los ejércitos mongoles utilizaron la práctica de la lucha, los juegos a caballo y las competencias del tiro con arco para mantener a sus tropas en perfecta forma física. En la actualidad aún se practican estas habilidades durante la celebración del festival de verano conocido como \\'\\'[[naadam]]\\'\\'.<ref>A. Fields: \\'\\'Martial arts of the world\\'\\'.</ref>\\n\\nEn 1295, se publicó en Alemania el manual más antiguo del que se tiene conocimiento el cual contiene técnicas para el combate con espada y escudo, entre muchas obras de este tipo publicadas en el continente europeo. En la Edad Media en Europa se publicaron manuales de combate como el \\'\\'[[Flos duellatorum]]\\'\\' (la flor de la batalla) en [[1410]], en la cual se describen técnicas con y sin armas. En las sagas vikingas se discuten , por su parte, tácticas de combate además de estrategia.<ref>{{cita web\\n|url=http://www.thearma.org/manuals.htm\\n|título=Historical fencing manuals online - Swords & swordsmanship manual de esgrima italiana-->\\n}}</ref>\\n\\n[[Archivo:Flos Duellatorum, Flor de Batalla 1409.JPG|thumb|Manual \\'\\'[[Flos duellatorum]]\\'\\' (‘la flor de la batalla’), de [[Fiore dei Liberi]], 1410.]]\\n\\nEn [[Tailandia]] y en [[Camboya]], se originaron lo que hoy en día se conoce como \\'\\'[[muay thai]]\\'\\' o boxeo tailandés, y el [[Bokator]]. Sin embargo, no existen fuentes fiables que narren los orígenes de este método de pelea. Otra forma de lucha que comparte el origen tailandés es el \\'\\'krabi krabong\\'\\' el cual se enfoca en el uso de armas como el bastón, el escudo o los sables dobles, entre otros.<ref>K. Prayukvong, y L. D. Junlakan: \\'\\'Muay thai, a living legacy\\'\\'.</ref>\\n\\n[[Archivo:Naadam wrestling.jpg|thumb|[[Lucha mongola]] en el festival de verano o naadam.]]\\n\\nEn la [[India]] existen dos tradiciones marciales consideradas como las más importantes. La [[tamil (etnia)|tamil]] ([[dravidiana]]) y la sánscrita del \\'\\'[[Dhanur-veda]]\\'\\' (‘verdad sobre el arco’). En la primera, se tienen poemas escritos entre el [[años 400 a. C.|400&nbsp;a.&nbsp;C.]] y el [[siglo VII|600&nbsp;d.&nbsp;C.]] donde se mencionan conflictos bélicos en el sur del país. Los guerreros se entrenaban en el uso de la lanza \\'\\'(vel)\\'\\', la espada \\'\\'(val)\\'\\' y el escudo \\'\\'(kedaham)\\'\\'. Por otro lado, en la tradición sánscrita, el uso del arco y la flecha se consideraba como la más importante, como se lee en los escritos indios del \\'\\'[[Mahābhārata|Majabhárata]]\\'\\' y el \\'\\'[[Rāmāyana|Ramaiana]]\\'\\'. En los capítulos del \\'\\'[[Dhanur-veda]],\\'\\' en cambio, se exponen temas tales como la organización de divisiones militares con carruajes de guerra, elefantes y caballos, infantería y lucha. También se describen cinco tipos de armas. A su vez, algunas tradiciones que han sobrevivido hasta la fecha son el \\'\\'varma ati\\'\\' (ataque a puntos vitales) y el \\'\\'silamban\\'\\' (pelea con bastón) de la tradición [[tamil nadú]]; el \\'\\'[[kalaripayatu]],\\'\\' de la [[provincia de Kerala]], que en la actualidad no incluye el combate libre, sino que se realizan combates preestabecidos y el \\'\\'[[mushti]]\\'\\' (lucha), \\'\\'[[dandi]]\\'\\' (pelea con bastón) del norte de [[India]].<ref>P. B. Zarrilli: \\'\\'Martial arts of the world\\'\\'.</ref> Otras sistemas de pelea del continente indio son aquellos practicados por los [[sijes]], a los cuales se les llama \\'\\'[[gatka]]\\'\\'.\\n\\nEn [[Rusia]], la necesidad de enfrentar diversos enemigos bajo condiciones adversas de clima y terreno llevó al desarrollo de técnicas de lucha versátiles e instintivas por parte de los [[cosaco]]s. Así se empezó, durante la primera mitad del siglo XX, una acumulación de conocimientos marciales que dio origen al método [[sambo]].<ref>{{cita web |url=http://www.ermaa.com/history.php|título=Russian Martial Arts History|accessdate=28 de septiembre de 2011\\n}}</ref>\\n\\n[[Archivo:Die drei Bogatyr.jpg|thumb|Las raíces del [[systema]] (de Rusia) se remontan al [[siglo X]] medieval.]]\\n\\nAsimismo, existen otros sistemas de combate de reciente divulgación como el Kali / Arnis/ [[eskrima]] (en [[Filipinas]]) y el [[silat]] (en [[Indonesia]]), que aún no han sido divulgadas, estructuradas en profundidad o promocionadas como deportes de combate en occidente debido a su gran variedad de estilos, y a que su principal enfoque sigue siendo la defensa personal y el uso en el combate armado.\\n\\n=== El enfoque de las artes marciales en el siglo XXI ===\\n\\nA finales del siglo XX surgieron diferentes sistemas híbridos, es decir, derivados de las artes marciales tradicionales, que abarcan el combate militar o los deportes de combate. Algunos de reciente creación y desarrollo son: el [[krav magá]] israelí, el [[jiu-jitsu brasileño]], el [[Lima Lama]] samoano, el [[kickboxing]] japonés, el [[Hapkido]] coreano, el [[jeet kune do]] (creado por [[Bruce Lee]]) y las [[artes marciales mixtas]] o AMM (en [[Idioma inglés|inglés]]: MMA). En el caso del [[systema]] ruso este fue recuperado ya que durante la [[Unión Soviética|época soviética]] fue prohibido a la población siendo enseñado solo a los [[Spetsnaz]].\\n\\n=== Libros, obras clásicas de estrategia y filosofía de las artes marciales ===\\n\\n* [[Lao Tse]]: [[Dào dé jing]]\\'\\'.\\n* [[Musashi Miyamoto|Miyamoto, Musashi]]: \\'\\'[[El libro de los cinco anillos]]\\'\\'.\\n* [[Sun Tzu|Tzu, Sun]]: [[s:es:El Arte de la Guerra|El arte de la guerra]]\\n* [[Yamamoto tsunetomo|Tsunetomo, Yamamoto]]: \\'\\'[[Hagakure]] el código del samurái\\'\\'.\\n* [[Carl von Clausewitz]]: \\'\\'[[De la guerra]]\\'\\'.\\n\\n=== Libros, historia, ensayos ===\\n\\n* Hyams, Joe, [http://es.scribd.com/doc/76333919/El-Zen-en-Las-Artes-Marciales-Libro-Completo \\'\\'El zen en las artes marciales\\'\\']. México: Universo México, 1990, 147 págs.\\n* [[François Jullien|Jullien, François]]: \\'\\'Tratado de la eficacia\\'\\'.\\n* [[Bruce Lee|Lee, Bruce]]: \\'\\'El tao del [[jeet kune do]]\\'\\'.\\n* Ratti, Oscar; y Westbrook, Adele: \\'\\'Los secretos del samurái. Las artes marciales en el Japón feudal\\'\\'.\\n* [[Daisetz Teitaro Suzuki|Suzuki, Daisetz T.]]: \\'\\'El zen y la cultura japonesa\\'\\'.\\n\\n== Artes marciales por continente ==\\n\\n*[[Artes marciales de África]]\\n*[[Artes marciales de América]]\\n*[[Artes marciales de Asia y Oceanía]]\\n*[[Artes marciales de Europa y Oriente Medio]]\\n\\n* [[Anexo: Artes marciales]]\\n\\n== Referencias y notas ==\\n{{Listaref|2}}\\n\\n== Organismos Internacionales ==\\n* [[Federación Internacional de Evaluación Marcial]]\\n*[https://m.facebook.com/pages/category/Specialty-School/World-Okinawa-Martial-Arts-Association-108521472505211 World Okinawa Martial Arts]\\n*[https://m.facebook.com/worldhanmudo/posts/] \\n*\\n*\\n\\n== Enlaces externos ==\\n{{wikinews|Categoría:Artes marciales}}\\n* [http://valencia.bugei.eu/artes-marciales-tradicionales/ Artes Marciales Japonesas].\\n* [https://wing-tsun.es/ Portal de Wing Tsun Kung Fu].\\n* [https://wingchunmadrid.com/ Site de Wing Chun en Madrid España].\\n* [https://web.archive.org/web/20180811131616/https://martial-art.eu/ Portal de Artes Marciales].\\n* [https://kung-fu.com.es/ Portal de Kung Fu Tradicional].\\n\\n\\'\\'\\'• [https://m.facebook.com/pages/category/Specialty-School/World-Okinawa-Martial-Arts-Association-108521472505211 World Okinawa Martial Arts]\\'\\'\\'{{Control de autoridades}}\\n[[Categoría:Artes marciales| ]]',\n",
              "  {'ref': 0.011045137938112539,\n",
              "   'categoría': 0.000213029842162201,\n",
              "   'center': 0.0,\n",
              "   'cita': 0.0015863156083058818,\n",
              "   'br': 0.0,\n",
              "   'the': 0.011509393122026399,\n",
              "   'http': 0.0018800573530075048,\n",
              "   'of': 0.007883545417301076,\n",
              "   'archivo': 0.0059121327159100895,\n",
              "   'background': 0.0,\n",
              "   'nbsp': 0.005211962120064495,\n",
              "   'small': 0.0,\n",
              "   'usuario': 0.0,\n",
              "   'club': 0.0,\n",
              "   'https': 0.004067412062326491,\n",
              "   'web': 0.0012142918213319414,\n",
              "   'unidos': 0.0,\n",
              "   'ficha': 0.0,\n",
              "   'año': 0.003001820020187156,\n",
              "   'años': 0.006401808110048201})]"
            ]
          },
          "metadata": {},
          "execution_count": 46
        }
      ]
    }
  ]
}