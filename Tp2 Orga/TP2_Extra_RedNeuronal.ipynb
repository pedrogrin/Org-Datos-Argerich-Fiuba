{
  "nbformat": 4,
  "nbformat_minor": 0,
  "metadata": {
    "colab": {
      "provenance": []
    },
    "kernelspec": {
      "name": "python3",
      "display_name": "Python 3"
    },
    "language_info": {
      "name": "python"
    }
  },
  "cells": [
    {
      "cell_type": "code",
      "source": [
        "import pandas as pd"
      ],
      "metadata": {
        "id": "V2h7t8GwdDJN"
      },
      "execution_count": null,
      "outputs": []
    },
    {
      "cell_type": "code",
      "source": [
        "from google.colab import drive\n",
        "drive.mount('/content/drive')"
      ],
      "metadata": {
        "colab": {
          "base_uri": "https://localhost:8080/"
        },
        "id": "a2HuIva-dDnG",
        "outputId": "823a449e-7de3-4551-e8ae-db825d4d3011"
      },
      "execution_count": null,
      "outputs": [
        {
          "output_type": "stream",
          "name": "stdout",
          "text": [
            "Drive already mounted at /content/drive; to attempt to forcibly remount, call drive.mount(\"/content/drive\", force_remount=True).\n"
          ]
        }
      ]
    },
    {
      "cell_type": "code",
      "source": [
        "df  = pd.read_csv('/content/drive/MyDrive/secondary_data.csv', sep=';')"
      ],
      "metadata": {
        "id": "4GG7-dXBdFQ4"
      },
      "execution_count": null,
      "outputs": []
    },
    {
      "cell_type": "code",
      "source": [
        "df_1 = df.loc[df[\"class\"] == \"e\"]\n",
        "df_2 = df.loc[df[\"class\"] == \"p\"]"
      ],
      "metadata": {
        "id": "48VXBrSkdG05"
      },
      "execution_count": null,
      "outputs": []
    },
    {
      "cell_type": "code",
      "source": [
        "X_1 = df_1.drop(\"class\", axis=1)\n",
        "X_2 = df_2.drop(\"class\", axis=1)\n",
        "y_1 = df_1[\"class\"]\n",
        "y_2 = df_2[\"class\"]"
      ],
      "metadata": {
        "id": "HweGde4ndIc_"
      },
      "execution_count": null,
      "outputs": []
    },
    {
      "cell_type": "code",
      "source": [
        "from sklearn.model_selection import train_test_split\n",
        "\n",
        "X_train_1, X_test_1, y_train_1, y_test_1 = train_test_split(X_1, y_1, test_size=0.15, random_state=87)\n",
        "X_train_1, X_validation_1, y_train_1, y_validation_1 = train_test_split(X_train_1, y_train_1, test_size=0.18, random_state=87)\n",
        "\n",
        "X_train_2, X_test_2, y_train_2, y_test_2 = train_test_split(X_2, y_2, test_size=0.15, random_state=87)\n",
        "X_train_2, X_validation_2, y_train_2, y_validation_2 = train_test_split(X_train_2, y_train_2, test_size=0.18, random_state=87)"
      ],
      "metadata": {
        "id": "GslipjkGdJ0S"
      },
      "execution_count": null,
      "outputs": []
    },
    {
      "cell_type": "code",
      "source": [
        "X_train_inicial = pd.concat([X_train_1, X_train_2], ignore_index=True)\n",
        "X_validation_inicial = pd.concat([X_validation_1, X_validation_2], ignore_index=True)\n",
        "X_test_inicial = pd.concat([X_test_1, X_test_2], ignore_index=True)\n",
        "\n",
        "y_train = pd.concat([y_train_1, y_train_2], ignore_index=True)\n",
        "y_validation= pd.concat([y_validation_1, y_validation_2], ignore_index=True)\n",
        "y_test = pd.concat([y_test_1, y_test_2], ignore_index=True)"
      ],
      "metadata": {
        "id": "EqNhAozqdMaI"
      },
      "execution_count": null,
      "outputs": []
    },
    {
      "cell_type": "markdown",
      "source": [
        "#Encodings:"
      ],
      "metadata": {
        "id": "LAv3T3X0zVmS"
      }
    },
    {
      "cell_type": "code",
      "source": [
        "#Para el target 1 si es e, 0 si es p"
      ],
      "metadata": {
        "id": "J6IB3tph3eEi"
      },
      "execution_count": null,
      "outputs": []
    },
    {
      "cell_type": "code",
      "source": [
        "y_train = y_train.map(lambda x: 1 if x == 'e' else 0)\n",
        "y_validation = y_validation.map(lambda x: 1 if x == 'e' else 0)\n",
        "y_test = y_test.map(lambda x: 1 if x == 'e' else 0)"
      ],
      "metadata": {
        "id": "vW0Az6m_3hfW"
      },
      "execution_count": null,
      "outputs": []
    },
    {
      "cell_type": "code",
      "source": [
        "!pip install category_encoders"
      ],
      "metadata": {
        "id": "iCUpIAyBzmgw",
        "colab": {
          "base_uri": "https://localhost:8080/"
        },
        "outputId": "bc03e834-f821-4a55-f5a0-d5d9d352c094"
      },
      "execution_count": null,
      "outputs": [
        {
          "output_type": "stream",
          "name": "stdout",
          "text": [
            "Looking in indexes: https://pypi.org/simple, https://us-python.pkg.dev/colab-wheels/public/simple/\n",
            "Requirement already satisfied: category_encoders in /usr/local/lib/python3.10/dist-packages (2.6.1)\n",
            "Requirement already satisfied: numpy>=1.14.0 in /usr/local/lib/python3.10/dist-packages (from category_encoders) (1.22.4)\n",
            "Requirement already satisfied: scikit-learn>=0.20.0 in /usr/local/lib/python3.10/dist-packages (from category_encoders) (1.2.2)\n",
            "Requirement already satisfied: scipy>=1.0.0 in /usr/local/lib/python3.10/dist-packages (from category_encoders) (1.10.1)\n",
            "Requirement already satisfied: statsmodels>=0.9.0 in /usr/local/lib/python3.10/dist-packages (from category_encoders) (0.13.5)\n",
            "Requirement already satisfied: pandas>=1.0.5 in /usr/local/lib/python3.10/dist-packages (from category_encoders) (1.5.3)\n",
            "Requirement already satisfied: patsy>=0.5.1 in /usr/local/lib/python3.10/dist-packages (from category_encoders) (0.5.3)\n",
            "Requirement already satisfied: python-dateutil>=2.8.1 in /usr/local/lib/python3.10/dist-packages (from pandas>=1.0.5->category_encoders) (2.8.2)\n",
            "Requirement already satisfied: pytz>=2020.1 in /usr/local/lib/python3.10/dist-packages (from pandas>=1.0.5->category_encoders) (2022.7.1)\n",
            "Requirement already satisfied: six in /usr/local/lib/python3.10/dist-packages (from patsy>=0.5.1->category_encoders) (1.16.0)\n",
            "Requirement already satisfied: joblib>=1.1.1 in /usr/local/lib/python3.10/dist-packages (from scikit-learn>=0.20.0->category_encoders) (1.2.0)\n",
            "Requirement already satisfied: threadpoolctl>=2.0.0 in /usr/local/lib/python3.10/dist-packages (from scikit-learn>=0.20.0->category_encoders) (3.1.0)\n",
            "Requirement already satisfied: packaging>=21.3 in /usr/local/lib/python3.10/dist-packages (from statsmodels>=0.9.0->category_encoders) (23.1)\n"
          ]
        }
      ]
    },
    {
      "cell_type": "code",
      "source": [
        "import category_encoders as ce"
      ],
      "metadata": {
        "id": "1FlXqrNbzZo4"
      },
      "execution_count": null,
      "outputs": []
    },
    {
      "cell_type": "code",
      "source": [
        "ohe_features = ce.OneHotEncoder(cols = [\"does-bruise-or-bleed\", \"has-ring\", \"veil-type\"], return_df=True)\n",
        "X_train = ohe_features.fit_transform(X_train_inicial)\n",
        "X_test = ohe_features.transform(X_test_inicial)\n",
        "X_validation = ohe_features.transform(X_validation_inicial)"
      ],
      "metadata": {
        "id": "ocUnbqbLzj9R"
      },
      "execution_count": null,
      "outputs": []
    },
    {
      "cell_type": "code",
      "source": [
        "te_features =  ce.TargetEncoder(cols = [\"habitat\", \"season\"], smoothing=2, return_df=True)\n",
        "X_train = te_features.fit_transform(X_train, y_train)\n",
        "X_test = te_features.transform(X_test, y_test)\n",
        "X_validation = te_features.transform(X_validation, y_validation)"
      ],
      "metadata": {
        "id": "sVefaZeV4neT"
      },
      "execution_count": null,
      "outputs": []
    },
    {
      "cell_type": "code",
      "source": [
        "be_features = ce.BinaryEncoder(cols = [\"cap-shape\", \"cap-surface\", \"cap-color\", \"gill-attachment\", \"gill-spacing\", \"gill-color\",\n",
        "              \"stem-color\", \"ring-type\", \"stem-root\", \"stem-surface\", \"veil-color\", \"spore-print-color\"], return_df=True)\n",
        "X_train = be_features.fit_transform(X_train)\n",
        "X_test = be_features.transform(X_test)\n",
        "X_validation = be_features.transform(X_validation)"
      ],
      "metadata": {
        "id": "5CUQFGK811re"
      },
      "execution_count": null,
      "outputs": []
    },
    {
      "cell_type": "code",
      "source": [
        "X_train[[\"cap-diameter\", \"stem-height\", \"stem-width\"]].describe() #Normalizo y estandarizo estas columnas"
      ],
      "metadata": {
        "colab": {
          "base_uri": "https://localhost:8080/",
          "height": 300
        },
        "id": "IwqqrUzGMAvX",
        "outputId": "e73a7bcd-6e97-4d34-dc8d-2dc2afc82066"
      },
      "execution_count": null,
      "outputs": [
        {
          "output_type": "execute_result",
          "data": {
            "text/plain": [
              "       cap-diameter   stem-height    stem-width\n",
              "count  42563.000000  42563.000000  42563.000000\n",
              "mean       6.726122      6.572014     12.134153\n",
              "std        5.230928      3.346977      9.975276\n",
              "min        0.380000      0.000000      0.000000\n",
              "25%        3.500000      4.640000      5.225000\n",
              "50%        5.860000      5.950000     10.190000\n",
              "75%        8.540000      7.740000     16.550000\n",
              "max       59.460000     33.920000     98.000000"
            ],
            "text/html": [
              "\n",
              "  <div id=\"df-fc0a34f1-cf98-48ab-a90c-f5aecb61599a\">\n",
              "    <div class=\"colab-df-container\">\n",
              "      <div>\n",
              "<style scoped>\n",
              "    .dataframe tbody tr th:only-of-type {\n",
              "        vertical-align: middle;\n",
              "    }\n",
              "\n",
              "    .dataframe tbody tr th {\n",
              "        vertical-align: top;\n",
              "    }\n",
              "\n",
              "    .dataframe thead th {\n",
              "        text-align: right;\n",
              "    }\n",
              "</style>\n",
              "<table border=\"1\" class=\"dataframe\">\n",
              "  <thead>\n",
              "    <tr style=\"text-align: right;\">\n",
              "      <th></th>\n",
              "      <th>cap-diameter</th>\n",
              "      <th>stem-height</th>\n",
              "      <th>stem-width</th>\n",
              "    </tr>\n",
              "  </thead>\n",
              "  <tbody>\n",
              "    <tr>\n",
              "      <th>count</th>\n",
              "      <td>42563.000000</td>\n",
              "      <td>42563.000000</td>\n",
              "      <td>42563.000000</td>\n",
              "    </tr>\n",
              "    <tr>\n",
              "      <th>mean</th>\n",
              "      <td>6.726122</td>\n",
              "      <td>6.572014</td>\n",
              "      <td>12.134153</td>\n",
              "    </tr>\n",
              "    <tr>\n",
              "      <th>std</th>\n",
              "      <td>5.230928</td>\n",
              "      <td>3.346977</td>\n",
              "      <td>9.975276</td>\n",
              "    </tr>\n",
              "    <tr>\n",
              "      <th>min</th>\n",
              "      <td>0.380000</td>\n",
              "      <td>0.000000</td>\n",
              "      <td>0.000000</td>\n",
              "    </tr>\n",
              "    <tr>\n",
              "      <th>25%</th>\n",
              "      <td>3.500000</td>\n",
              "      <td>4.640000</td>\n",
              "      <td>5.225000</td>\n",
              "    </tr>\n",
              "    <tr>\n",
              "      <th>50%</th>\n",
              "      <td>5.860000</td>\n",
              "      <td>5.950000</td>\n",
              "      <td>10.190000</td>\n",
              "    </tr>\n",
              "    <tr>\n",
              "      <th>75%</th>\n",
              "      <td>8.540000</td>\n",
              "      <td>7.740000</td>\n",
              "      <td>16.550000</td>\n",
              "    </tr>\n",
              "    <tr>\n",
              "      <th>max</th>\n",
              "      <td>59.460000</td>\n",
              "      <td>33.920000</td>\n",
              "      <td>98.000000</td>\n",
              "    </tr>\n",
              "  </tbody>\n",
              "</table>\n",
              "</div>\n",
              "      <button class=\"colab-df-convert\" onclick=\"convertToInteractive('df-fc0a34f1-cf98-48ab-a90c-f5aecb61599a')\"\n",
              "              title=\"Convert this dataframe to an interactive table.\"\n",
              "              style=\"display:none;\">\n",
              "        \n",
              "  <svg xmlns=\"http://www.w3.org/2000/svg\" height=\"24px\"viewBox=\"0 0 24 24\"\n",
              "       width=\"24px\">\n",
              "    <path d=\"M0 0h24v24H0V0z\" fill=\"none\"/>\n",
              "    <path d=\"M18.56 5.44l.94 2.06.94-2.06 2.06-.94-2.06-.94-.94-2.06-.94 2.06-2.06.94zm-11 1L8.5 8.5l.94-2.06 2.06-.94-2.06-.94L8.5 2.5l-.94 2.06-2.06.94zm10 10l.94 2.06.94-2.06 2.06-.94-2.06-.94-.94-2.06-.94 2.06-2.06.94z\"/><path d=\"M17.41 7.96l-1.37-1.37c-.4-.4-.92-.59-1.43-.59-.52 0-1.04.2-1.43.59L10.3 9.45l-7.72 7.72c-.78.78-.78 2.05 0 2.83L4 21.41c.39.39.9.59 1.41.59.51 0 1.02-.2 1.41-.59l7.78-7.78 2.81-2.81c.8-.78.8-2.07 0-2.86zM5.41 20L4 18.59l7.72-7.72 1.47 1.35L5.41 20z\"/>\n",
              "  </svg>\n",
              "      </button>\n",
              "      \n",
              "  <style>\n",
              "    .colab-df-container {\n",
              "      display:flex;\n",
              "      flex-wrap:wrap;\n",
              "      gap: 12px;\n",
              "    }\n",
              "\n",
              "    .colab-df-convert {\n",
              "      background-color: #E8F0FE;\n",
              "      border: none;\n",
              "      border-radius: 50%;\n",
              "      cursor: pointer;\n",
              "      display: none;\n",
              "      fill: #1967D2;\n",
              "      height: 32px;\n",
              "      padding: 0 0 0 0;\n",
              "      width: 32px;\n",
              "    }\n",
              "\n",
              "    .colab-df-convert:hover {\n",
              "      background-color: #E2EBFA;\n",
              "      box-shadow: 0px 1px 2px rgba(60, 64, 67, 0.3), 0px 1px 3px 1px rgba(60, 64, 67, 0.15);\n",
              "      fill: #174EA6;\n",
              "    }\n",
              "\n",
              "    [theme=dark] .colab-df-convert {\n",
              "      background-color: #3B4455;\n",
              "      fill: #D2E3FC;\n",
              "    }\n",
              "\n",
              "    [theme=dark] .colab-df-convert:hover {\n",
              "      background-color: #434B5C;\n",
              "      box-shadow: 0px 1px 3px 1px rgba(0, 0, 0, 0.15);\n",
              "      filter: drop-shadow(0px 1px 2px rgba(0, 0, 0, 0.3));\n",
              "      fill: #FFFFFF;\n",
              "    }\n",
              "  </style>\n",
              "\n",
              "      <script>\n",
              "        const buttonEl =\n",
              "          document.querySelector('#df-fc0a34f1-cf98-48ab-a90c-f5aecb61599a button.colab-df-convert');\n",
              "        buttonEl.style.display =\n",
              "          google.colab.kernel.accessAllowed ? 'block' : 'none';\n",
              "\n",
              "        async function convertToInteractive(key) {\n",
              "          const element = document.querySelector('#df-fc0a34f1-cf98-48ab-a90c-f5aecb61599a');\n",
              "          const dataTable =\n",
              "            await google.colab.kernel.invokeFunction('convertToInteractive',\n",
              "                                                     [key], {});\n",
              "          if (!dataTable) return;\n",
              "\n",
              "          const docLinkHtml = 'Like what you see? Visit the ' +\n",
              "            '<a target=\"_blank\" href=https://colab.research.google.com/notebooks/data_table.ipynb>data table notebook</a>'\n",
              "            + ' to learn more about interactive tables.';\n",
              "          element.innerHTML = '';\n",
              "          dataTable['output_type'] = 'display_data';\n",
              "          await google.colab.output.renderOutput(dataTable, element);\n",
              "          const docLink = document.createElement('div');\n",
              "          docLink.innerHTML = docLinkHtml;\n",
              "          element.appendChild(docLink);\n",
              "        }\n",
              "      </script>\n",
              "    </div>\n",
              "  </div>\n",
              "  "
            ]
          },
          "metadata": {},
          "execution_count": 15
        }
      ]
    },
    {
      "cell_type": "code",
      "source": [
        "cols = [\"cap-diameter\", \"stem-height\", \"stem-width\"]\n",
        "\n",
        "for columna in cols:\n",
        "  promedio = X_train[columna].mean()\n",
        "  X_train[columna] = X_train[columna].map(lambda x: (x - X_train[columna].mean()) / X_train[columna].std())\n",
        "  X_validation[columna] = X_validation[columna].map(lambda x: (x - X_validation[columna].mean()) / X_validation[columna].std())\n",
        "  X_test[columna] = X_test[columna].map(lambda x: (x - X_test[columna].mean()) / X_test[columna].std())"
      ],
      "metadata": {
        "id": "y6o158jki1uB"
      },
      "execution_count": null,
      "outputs": []
    },
    {
      "cell_type": "code",
      "execution_count": null,
      "metadata": {
        "id": "a1dYfjRsYUU9"
      },
      "outputs": [],
      "source": [
        "from tensorflow.keras.models import Model, Sequential\n",
        "from tensorflow.keras.layers import Dense, Input"
      ]
    },
    {
      "cell_type": "code",
      "source": [
        "from tensorflow.keras.optimizers import Adam"
      ],
      "metadata": {
        "id": "rlNKx7fuasOD"
      },
      "execution_count": null,
      "outputs": []
    },
    {
      "cell_type": "code",
      "source": [
        "from tensorflow.keras.callbacks import EarlyStopping"
      ],
      "metadata": {
        "id": "rqVPCBBQTRD7"
      },
      "execution_count": null,
      "outputs": []
    },
    {
      "cell_type": "code",
      "source": [
        "from tensorflow.keras.metrics import AUC"
      ],
      "metadata": {
        "id": "Gn7uHFe8VMFE"
      },
      "execution_count": null,
      "outputs": []
    },
    {
      "cell_type": "code",
      "source": [
        "from tensorflow.keras.utils import set_random_seed"
      ],
      "metadata": {
        "id": "cLnw7UdYIk0O"
      },
      "execution_count": null,
      "outputs": []
    },
    {
      "cell_type": "code",
      "source": [
        "set_random_seed(10)"
      ],
      "metadata": {
        "id": "r6iKJxVGI-eh"
      },
      "execution_count": null,
      "outputs": []
    },
    {
      "cell_type": "code",
      "source": [
        "model = Sequential([\n",
        "    Dense(1000, activation=\"tanh\", input_shape=(None,55)),\n",
        "    Dense(100, activation=\"tanh\"),\n",
        "    Dense(10, activation=\"tanh\"),\n",
        "    Dense(1, activation=\"sigmoid\")\n",
        "])\n",
        "model.summary()"
      ],
      "metadata": {
        "colab": {
          "base_uri": "https://localhost:8080/"
        },
        "id": "xP2LAlvqQGxb",
        "outputId": "fcf44312-2bb0-4ce0-b6c8-ac53132edd74"
      },
      "execution_count": null,
      "outputs": [
        {
          "output_type": "stream",
          "name": "stdout",
          "text": [
            "Model: \"sequential\"\n",
            "_________________________________________________________________\n",
            " Layer (type)                Output Shape              Param #   \n",
            "=================================================================\n",
            " dense (Dense)               (None, None, 1000)        56000     \n",
            "                                                                 \n",
            " dense_1 (Dense)             (None, None, 100)         100100    \n",
            "                                                                 \n",
            " dense_2 (Dense)             (None, None, 10)          1010      \n",
            "                                                                 \n",
            " dense_3 (Dense)             (None, None, 1)           11        \n",
            "                                                                 \n",
            "=================================================================\n",
            "Total params: 157,121\n",
            "Trainable params: 157,121\n",
            "Non-trainable params: 0\n",
            "_________________________________________________________________\n"
          ]
        }
      ]
    },
    {
      "cell_type": "code",
      "source": [
        "model.compile(loss=\"binary_crossentropy\", optimizer=Adam(learning_rate=0.0001), metrics=[AUC(curve=\"ROC\")])"
      ],
      "metadata": {
        "id": "pvu-JmhuRjuY"
      },
      "execution_count": null,
      "outputs": []
    },
    {
      "cell_type": "code",
      "source": [
        "early_stopper = EarlyStopping(patience=5, restore_best_weights=True, monitor = \"val_auc\", min_delta= 0.001)"
      ],
      "metadata": {
        "id": "MWu5pcZYTSTO"
      },
      "execution_count": null,
      "outputs": []
    },
    {
      "cell_type": "code",
      "source": [
        "model.fit(X_train,\n",
        "          y_train,\n",
        "          epochs=100,\n",
        "          batch_size=300,\n",
        "          callbacks=[early_stopper],\n",
        "          validation_data=(X_validation, y_validation))"
      ],
      "metadata": {
        "colab": {
          "base_uri": "https://localhost:8080/"
        },
        "id": "cOj_Q93hRwFJ",
        "outputId": "cec0ae87-651c-40d9-d4b1-b06a8cd6ed32"
      },
      "execution_count": null,
      "outputs": [
        {
          "output_type": "stream",
          "name": "stdout",
          "text": [
            "Epoch 1/100\n",
            "142/142 [==============================] - 3s 11ms/step - loss: 0.5783 - auc: 0.7691 - val_loss: 0.5244 - val_auc: 0.8305\n",
            "Epoch 2/100\n",
            "142/142 [==============================] - 1s 9ms/step - loss: 0.4833 - auc: 0.8676 - val_loss: 0.4488 - val_auc: 0.8987\n",
            "Epoch 3/100\n",
            "142/142 [==============================] - 1s 8ms/step - loss: 0.4143 - auc: 0.9241 - val_loss: 0.3866 - val_auc: 0.9410\n",
            "Epoch 4/100\n",
            "142/142 [==============================] - 1s 9ms/step - loss: 0.3594 - auc: 0.9560 - val_loss: 0.3358 - val_auc: 0.9669\n",
            "Epoch 5/100\n",
            "142/142 [==============================] - 1s 9ms/step - loss: 0.3137 - auc: 0.9726 - val_loss: 0.2938 - val_auc: 0.9787\n",
            "Epoch 6/100\n",
            "142/142 [==============================] - 2s 12ms/step - loss: 0.2756 - auc: 0.9821 - val_loss: 0.2595 - val_auc: 0.9847\n",
            "Epoch 7/100\n",
            "142/142 [==============================] - 2s 13ms/step - loss: 0.2430 - auc: 0.9879 - val_loss: 0.2295 - val_auc: 0.9893\n",
            "Epoch 8/100\n",
            "142/142 [==============================] - 1s 8ms/step - loss: 0.2139 - auc: 0.9917 - val_loss: 0.2004 - val_auc: 0.9933\n",
            "Epoch 9/100\n",
            "142/142 [==============================] - 1s 8ms/step - loss: 0.1873 - auc: 0.9945 - val_loss: 0.1772 - val_auc: 0.9954\n",
            "Epoch 10/100\n",
            "142/142 [==============================] - 1s 8ms/step - loss: 0.1641 - auc: 0.9963 - val_loss: 0.1537 - val_auc: 0.9969\n",
            "Epoch 11/100\n",
            "142/142 [==============================] - 1s 8ms/step - loss: 0.1433 - auc: 0.9974 - val_loss: 0.1343 - val_auc: 0.9980\n",
            "Epoch 12/100\n",
            "142/142 [==============================] - 1s 9ms/step - loss: 0.1250 - auc: 0.9983 - val_loss: 0.1163 - val_auc: 0.9986\n",
            "Epoch 13/100\n",
            "142/142 [==============================] - 1s 8ms/step - loss: 0.1089 - auc: 0.9990 - val_loss: 0.1011 - val_auc: 0.9993\n",
            "Epoch 14/100\n",
            "142/142 [==============================] - 1s 8ms/step - loss: 0.0942 - auc: 0.9995 - val_loss: 0.0881 - val_auc: 0.9997\n",
            "Epoch 15/100\n",
            "142/142 [==============================] - 2s 12ms/step - loss: 0.0812 - auc: 0.9998 - val_loss: 0.0754 - val_auc: 0.9999\n",
            "Epoch 16/100\n",
            "142/142 [==============================] - 2s 14ms/step - loss: 0.0699 - auc: 0.9999 - val_loss: 0.0647 - val_auc: 0.9999\n",
            "Epoch 17/100\n",
            "142/142 [==============================] - 1s 10ms/step - loss: 0.0592 - auc: 1.0000 - val_loss: 0.0549 - val_auc: 1.0000\n",
            "Epoch 18/100\n",
            "142/142 [==============================] - 1s 8ms/step - loss: 0.0502 - auc: 1.0000 - val_loss: 0.0466 - val_auc: 1.0000\n"
          ]
        },
        {
          "output_type": "execute_result",
          "data": {
            "text/plain": [
              "<keras.callbacks.History at 0x7f4ca3cca620>"
            ]
          },
          "metadata": {},
          "execution_count": 26
        }
      ]
    },
    {
      "cell_type": "code",
      "source": [
        "preds_validation = model.predict(X_validation)"
      ],
      "metadata": {
        "colab": {
          "base_uri": "https://localhost:8080/"
        },
        "id": "cz97q_ntdklW",
        "outputId": "34f62aa1-7524-49cd-e931-ea3d7c87d68e"
      },
      "execution_count": null,
      "outputs": [
        {
          "output_type": "stream",
          "name": "stdout",
          "text": [
            "292/292 [==============================] - 0s 1ms/step\n"
          ]
        }
      ]
    },
    {
      "cell_type": "code",
      "source": [
        "preds_test = model.predict(X_test)"
      ],
      "metadata": {
        "colab": {
          "base_uri": "https://localhost:8080/"
        },
        "id": "3QyjlTmDeEAG",
        "outputId": "e6424af6-a3c5-4ec6-f37b-746d536c034f"
      },
      "execution_count": null,
      "outputs": [
        {
          "output_type": "stream",
          "name": "stdout",
          "text": [
            "287/287 [==============================] - 0s 1ms/step\n"
          ]
        }
      ]
    },
    {
      "cell_type": "code",
      "source": [
        "from sklearn.metrics import roc_auc_score"
      ],
      "metadata": {
        "id": "vgAW6cSCd5il"
      },
      "execution_count": null,
      "outputs": []
    },
    {
      "cell_type": "code",
      "source": [
        "roc_auc_score(y_validation, preds_validation) #Su score en validacion es 0.9992798784478967"
      ],
      "metadata": {
        "colab": {
          "base_uri": "https://localhost:8080/"
        },
        "id": "Gfxxbh_bdtqX",
        "outputId": "e4ca8e32-9b81-4606-9fb2-b3ab5bd855ff"
      },
      "execution_count": null,
      "outputs": [
        {
          "output_type": "execute_result",
          "data": {
            "text/plain": [
              "0.9992798784478967"
            ]
          },
          "metadata": {},
          "execution_count": 30
        }
      ]
    },
    {
      "cell_type": "code",
      "source": [
        "roc_auc_score(y_test, preds_test) #Su score en test es 0.999171303175798"
      ],
      "metadata": {
        "colab": {
          "base_uri": "https://localhost:8080/"
        },
        "id": "PgV-aH8Fd-k4",
        "outputId": "e34a4f1b-a1f0-4f37-cce8-645bfa24b5da"
      },
      "execution_count": null,
      "outputs": [
        {
          "output_type": "execute_result",
          "data": {
            "text/plain": [
              "0.999171303175798"
            ]
          },
          "metadata": {},
          "execution_count": 31
        }
      ]
    }
  ]
}